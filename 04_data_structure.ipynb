{
 "cells": [
  {
   "cell_type": "code",
   "execution_count": 1,
   "id": "2a085297-c6cc-4bbf-8c4b-17d0c29ddde8",
   "metadata": {
    "tags": []
   },
   "outputs": [
    {
     "data": {
      "text/plain": [
       "['__add__',\n",
       " '__class__',\n",
       " '__contains__',\n",
       " '__delattr__',\n",
       " '__dir__',\n",
       " '__doc__',\n",
       " '__eq__',\n",
       " '__format__',\n",
       " '__ge__',\n",
       " '__getattribute__',\n",
       " '__getitem__',\n",
       " '__getnewargs__',\n",
       " '__gt__',\n",
       " '__hash__',\n",
       " '__init__',\n",
       " '__init_subclass__',\n",
       " '__iter__',\n",
       " '__le__',\n",
       " '__len__',\n",
       " '__lt__',\n",
       " '__mod__',\n",
       " '__mul__',\n",
       " '__ne__',\n",
       " '__new__',\n",
       " '__reduce__',\n",
       " '__reduce_ex__',\n",
       " '__repr__',\n",
       " '__rmod__',\n",
       " '__rmul__',\n",
       " '__setattr__',\n",
       " '__sizeof__',\n",
       " '__str__',\n",
       " '__subclasshook__',\n",
       " 'capitalize',\n",
       " 'casefold',\n",
       " 'center',\n",
       " 'count',\n",
       " 'encode',\n",
       " 'endswith',\n",
       " 'expandtabs',\n",
       " 'find',\n",
       " 'format',\n",
       " 'format_map',\n",
       " 'index',\n",
       " 'isalnum',\n",
       " 'isalpha',\n",
       " 'isascii',\n",
       " 'isdecimal',\n",
       " 'isdigit',\n",
       " 'isidentifier',\n",
       " 'islower',\n",
       " 'isnumeric',\n",
       " 'isprintable',\n",
       " 'isspace',\n",
       " 'istitle',\n",
       " 'isupper',\n",
       " 'join',\n",
       " 'ljust',\n",
       " 'lower',\n",
       " 'lstrip',\n",
       " 'maketrans',\n",
       " 'partition',\n",
       " 'removeprefix',\n",
       " 'removesuffix',\n",
       " 'replace',\n",
       " 'rfind',\n",
       " 'rindex',\n",
       " 'rjust',\n",
       " 'rpartition',\n",
       " 'rsplit',\n",
       " 'rstrip',\n",
       " 'split',\n",
       " 'splitlines',\n",
       " 'startswith',\n",
       " 'strip',\n",
       " 'swapcase',\n",
       " 'title',\n",
       " 'translate',\n",
       " 'upper',\n",
       " 'zfill']"
      ]
     },
     "execution_count": 1,
     "metadata": {},
     "output_type": "execute_result"
    }
   ],
   "source": [
    "dir('hello')"
   ]
  },
  {
   "cell_type": "markdown",
   "id": "ce1e9090-d1d5-473c-a882-619a65dfe275",
   "metadata": {},
   "source": [
    "# 1. String methods\n",
    "\n",
    "1. immutable"
   ]
  },
  {
   "cell_type": "markdown",
   "id": "5a81b80a-5e33-4472-87c7-f3bce8d58ffc",
   "metadata": {
    "tags": []
   },
   "source": [
    "a = 'hello'\n",
    "a[0] = 'H'\n",
    "\n",
    "에러 발생"
   ]
  },
  {
   "cell_type": "code",
   "execution_count": 4,
   "id": "10ba1481-345f-41b5-b7f9-54f273723655",
   "metadata": {
    "tags": []
   },
   "outputs": [
    {
     "data": {
      "text/plain": [
       "'Hello'"
      ]
     },
     "execution_count": 4,
     "metadata": {},
     "output_type": "execute_result"
    }
   ],
   "source": [
    "a = 'hello'\n",
    "a.capitalize()"
   ]
  },
  {
   "cell_type": "code",
   "execution_count": 5,
   "id": "0a705a79-94f2-4848-9a99-a487ce80a01f",
   "metadata": {
    "tags": []
   },
   "outputs": [
    {
     "name": "stdout",
     "output_type": "stream",
     "text": [
      "hello\n"
     ]
    }
   ],
   "source": [
    "print(a)"
   ]
  },
  {
   "cell_type": "markdown",
   "id": "ec8cc87c-6ba6-40e8-8e3c-566731bffae2",
   "metadata": {},
   "source": [
    "### title"
   ]
  },
  {
   "cell_type": "code",
   "execution_count": 7,
   "id": "6cc9727b-311f-4df7-bada-e891cd0b3cbc",
   "metadata": {
    "tags": []
   },
   "outputs": [
    {
     "data": {
      "text/plain": [
       "'Hello I Am Dh K'"
      ]
     },
     "execution_count": 7,
     "metadata": {},
     "output_type": "execute_result"
    }
   ],
   "source": [
    "a = 'hello i am dh k'\n",
    "a.title()"
   ]
  },
  {
   "cell_type": "markdown",
   "id": "f64406f2-103a-41fa-8ff7-8ff5fd9e5d92",
   "metadata": {},
   "source": [
    "### ''.join(iterable)"
   ]
  },
  {
   "cell_type": "code",
   "execution_count": 11,
   "id": "b6d39059-ede1-4076-a410-6ada9a1d0364",
   "metadata": {
    "tags": []
   },
   "outputs": [
    {
     "data": {
      "text/plain": [
       "'himyname'"
      ]
     },
     "execution_count": 11,
     "metadata": {},
     "output_type": "execute_result"
    }
   ],
   "source": [
    "my_list = ['hi', 'my', 'name']\n",
    "\n",
    "('').join(my_list)"
   ]
  },
  {
   "cell_type": "markdown",
   "id": "b2af0c1e-bda1-4797-b3a1-efdbffe3b017",
   "metadata": {
    "tags": []
   },
   "source": [
    "### replace(old, new[, count])"
   ]
  },
  {
   "cell_type": "code",
   "execution_count": 12,
   "id": "b2e4b560-fa65-4200-ac09-3322a0202d65",
   "metadata": {
    "tags": []
   },
   "outputs": [
    {
     "data": {
      "text/plain": [
       "'waaoooooooooooooow'"
      ]
     },
     "execution_count": 12,
     "metadata": {},
     "output_type": "execute_result"
    }
   ],
   "source": [
    "a = 'woooooooooooooooow'\n",
    "a.replace('o', 'a', 2)"
   ]
  },
  {
   "cell_type": "markdown",
   "id": "10855cd8-fe3e-4f42-adab-7e9417effc57",
   "metadata": {},
   "source": [
    "### .strip([char])"
   ]
  },
  {
   "cell_type": "code",
   "execution_count": 16,
   "id": "1cea004a-be11-447c-964c-2f7456fa60fc",
   "metadata": {
    "tags": []
   },
   "outputs": [
    {
     "name": "stdout",
     "output_type": "stream",
     "text": [
      "            hello\n",
      "        \n",
      "hello\n"
     ]
    }
   ],
   "source": [
    "my_string = '            hello\\n        '\n",
    "print(my_string)\n",
    "print(my_string.strip())"
   ]
  },
  {
   "cell_type": "code",
   "execution_count": 17,
   "id": "0b2123bc-8f79-468e-923d-fdf88948bd38",
   "metadata": {
    "tags": []
   },
   "outputs": [
    {
     "data": {
      "text/plain": [
       "'ello'"
      ]
     },
     "execution_count": 17,
     "metadata": {},
     "output_type": "execute_result"
    }
   ],
   "source": [
    "my_string2='hihihihihihihellohihihihihihihihihihihi'\n",
    "my_string2.strip('hi')"
   ]
  },
  {
   "cell_type": "markdown",
   "id": "70a877d0-32f1-47e6-9d78-42c4b0953f28",
   "metadata": {},
   "source": [
    "### .find(x)"
   ]
  },
  {
   "cell_type": "code",
   "execution_count": 18,
   "id": "f86c0818-52e8-4cf6-a0d7-215195595e24",
   "metadata": {
    "tags": []
   },
   "outputs": [
    {
     "name": "stdout",
     "output_type": "stream",
     "text": [
      "0\n"
     ]
    }
   ],
   "source": [
    "a = 'apple'\n",
    "print(a.find('a'))"
   ]
  },
  {
   "cell_type": "markdown",
   "id": "55fe28bc-45b8-4e36-ad1f-05bd949f5f01",
   "metadata": {},
   "source": [
    "### .index(x)"
   ]
  },
  {
   "cell_type": "code",
   "execution_count": 34,
   "id": "83d77a92-8a07-4107-9c41-521e40091c5f",
   "metadata": {
    "tags": []
   },
   "outputs": [
    {
     "name": "stdout",
     "output_type": "stream",
     "text": [
      "1\n"
     ]
    }
   ],
   "source": [
    "a = 'apple'\n",
    "print(a.index('p'))"
   ]
  },
  {
   "cell_type": "markdown",
   "id": "a91af524-eb1d-4741-8fa4-595dcd935de7",
   "metadata": {},
   "source": [
    "### .split(x)"
   ]
  },
  {
   "cell_type": "code",
   "execution_count": 20,
   "id": "21454ac7-a194-42d5-9213-9e317e932bfc",
   "metadata": {
    "tags": []
   },
   "outputs": [
    {
     "data": {
      "text/plain": [
       "['my_name_', 's_hong']"
      ]
     },
     "execution_count": 20,
     "metadata": {},
     "output_type": "execute_result"
    }
   ],
   "source": [
    "a = 'my_name_is_hong'\n",
    "a.split('i')"
   ]
  },
  {
   "cell_type": "markdown",
   "id": "50479e86-1d44-467b-9048-3cf5ad47ae9f",
   "metadata": {},
   "source": [
    "### .count(x)"
   ]
  },
  {
   "cell_type": "code",
   "execution_count": 21,
   "id": "b12385e7-2074-4749-bbf2-fe6d467f240e",
   "metadata": {
    "tags": []
   },
   "outputs": [
    {
     "data": {
      "text/plain": [
       "3"
      ]
     },
     "execution_count": 21,
     "metadata": {},
     "output_type": "execute_result"
    }
   ],
   "source": [
    "'wooow'.count('o')"
   ]
  },
  {
   "cell_type": "markdown",
   "id": "824a2fa9-e7d3-402a-887e-f2c8b0ee7947",
   "metadata": {},
   "source": [
    "# List methods\n",
    "\n",
    "mutable. 원본 자체를 수정"
   ]
  },
  {
   "cell_type": "code",
   "execution_count": 38,
   "id": "153f5141-3547-42c9-9f60-50f6c0ac745f",
   "metadata": {
    "tags": []
   },
   "outputs": [],
   "source": [
    "numbers = [1, 2, 2, 5, 2, 1, 6, 2, 4, 4,]"
   ]
  },
  {
   "cell_type": "markdown",
   "id": "a28f99bf-5b41-49f8-9125-7696800bb760",
   "metadata": {
    "tags": []
   },
   "source": [
    "### .append(x)"
   ]
  },
  {
   "cell_type": "code",
   "execution_count": 39,
   "id": "ee85b3b4-725d-47b3-9378-08e54dd5bfc7",
   "metadata": {
    "tags": []
   },
   "outputs": [
    {
     "data": {
      "text/plain": [
       "[1, 2, 2, 5, 2, 1, 6, 2, 4, 4, 10]"
      ]
     },
     "execution_count": 39,
     "metadata": {},
     "output_type": "execute_result"
    }
   ],
   "source": [
    "numbers.append(10)\n",
    "\n",
    "numbers"
   ]
  },
  {
   "cell_type": "markdown",
   "id": "b7ca4b15-799a-4197-802f-e631e1313652",
   "metadata": {
    "tags": []
   },
   "source": [
    "### .extend(iterable)"
   ]
  },
  {
   "cell_type": "code",
   "execution_count": 40,
   "id": "f5c13c68-8dbb-446e-9a4a-2f630b6efce8",
   "metadata": {
    "tags": []
   },
   "outputs": [
    {
     "data": {
      "text/plain": [
       "[1, 2, 2, 5, 2, 1, 6, 2, 4, 4, 10, 99, 100]"
      ]
     },
     "execution_count": 40,
     "metadata": {},
     "output_type": "execute_result"
    }
   ],
   "source": [
    "a = [99, 100]\n",
    "numbers.extend(a)\n",
    "\n",
    "numbers"
   ]
  },
  {
   "cell_type": "markdown",
   "id": "e820702a-cdb6-43eb-a573-8ae53e53309e",
   "metadata": {
    "tags": []
   },
   "source": [
    "### .insert(idx, x)"
   ]
  },
  {
   "cell_type": "code",
   "execution_count": 41,
   "id": "7d77d83b-5164-4698-bc0b-8fcacb8f40cb",
   "metadata": {
    "tags": []
   },
   "outputs": [
    {
     "data": {
      "text/plain": [
       "[1, 2, 2, 3.5, 5, 2, 1, 6, 2, 4, 4, 10, 99, 100]"
      ]
     },
     "execution_count": 41,
     "metadata": {},
     "output_type": "execute_result"
    }
   ],
   "source": [
    "numbers.insert(3, 3.5)\n",
    "\n",
    "numbers"
   ]
  },
  {
   "cell_type": "code",
   "execution_count": 42,
   "id": "d0a663c6-57b1-4751-bf07-87a5dec72bfc",
   "metadata": {
    "tags": []
   },
   "outputs": [
    {
     "data": {
      "text/plain": [
       "[1, 2, 2, 5, 2, 1, 6, 2, 4, 4, 10, 99, 100]"
      ]
     },
     "execution_count": 42,
     "metadata": {},
     "output_type": "execute_result"
    }
   ],
   "source": [
    "### .remove(x)\n",
    "numbers.remove(3.5)\n",
    "numbers"
   ]
  },
  {
   "cell_type": "markdown",
   "id": "44408b18-5b8b-48e8-8856-a50d3c280599",
   "metadata": {},
   "source": [
    "### .pop([i])"
   ]
  },
  {
   "cell_type": "code",
   "execution_count": 45,
   "id": "ca705d8c-32bf-4e37-a86b-c7560703fcc7",
   "metadata": {
    "tags": []
   },
   "outputs": [
    {
     "name": "stdout",
     "output_type": "stream",
     "text": [
      "[1, 2, 2, 2, 2, 4, 4, 5, 6, 10, 99]\n"
     ]
    }
   ],
   "source": [
    "numbers.pop()\n",
    "print(numbers)"
   ]
  },
  {
   "cell_type": "code",
   "execution_count": 46,
   "id": "67f73115-4ae2-446e-9de9-622297c17edc",
   "metadata": {
    "tags": []
   },
   "outputs": [
    {
     "data": {
      "text/plain": [
       "[2, 2, 2, 2, 4, 4, 5, 6, 10, 99]"
      ]
     },
     "execution_count": 46,
     "metadata": {},
     "output_type": "execute_result"
    }
   ],
   "source": [
    "numbers.pop(0)\n",
    "numbers"
   ]
  },
  {
   "cell_type": "markdown",
   "id": "0faea37f-a42f-486c-aaf3-16a4c19c9a7d",
   "metadata": {},
   "source": [
    "### .sort()"
   ]
  },
  {
   "cell_type": "code",
   "execution_count": 44,
   "id": "cc8de911-2a3d-4057-accd-c0d807e9b98f",
   "metadata": {
    "tags": []
   },
   "outputs": [
    {
     "name": "stdout",
     "output_type": "stream",
     "text": [
      "[1, 1, 2, 2, 2, 2, 4, 4, 5, 6, 10, 99]\n"
     ]
    }
   ],
   "source": [
    "numbers.sort()\n",
    "print(numbers)"
   ]
  },
  {
   "cell_type": "markdown",
   "id": "433551f0-134b-4527-a0f8-a596d38ea2a9",
   "metadata": {},
   "source": [
    "### .reverse()"
   ]
  },
  {
   "cell_type": "code",
   "execution_count": 47,
   "id": "efdcb946-265e-497c-a55c-8182a2545cdb",
   "metadata": {
    "tags": []
   },
   "outputs": [
    {
     "data": {
      "text/plain": [
       "[99, 10, 6, 5, 4, 4, 2, 2, 2, 2]"
      ]
     },
     "execution_count": 47,
     "metadata": {},
     "output_type": "execute_result"
    }
   ],
   "source": [
    "numbers.reverse()\n",
    "numbers"
   ]
  },
  {
   "cell_type": "code",
   "execution_count": 48,
   "id": "400a6578-ee7e-4ea5-a62a-866f30b76895",
   "metadata": {
    "tags": []
   },
   "outputs": [],
   "source": [
    "numbers = numbers[::-1]"
   ]
  },
  {
   "cell_type": "code",
   "execution_count": 49,
   "id": "1be54812-9ec7-4a95-9d35-9b2e9f705f0f",
   "metadata": {
    "tags": []
   },
   "outputs": [
    {
     "data": {
      "text/plain": [
       "[2, 2, 2, 2, 4, 4, 5, 6, 10, 99]"
      ]
     },
     "execution_count": 49,
     "metadata": {},
     "output_type": "execute_result"
    }
   ],
   "source": [
    "numbers"
   ]
  },
  {
   "cell_type": "markdown",
   "id": "7f873177-4b50-465c-a5e1-3c8f9ab098f8",
   "metadata": {
    "tags": []
   },
   "source": [
    "# 2.1 List copy"
   ]
  },
  {
   "cell_type": "code",
   "execution_count": 51,
   "id": "d4a1da6d-42b8-4f3c-b1a6-3e56e8795963",
   "metadata": {
    "tags": []
   },
   "outputs": [],
   "source": [
    "origin_list = [1, 2, 3]"
   ]
  },
  {
   "cell_type": "code",
   "execution_count": 53,
   "id": "6829d777-2306-455a-800e-31f7db731bce",
   "metadata": {
    "tags": []
   },
   "outputs": [],
   "source": [
    "a = [1, 2, [3, 4]]\n",
    "b = a[:]\n",
    "\n",
    "b[2][0] = 100"
   ]
  },
  {
   "cell_type": "code",
   "execution_count": 54,
   "id": "771437f7-6294-41bc-b01f-1ebf0860bb95",
   "metadata": {
    "tags": []
   },
   "outputs": [
    {
     "name": "stdout",
     "output_type": "stream",
     "text": [
      "[1, 2, [100, 4]] [1, 2, [100, 4]]\n"
     ]
    }
   ],
   "source": [
    "print(a, b)"
   ]
  },
  {
   "cell_type": "code",
   "execution_count": 55,
   "id": "02a4ac55-038f-4e7e-b2e8-5738966170a4",
   "metadata": {
    "tags": []
   },
   "outputs": [
    {
     "name": "stdout",
     "output_type": "stream",
     "text": [
      "[1, 2, [3, 4]]\n",
      "[1, 2, [100, 4]]\n"
     ]
    }
   ],
   "source": [
    "import copy\n",
    "\n",
    "a = [1, 2, [3, 4]]\n",
    "b = copy.deepcopy(a)\n",
    "\n",
    "b[2][0] = 100\n",
    "\n",
    "print(a)\n",
    "print(b)"
   ]
  },
  {
   "cell_type": "markdown",
   "id": "6b1e9897-a95f-4493-80be-27f82f94b30a",
   "metadata": {
    "tags": []
   },
   "source": [
    "# 2.2 List comprehension"
   ]
  },
  {
   "cell_type": "code",
   "execution_count": 57,
   "id": "a39edbd6-a267-476d-9383-f957a9bad8f1",
   "metadata": {
    "tags": []
   },
   "outputs": [],
   "source": [
    "numbers = list(range(1, 11))"
   ]
  },
  {
   "cell_type": "code",
   "execution_count": 58,
   "id": "394cc3c6-a379-4fbf-a8cf-6707c839e2e0",
   "metadata": {
    "tags": []
   },
   "outputs": [
    {
     "data": {
      "text/plain": [
       "[1, 2, 3, 4, 5, 6, 7, 8, 9, 10]"
      ]
     },
     "execution_count": 58,
     "metadata": {},
     "output_type": "execute_result"
    }
   ],
   "source": [
    "numbers"
   ]
  },
  {
   "cell_type": "code",
   "execution_count": 60,
   "id": "98875af7-7b8d-475b-8ea6-60791286fcc7",
   "metadata": {
    "tags": []
   },
   "outputs": [],
   "source": [
    "result = []\n",
    "for number in numbers:\n",
    "\n",
    "    result.append(number**3)"
   ]
  },
  {
   "cell_type": "code",
   "execution_count": 61,
   "id": "3ac861fb-bf86-419b-9002-5282f57eff05",
   "metadata": {
    "tags": []
   },
   "outputs": [],
   "source": [
    "result2 = [num ** 3 for num in numbers]"
   ]
  },
  {
   "cell_type": "code",
   "execution_count": 62,
   "id": "6dee285f-a83f-4870-9a90-f80c8133e75b",
   "metadata": {
    "tags": []
   },
   "outputs": [
    {
     "data": {
      "text/plain": [
       "[1, 8, 27, 64, 125, 216, 343, 512, 729, 1000]"
      ]
     },
     "execution_count": 62,
     "metadata": {},
     "output_type": "execute_result"
    }
   ],
   "source": [
    "result2"
   ]
  },
  {
   "cell_type": "code",
   "execution_count": 63,
   "id": "ca6e23f8-d979-49c9-881a-9cb895f949fc",
   "metadata": {
    "tags": []
   },
   "outputs": [
    {
     "data": {
      "text/plain": [
       "[2, 4, 6, 8, 10]"
      ]
     },
     "execution_count": 63,
     "metadata": {},
     "output_type": "execute_result"
    }
   ],
   "source": [
    "even_list = []\n",
    "\n",
    "for i in numbers:\n",
    "    if i % 2 == 0:\n",
    "        even_list.append(i)\n",
    "        \n",
    "even_list"
   ]
  },
  {
   "cell_type": "code",
   "execution_count": 66,
   "id": "7bd80b08-1e1a-4d31-b302-466b46ec294d",
   "metadata": {
    "collapsed": true,
    "jupyter": {
     "outputs_hidden": true
    },
    "tags": []
   },
   "outputs": [
    {
     "data": {
      "text/plain": [
       "[2, 4, 6, 8, 10]"
      ]
     },
     "execution_count": 66,
     "metadata": {},
     "output_type": "execute_result"
    }
   ],
   "source": [
    "even_list2 = [num for num in numbers if num % 2 == 0]\n",
    "\n",
    "even_list2"
   ]
  },
  {
   "cell_type": "code",
   "execution_count": 67,
   "id": "20aa4f2b-315d-4217-abde-2953bfcc4185",
   "metadata": {
    "tags": []
   },
   "outputs": [],
   "source": [
    "words = 'my name is dohyeong kim'\n",
    "vowers = 'aeiou'"
   ]
  },
  {
   "cell_type": "code",
   "execution_count": 70,
   "id": "bd9d305c-74d2-4cdb-90b5-4070b71e32df",
   "metadata": {
    "tags": []
   },
   "outputs": [],
   "source": [
    "conson = ''.join([char for char in words if char not in vowers])"
   ]
  },
  {
   "cell_type": "code",
   "execution_count": 71,
   "id": "e9c38a75-8963-493a-8020-cf498e43f5c8",
   "metadata": {
    "tags": []
   },
   "outputs": [
    {
     "data": {
      "text/plain": [
       "'my nm s dhyng km'"
      ]
     },
     "execution_count": 71,
     "metadata": {},
     "output_type": "execute_result"
    }
   ],
   "source": [
    "conson"
   ]
  },
  {
   "cell_type": "code",
   "execution_count": 72,
   "id": "dfa9aca9-edf3-401e-876f-142f8e7ed248",
   "metadata": {
    "tags": []
   },
   "outputs": [],
   "source": [
    "conson2 = str()\n",
    "\n",
    "for i in words:\n",
    "    if i not in vowers:\n",
    "        conson2 += i"
   ]
  },
  {
   "cell_type": "code",
   "execution_count": 73,
   "id": "c9dc03da-d026-4576-b4bd-12d082df095e",
   "metadata": {
    "tags": []
   },
   "outputs": [
    {
     "data": {
      "text/plain": [
       "'my nm s dhyng km'"
      ]
     },
     "execution_count": 73,
     "metadata": {},
     "output_type": "execute_result"
    }
   ],
   "source": [
    "conson2"
   ]
  },
  {
   "cell_type": "markdown",
   "id": "75d15236-c86b-4d75-937c-8b44a7275048",
   "metadata": {},
   "source": [
    "#  3. Dictionary methods"
   ]
  },
  {
   "cell_type": "code",
   "execution_count": 16,
   "id": "347d483b-8465-4b83-ab5f-ba9a9c8e512d",
   "metadata": {
    "tags": []
   },
   "outputs": [],
   "source": [
    "info = {\n",
    "    'name' : 'dh',\n",
    "    'loc' : 'se'\n",
    "    \n",
    "}"
   ]
  },
  {
   "cell_type": "code",
   "execution_count": 17,
   "id": "3cc061eb-07cd-4761-bcc6-0dd230831748",
   "metadata": {
    "tags": []
   },
   "outputs": [
    {
     "data": {
      "text/plain": [
       "'dh'"
      ]
     },
     "execution_count": 17,
     "metadata": {},
     "output_type": "execute_result"
    }
   ],
   "source": [
    "info['name']"
   ]
  },
  {
   "cell_type": "code",
   "execution_count": 18,
   "id": "18b20b57-414d-4cfd-99de-1dc849ff2865",
   "metadata": {
    "tags": []
   },
   "outputs": [
    {
     "name": "stdout",
     "output_type": "stream",
     "text": [
      "kim\n"
     ]
    }
   ],
   "source": [
    "info['name']='kim'\n",
    "print(info['name'])"
   ]
  },
  {
   "cell_type": "markdown",
   "id": "a502b36c-0120-4ce4-a12d-0e547d3d2a23",
   "metadata": {},
   "source": [
    "### .pop()"
   ]
  },
  {
   "cell_type": "code",
   "execution_count": 19,
   "id": "9ec219cc-73c8-4833-853a-6925b8855c32",
   "metadata": {
    "tags": []
   },
   "outputs": [
    {
     "data": {
      "text/plain": [
       "{'name': 'kim'}"
      ]
     },
     "execution_count": 19,
     "metadata": {},
     "output_type": "execute_result"
    }
   ],
   "source": [
    "info.pop('loc')\n",
    "info"
   ]
  },
  {
   "cell_type": "code",
   "execution_count": 20,
   "id": "76ee7491-5a91-46d5-ad85-67a3d185853f",
   "metadata": {
    "tags": []
   },
   "outputs": [
    {
     "name": "stdout",
     "output_type": "stream",
     "text": [
      "None\n"
     ]
    }
   ],
   "source": [
    "print(info.pop('loc', None))"
   ]
  },
  {
   "cell_type": "code",
   "execution_count": 21,
   "id": "ea839154-66a4-4df1-b332-f5d59ef77535",
   "metadata": {
    "tags": []
   },
   "outputs": [
    {
     "data": {
      "text/plain": [
       "{'name': 'kim'}"
      ]
     },
     "execution_count": 21,
     "metadata": {},
     "output_type": "execute_result"
    }
   ],
   "source": [
    "info"
   ]
  },
  {
   "cell_type": "markdown",
   "id": "725f9f1e-5fa3-4a93-afb8-a1fbefc16400",
   "metadata": {},
   "source": [
    "### .update(key=value)"
   ]
  },
  {
   "cell_type": "code",
   "execution_count": 22,
   "id": "61404b47-7c67-45c0-8c8b-c998c19e6bf2",
   "metadata": {
    "tags": []
   },
   "outputs": [
    {
     "data": {
      "text/plain": [
       "{'name': 'dohyeong'}"
      ]
     },
     "execution_count": 22,
     "metadata": {},
     "output_type": "execute_result"
    }
   ],
   "source": [
    "info.update(name = 'dohyeong')\n",
    "info"
   ]
  },
  {
   "cell_type": "markdown",
   "id": "2a01b5ef-fc44-4156-a70c-2c6a42af7f72",
   "metadata": {
    "tags": []
   },
   "source": [
    "### .get(key[, default])"
   ]
  },
  {
   "cell_type": "code",
   "execution_count": 24,
   "id": "e1536420-4ced-40cf-a4da-d94e7cf3bd54",
   "metadata": {
    "tags": []
   },
   "outputs": [
    {
     "data": {
      "text/plain": [
       "'dohyeong'"
      ]
     },
     "execution_count": 24,
     "metadata": {},
     "output_type": "execute_result"
    }
   ],
   "source": [
    "info.get('name')"
   ]
  },
  {
   "cell_type": "code",
   "execution_count": 25,
   "id": "34203832-86d4-4237-a28c-d63b00ba0776",
   "metadata": {
    "tags": []
   },
   "outputs": [
    {
     "name": "stdout",
     "output_type": "stream",
     "text": [
      "None\n"
     ]
    }
   ],
   "source": [
    "# 없는 데이터를 시도하면 None을 출력. 키 입력으로 시도하면 에러 출력\n",
    "print(info.get('school'))"
   ]
  },
  {
   "cell_type": "code",
   "execution_count": 28,
   "id": "b9565f37-c7d2-4dab-866a-4ab5e64206d5",
   "metadata": {
    "tags": []
   },
   "outputs": [
    {
     "data": {
      "text/plain": [
       "{'name': 'dohyeong'}"
      ]
     },
     "execution_count": 28,
     "metadata": {},
     "output_type": "execute_result"
    }
   ],
   "source": [
    "# 없는 데이터에 특정 값을 출력하는것도 가능. 데이터값이 있다면 기존 데이터값 출력\n",
    "info.get('school', 123)\n",
    "info"
   ]
  },
  {
   "cell_type": "code",
   "execution_count": 29,
   "id": "e8ad870a-a98f-497c-aeb6-1eb783137c1b",
   "metadata": {
    "tags": []
   },
   "outputs": [
    {
     "data": {
      "text/plain": [
       "'dohyeong'"
      ]
     },
     "execution_count": 29,
     "metadata": {},
     "output_type": "execute_result"
    }
   ],
   "source": [
    "info.get('name', 123)"
   ]
  },
  {
   "cell_type": "markdown",
   "id": "7a2e82e4-06b1-4ca3-a990-35e4d382250a",
   "metadata": {},
   "source": [
    "# 3.1 Dict comprehension"
   ]
  },
  {
   "cell_type": "code",
   "execution_count": 30,
   "id": "aab79689-887a-4f70-ac7b-6562269c62be",
   "metadata": {
    "tags": []
   },
   "outputs": [],
   "source": [
    "# {1: 3, 2: 8 3: 27}"
   ]
  },
  {
   "cell_type": "code",
   "execution_count": 31,
   "id": "f22207ae-bc81-40e4-9b14-cdf541cc2abe",
   "metadata": {
    "tags": []
   },
   "outputs": [],
   "source": [
    "cube_dict = {\n",
    "    \n",
    "}\n",
    "for i in range(1, 4):\n",
    "    cube_dict[i] = i**3"
   ]
  },
  {
   "cell_type": "code",
   "execution_count": 32,
   "id": "4f17cf6e-caf2-42b0-9ad3-7a7c95a2890d",
   "metadata": {
    "tags": []
   },
   "outputs": [
    {
     "data": {
      "text/plain": [
       "{1: 1, 2: 8, 3: 27}"
      ]
     },
     "execution_count": 32,
     "metadata": {},
     "output_type": "execute_result"
    }
   ],
   "source": [
    "cube_dict"
   ]
  },
  {
   "cell_type": "code",
   "execution_count": 33,
   "id": "fc1ac45b-d2c1-4be2-9dbb-8aa4cce247a7",
   "metadata": {
    "tags": []
   },
   "outputs": [
    {
     "data": {
      "text/plain": [
       "{1: 1, 2: 8, 3: 27}"
      ]
     },
     "execution_count": 33,
     "metadata": {},
     "output_type": "execute_result"
    }
   ],
   "source": [
    "cube_dict2 = {i: i**3 for i in range(1, 4)}\n",
    "cube_dict2"
   ]
  },
  {
   "cell_type": "code",
   "execution_count": 34,
   "id": "40b8f0d4-5c1f-45fa-a9b9-759acf271a17",
   "metadata": {
    "tags": []
   },
   "outputs": [],
   "source": [
    "\n",
    "dust = {\n",
    "    'se' : 100,\n",
    "    'dg' : 30,\n",
    "    'dj' : 10,\n",
    "    'bs' : 80,\n",
    "    'gj' : 50,\n",
    "}"
   ]
  },
  {
   "cell_type": "code",
   "execution_count": 45,
   "id": "76c91ffa-3b31-45b4-bd11-913677235c9c",
   "metadata": {
    "tags": []
   },
   "outputs": [],
   "source": [
    "dust2 = {i:dust[i] for i in dust if dust[i] >= 50}"
   ]
  },
  {
   "cell_type": "code",
   "execution_count": 46,
   "id": "7872eb54-dcbc-4e34-80e8-00a91ba3baf6",
   "metadata": {
    "tags": []
   },
   "outputs": [
    {
     "data": {
      "text/plain": [
       "{'se': 100, 'bs': 80, 'gj': 50}"
      ]
     },
     "execution_count": 46,
     "metadata": {},
     "output_type": "execute_result"
    }
   ],
   "source": [
    "dust2"
   ]
  },
  {
   "cell_type": "code",
   "execution_count": 42,
   "id": "cf7f779e-9708-4f43-958a-afe866612ab3",
   "metadata": {
    "tags": []
   },
   "outputs": [],
   "source": [
    "dust3 = {}\n",
    "for i in dust:\n",
    "    if dust[i] >= 50:\n",
    "        dust3[i] = dust[i]"
   ]
  },
  {
   "cell_type": "code",
   "execution_count": 43,
   "id": "4ca64d8a-dbcb-4ada-8ee5-c9cd52481de1",
   "metadata": {
    "tags": []
   },
   "outputs": [
    {
     "data": {
      "text/plain": [
       "{'se': 100, 'bs': 80, 'gj': 50}"
      ]
     },
     "execution_count": 43,
     "metadata": {},
     "output_type": "execute_result"
    }
   ],
   "source": [
    "dust3"
   ]
  },
  {
   "cell_type": "code",
   "execution_count": 47,
   "id": "3111d727-232a-404c-8d50-62642efe757d",
   "metadata": {
    "tags": []
   },
   "outputs": [],
   "source": [
    "dust4 = {}\n",
    "for k, v in dust.items():\n",
    "    if v >= 50:\n",
    "        dust4[k] = v"
   ]
  },
  {
   "cell_type": "code",
   "execution_count": 48,
   "id": "ee97348a-7609-4ba3-a362-892af0bd6e4a",
   "metadata": {
    "tags": []
   },
   "outputs": [
    {
     "data": {
      "text/plain": [
       "{'se': 100, 'bs': 80, 'gj': 50}"
      ]
     },
     "execution_count": 48,
     "metadata": {},
     "output_type": "execute_result"
    }
   ],
   "source": [
    "dust4"
   ]
  },
  {
   "cell_type": "code",
   "execution_count": 50,
   "id": "2a743b7e-91b2-48e5-a4a1-a724c4441b3f",
   "metadata": {
    "tags": []
   },
   "outputs": [
    {
     "data": {
      "text/plain": [
       "{'se': 100, 'bs': 80, 'gj': 50}"
      ]
     },
     "execution_count": 50,
     "metadata": {},
     "output_type": "execute_result"
    }
   ],
   "source": [
    "dust5 = {k: v for k, v in dust.items() if v >= 50}\n",
    "dust5"
   ]
  },
  {
   "cell_type": "code",
   "execution_count": 51,
   "id": "559feadd-488c-4b06-8e36-9958fed3d2a7",
   "metadata": {
    "tags": []
   },
   "outputs": [],
   "source": [
    "dust6 = {k: 'bad' for k, v in dust.items() if v>= 50}"
   ]
  },
  {
   "cell_type": "code",
   "execution_count": 52,
   "id": "348f78e0-e0f5-4d8f-b1d5-86ce32f2546b",
   "metadata": {
    "tags": []
   },
   "outputs": [
    {
     "data": {
      "text/plain": [
       "{'se': 'bad', 'bs': 'bad', 'gj': 'bad'}"
      ]
     },
     "execution_count": 52,
     "metadata": {},
     "output_type": "execute_result"
    }
   ],
   "source": [
    "dust6"
   ]
  },
  {
   "cell_type": "markdown",
   "id": "4d9844f1-1470-4fa3-9d3e-56c31e1ec53d",
   "metadata": {},
   "source": [
    "# 4. Set methods"
   ]
  },
  {
   "cell_type": "code",
   "execution_count": 53,
   "id": "f88adc08-a3be-48e5-adbd-c1b7b2dd622b",
   "metadata": {
    "tags": []
   },
   "outputs": [],
   "source": [
    "fruits = {'apple', 'banana', 'melon'}"
   ]
  },
  {
   "cell_type": "code",
   "execution_count": null,
   "id": "0c4eb5ae-5a13-4aa8-87fb-5bf62e35524b",
   "metadata": {},
   "outputs": [],
   "source": [
    "### .add()\n",
    "특정 값을 추가"
   ]
  },
  {
   "cell_type": "code",
   "execution_count": 54,
   "id": "fef84b2e-3119-4089-a9f4-fa4997f8d444",
   "metadata": {
    "tags": []
   },
   "outputs": [
    {
     "data": {
      "text/plain": [
       "{'apple', 'banana', 'melon', 'watermelon'}"
      ]
     },
     "execution_count": 54,
     "metadata": {},
     "output_type": "execute_result"
    }
   ],
   "source": [
    "# .add(x)\n",
    "fruits.add('watermelon')\n",
    "fruits"
   ]
  },
  {
   "cell_type": "code",
   "execution_count": 55,
   "id": "b6ef64ce-3faa-47f8-b806-2c209611485b",
   "metadata": {
    "tags": []
   },
   "outputs": [
    {
     "data": {
      "text/plain": [
       "{'apple', 'banana', 'melon', 'watermelon'}"
      ]
     },
     "execution_count": 55,
     "metadata": {},
     "output_type": "execute_result"
    }
   ],
   "source": [
    "fruits.add('watermelon')\n",
    "fruits"
   ]
  },
  {
   "cell_type": "code",
   "execution_count": null,
   "id": "551df6c5-e544-43c8-9a97-b9e50827fdab",
   "metadata": {},
   "outputs": [],
   "source": [
    "### .update()\n",
    "특정 값(들)을 업데이트\n",
    "대괄호로 묶어서 업데이트해야 제대로 업데이트됨"
   ]
  },
  {
   "cell_type": "code",
   "execution_count": 56,
   "id": "00a4b606-be2a-4bb3-8185-5268c65037bf",
   "metadata": {
    "tags": []
   },
   "outputs": [
    {
     "data": {
      "text/plain": [
       "{'a', 'apple', 'banana', 'e', 'g', 'melon', 'p', 'r', 'watermelon'}"
      ]
     },
     "execution_count": 56,
     "metadata": {},
     "output_type": "execute_result"
    }
   ],
   "source": [
    "fruits.update('grape')\n",
    "fruits"
   ]
  },
  {
   "cell_type": "code",
   "execution_count": 57,
   "id": "0419228a-69e3-4585-beb8-091a3501baef",
   "metadata": {
    "tags": []
   },
   "outputs": [],
   "source": [
    "fruits.update({'orange', 'pear'})"
   ]
  },
  {
   "cell_type": "code",
   "execution_count": 58,
   "id": "f2ff76dd-3d27-4cb4-bf5f-ee0419f6d76b",
   "metadata": {
    "tags": []
   },
   "outputs": [
    {
     "data": {
      "text/plain": [
       "{'a',\n",
       " 'apple',\n",
       " 'banana',\n",
       " 'e',\n",
       " 'g',\n",
       " 'melon',\n",
       " 'orange',\n",
       " 'p',\n",
       " 'pear',\n",
       " 'r',\n",
       " 'watermelon'}"
      ]
     },
     "execution_count": 58,
     "metadata": {},
     "output_type": "execute_result"
    }
   ],
   "source": [
    "fruits"
   ]
  },
  {
   "cell_type": "code",
   "execution_count": 59,
   "id": "d1237a11-d478-4c53-a807-6a95a52fa262",
   "metadata": {
    "tags": []
   },
   "outputs": [],
   "source": [
    "fruits.update({'grape'})"
   ]
  },
  {
   "cell_type": "code",
   "execution_count": 60,
   "id": "20c415d2-37ca-4e83-b39a-dbea5e3f10d1",
   "metadata": {
    "tags": []
   },
   "outputs": [
    {
     "data": {
      "text/plain": [
       "{'a',\n",
       " 'apple',\n",
       " 'banana',\n",
       " 'e',\n",
       " 'g',\n",
       " 'grape',\n",
       " 'melon',\n",
       " 'orange',\n",
       " 'p',\n",
       " 'pear',\n",
       " 'r',\n",
       " 'watermelon'}"
      ]
     },
     "execution_count": 60,
     "metadata": {},
     "output_type": "execute_result"
    }
   ],
   "source": [
    "fruits"
   ]
  },
  {
   "cell_type": "markdown",
   "id": "bf9be6e0-2845-4abd-9804-e12281f89ac2",
   "metadata": {},
   "source": [
    "### .remove()\n",
    "특정 값을 제거. "
   ]
  },
  {
   "cell_type": "code",
   "execution_count": 61,
   "id": "952cafe2-3edb-4ee1-9acb-b4a8417c058f",
   "metadata": {
    "tags": []
   },
   "outputs": [],
   "source": [
    "fruits.remove('orange')"
   ]
  },
  {
   "cell_type": "code",
   "execution_count": 62,
   "id": "e641e605-ac07-47f3-b053-c1e7e7427a90",
   "metadata": {
    "tags": []
   },
   "outputs": [
    {
     "data": {
      "text/plain": [
       "{'a',\n",
       " 'apple',\n",
       " 'banana',\n",
       " 'e',\n",
       " 'g',\n",
       " 'grape',\n",
       " 'melon',\n",
       " 'p',\n",
       " 'pear',\n",
       " 'r',\n",
       " 'watermelon'}"
      ]
     },
     "execution_count": 62,
     "metadata": {},
     "output_type": "execute_result"
    }
   ],
   "source": [
    "fruits"
   ]
  },
  {
   "cell_type": "code",
   "execution_count": null,
   "id": "608387d0-dd42-4b7b-a4e1-da72fe532e27",
   "metadata": {},
   "outputs": [],
   "source": [
    "### .pop()\n",
    "무작위로 set에서 제거"
   ]
  },
  {
   "cell_type": "code",
   "execution_count": 63,
   "id": "ec28ffa0-c132-490c-b310-ee1f5545ae91",
   "metadata": {
    "tags": []
   },
   "outputs": [
    {
     "data": {
      "text/plain": [
       "'watermelon'"
      ]
     },
     "execution_count": 63,
     "metadata": {},
     "output_type": "execute_result"
    }
   ],
   "source": [
    "fruits.pop()"
   ]
  },
  {
   "cell_type": "code",
   "execution_count": 64,
   "id": "52d35262-8bbb-4ca9-8ec9-d8c8b9442bc4",
   "metadata": {
    "tags": []
   },
   "outputs": [
    {
     "data": {
      "text/plain": [
       "{'a', 'apple', 'banana', 'e', 'g', 'grape', 'melon', 'p', 'pear', 'r'}"
      ]
     },
     "execution_count": 64,
     "metadata": {},
     "output_type": "execute_result"
    }
   ],
   "source": [
    "fruits"
   ]
  },
  {
   "cell_type": "code",
   "execution_count": 65,
   "id": "edfd4383-cf47-420f-a85b-19436214a6ef",
   "metadata": {
    "tags": []
   },
   "outputs": [
    {
     "data": {
      "text/plain": [
       "'g'"
      ]
     },
     "execution_count": 65,
     "metadata": {},
     "output_type": "execute_result"
    }
   ],
   "source": [
    "fruits.pop()"
   ]
  },
  {
   "cell_type": "markdown",
   "id": "71fccb69-bfd9-4717-881c-9e0eb869516a",
   "metadata": {},
   "source": [
    "# 5. map(), zip(), filter()"
   ]
  },
  {
   "cell_type": "markdown",
   "id": "e01c73a2-6bd7-4beb-bf14-0df68cd6f3d0",
   "metadata": {
    "tags": []
   },
   "source": [
    "### 5.1 map()\n",
    "map(function, iterable)"
   ]
  },
  {
   "cell_type": "code",
   "execution_count": 69,
   "id": "5d8ed2c3-0a40-4b12-9226-c72e0e072b28",
   "metadata": {
    "tags": []
   },
   "outputs": [
    {
     "name": "stdout",
     "output_type": "stream",
     "text": [
      "<map object at 0x0000026197D61970>\n",
      "['1', '2', '3']\n"
     ]
    }
   ],
   "source": [
    "# function을 적용하여 iterable을 받아 반환\n",
    "\n",
    "a = [1, 2, 3]\n",
    "num_str = map(str, a)\n",
    "print(num_str)\n",
    "print(list(num_str))"
   ]
  },
  {
   "cell_type": "code",
   "execution_count": 72,
   "id": "3db1f7c8-8d4e-462d-aeca-d53f7b9815f3",
   "metadata": {
    "tags": []
   },
   "outputs": [],
   "source": [
    "def cube(x):\n",
    "    return x**3"
   ]
  },
  {
   "cell_type": "code",
   "execution_count": 73,
   "id": "7aed69b4-6c98-46d4-8b76-93d34a1e7e49",
   "metadata": {
    "tags": []
   },
   "outputs": [
    {
     "data": {
      "text/plain": [
       "[1, 8, 27]"
      ]
     },
     "execution_count": 73,
     "metadata": {},
     "output_type": "execute_result"
    }
   ],
   "source": [
    "result = []\n",
    "for i in a:\n",
    "    result.append(cube(i))\n",
    "result"
   ]
  },
  {
   "cell_type": "code",
   "execution_count": 74,
   "id": "f7050ca3-5ea7-452f-93c7-82c5852edfb2",
   "metadata": {
    "tags": []
   },
   "outputs": [],
   "source": [
    "result2 = map(cube, a)"
   ]
  },
  {
   "cell_type": "code",
   "execution_count": 76,
   "id": "fde5ab26-060e-44be-bf1e-7064f5944d96",
   "metadata": {
    "tags": []
   },
   "outputs": [
    {
     "data": {
      "text/plain": [
       "[1, 8, 27]"
      ]
     },
     "execution_count": 76,
     "metadata": {},
     "output_type": "execute_result"
    }
   ],
   "source": [
    "list(result2)"
   ]
  },
  {
   "cell_type": "code",
   "execution_count": 80,
   "id": "099bf613-8a74-41b2-acaf-48690f87012c",
   "metadata": {
    "tags": []
   },
   "outputs": [
    {
     "name": "stdin",
     "output_type": "stream",
     "text": [
      " 1 2 3 4 5\n"
     ]
    },
    {
     "name": "stdout",
     "output_type": "stream",
     "text": [
      "[1, 2, 3, 4, 5]\n"
     ]
    }
   ],
   "source": [
    "numbers = list(map(int, input().split()))\n",
    "print(numbers)"
   ]
  },
  {
   "cell_type": "markdown",
   "id": "0962b450-fa6f-4b6e-b722-309cf9edff8a",
   "metadata": {
    "tags": []
   },
   "source": [
    "### 5.2 zip()\n",
    "\n",
    "순서대로 하나씩 합쳐서 튜플을 만들고 합쳐진 것들을 반환(리스트 변환 필요)"
   ]
  },
  {
   "cell_type": "code",
   "execution_count": 82,
   "id": "177624ad-b0e2-4955-9a30-c8ae456250b9",
   "metadata": {
    "tags": []
   },
   "outputs": [],
   "source": [
    "a = [1, 2, 3]\n",
    "b = [100, 200, 300]"
   ]
  },
  {
   "cell_type": "code",
   "execution_count": 83,
   "id": "1a6e80ee-b152-4ac5-81ba-501067f507a0",
   "metadata": {
    "tags": []
   },
   "outputs": [],
   "source": [
    "c = zip(a, b)"
   ]
  },
  {
   "cell_type": "code",
   "execution_count": 85,
   "id": "dde81d06-1edb-4b0e-a1df-22525d77d2a5",
   "metadata": {
    "tags": []
   },
   "outputs": [
    {
     "data": {
      "text/plain": [
       "[(1, 100), (2, 200), (3, 300)]"
      ]
     },
     "execution_count": 85,
     "metadata": {},
     "output_type": "execute_result"
    }
   ],
   "source": [
    "list(c)"
   ]
  },
  {
   "cell_type": "markdown",
   "id": "a763abc8-65c3-4fff-953b-06bd6025066e",
   "metadata": {},
   "source": [
    "### 5.3 filter()\n",
    "\n",
    "```python\n",
    "filter(function, iterable)\n",
    "```"
   ]
  },
  {
   "cell_type": "code",
   "execution_count": 87,
   "id": "2e3d75c1-7db7-4ab2-8a50-80f597e87603",
   "metadata": {
    "tags": []
   },
   "outputs": [],
   "source": [
    "def is_odd(x):\n",
    "    return bool(x%2)\n",
    "\n"
   ]
  },
  {
   "cell_type": "code",
   "execution_count": 88,
   "id": "57780f1a-5b82-4d53-ae74-f71d948e8235",
   "metadata": {
    "tags": []
   },
   "outputs": [],
   "source": [
    "numbers = [1, 2, 3, 4, 5]\n",
    "result = filter(is_odd, numbers)"
   ]
  },
  {
   "cell_type": "code",
   "execution_count": 90,
   "id": "ab63c08e-9b2f-411e-95fc-309c981da6a6",
   "metadata": {
    "tags": []
   },
   "outputs": [
    {
     "data": {
      "text/plain": [
       "[1, 3, 5]"
      ]
     },
     "execution_count": 90,
     "metadata": {},
     "output_type": "execute_result"
    }
   ],
   "source": [
    "list(result)"
   ]
  },
  {
   "cell_type": "code",
   "execution_count": null,
   "id": "ff1afd57-9f3f-4448-b2d2-f8d510f92707",
   "metadata": {},
   "outputs": [],
   "source": []
  }
 ],
 "metadata": {
  "kernelspec": {
   "display_name": "Python 3 (ipykernel)",
   "language": "python",
   "name": "python3"
  },
  "language_info": {
   "codemirror_mode": {
    "name": "ipython",
    "version": 3
   },
   "file_extension": ".py",
   "mimetype": "text/x-python",
   "name": "python",
   "nbconvert_exporter": "python",
   "pygments_lexer": "ipython3",
   "version": "3.9.7"
  }
 },
 "nbformat": 4,
 "nbformat_minor": 5
}
