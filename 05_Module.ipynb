{
 "cells": [
  {
   "cell_type": "markdown",
   "id": "4a490789-0949-4a43-b917-f5fb3e031175",
   "metadata": {},
   "source": [
    "# 1. Module"
   ]
  },
  {
   "cell_type": "markdown",
   "id": "e02538f9-a1e0-4e12-8f01-83f7e31a6436",
   "metadata": {},
   "source": [
    "import fibo\n",
    "fibo.fib_loop(n)\n",
    "fibo.fib_rec(n)"
   ]
  },
  {
   "cell_type": "markdown",
   "id": "1d707758-bb1c-4b62-9773-12d9d52c1fff",
   "metadata": {},
   "source": [
    "# 2. Package\n",
    "\n",
    "```python\n",
    "myPackage/\n",
    "    __init__.py\n",
    "    math/\n",
    "        i__init__.py\n",
    "        fibo.py\n",
    "        formula.py\n",
    "```\n",
    "\n",
    "패키지 내에 __init__.py가 있어야 패키지로 인식"
   ]
  },
  {
   "cell_type": "code",
   "execution_count": null,
   "id": "b3a56c38-ff4a-4414-8846-721dfd139ff9",
   "metadata": {
    "tags": []
   },
   "outputs": [],
   "source": [
    "import myPackage"
   ]
  },
  {
   "cell_type": "code",
   "execution_count": null,
   "id": "bb0ce4ff-90b3-4710-a55a-2a250e2d8159",
   "metadata": {
    "tags": []
   },
   "outputs": [],
   "source": [
    "print(myPackage)"
   ]
  },
  {
   "cell_type": "code",
   "execution_count": null,
   "id": "837fa493-15c2-4467-af34-b545e7b93feb",
   "metadata": {
    "tags": []
   },
   "outputs": [],
   "source": [
    "from myPackage.math import formula"
   ]
  },
  {
   "cell_type": "code",
   "execution_count": null,
   "id": "3de6636a-3712-446b-bb3b-178f8e6e0c21",
   "metadata": {
    "tags": []
   },
   "outputs": [],
   "source": [
    "formula.my_max(5, 3)"
   ]
  },
  {
   "cell_type": "code",
   "execution_count": null,
   "id": "608a53be-0587-40ca-9958-6d5e92a5c539",
   "metadata": {
    "tags": []
   },
   "outputs": [],
   "source": [
    "from myPackage.math import fibo"
   ]
  },
  {
   "cell_type": "code",
   "execution_count": null,
   "id": "4b643907-6184-44fd-b58d-86b214135026",
   "metadata": {
    "tags": []
   },
   "outputs": [],
   "source": [
    "fibo.fib_loop(6)"
   ]
  },
  {
   "cell_type": "code",
   "execution_count": null,
   "id": "55f022fb-ae12-4a49-a871-15c0bd9c3a14",
   "metadata": {
    "tags": []
   },
   "outputs": [],
   "source": [
    "from myPackage.math.fibo import *"
   ]
  },
  {
   "cell_type": "code",
   "execution_count": null,
   "id": "3b383614-6225-494d-baba-4360215faf4b",
   "metadata": {
    "tags": []
   },
   "outputs": [],
   "source": [
    "fib_loop(10)"
   ]
  },
  {
   "cell_type": "code",
   "execution_count": null,
   "id": "b2354479-bea3-4e93-97ef-4e7c3bebdc46",
   "metadata": {
    "tags": []
   },
   "outputs": [],
   "source": [
    "formula = 1234\n",
    "\n",
    "from myPackage.math import formula as f\n"
   ]
  },
  {
   "cell_type": "markdown",
   "id": "cfeded46-9df9-4cfb-a0cc-7f7bd5cf4144",
   "metadata": {},
   "source": [
    "# 3. Python Basic Embedded Libraries"
   ]
  },
  {
   "cell_type": "markdown",
   "id": "9829255c-cc79-4490-9097-0aab9ee8ddde",
   "metadata": {
    "tags": []
   },
   "source": [
    "## 3.1 math"
   ]
  },
  {
   "cell_type": "code",
   "execution_count": 2,
   "id": "b3d7aa93-b816-4edd-b05d-c7abac3dd727",
   "metadata": {
    "tags": []
   },
   "outputs": [],
   "source": [
    "import math"
   ]
  },
  {
   "cell_type": "code",
   "execution_count": 4,
   "id": "a4a0e5d7-a02d-442e-bc67-5969dbd5c0b1",
   "metadata": {
    "tags": []
   },
   "outputs": [
    {
     "data": {
      "text/plain": [
       "3.141592653589793"
      ]
     },
     "execution_count": 4,
     "metadata": {},
     "output_type": "execute_result"
    }
   ],
   "source": [
    "math.pi"
   ]
  },
  {
   "cell_type": "code",
   "execution_count": 6,
   "id": "c91bd013-2f38-4ec5-b4bf-544fad0f9814",
   "metadata": {
    "tags": []
   },
   "outputs": [
    {
     "data": {
      "text/plain": [
       "3"
      ]
     },
     "execution_count": 6,
     "metadata": {},
     "output_type": "execute_result"
    }
   ],
   "source": [
    "math.floor(math.pi)"
   ]
  },
  {
   "cell_type": "markdown",
   "id": "668d9437-49b5-470c-92f4-9e455325e0f8",
   "metadata": {},
   "source": [
    "## 3.2 random"
   ]
  },
  {
   "cell_type": "code",
   "execution_count": 7,
   "id": "f6292774-ed78-4fff-92ec-3b548a0dd71e",
   "metadata": {
    "tags": []
   },
   "outputs": [
    {
     "data": {
      "text/plain": [
       "0.02293457880838412"
      ]
     },
     "execution_count": 7,
     "metadata": {},
     "output_type": "execute_result"
    }
   ],
   "source": [
    "import random\n",
    "random.random()"
   ]
  },
  {
   "cell_type": "code",
   "execution_count": 8,
   "id": "c2ab28f6-5cc3-4449-86c3-94393b805c12",
   "metadata": {
    "tags": []
   },
   "outputs": [
    {
     "data": {
      "text/plain": [
       "5"
      ]
     },
     "execution_count": 8,
     "metadata": {},
     "output_type": "execute_result"
    }
   ],
   "source": [
    "random.randint(1, 10)"
   ]
  },
  {
   "cell_type": "code",
   "execution_count": 16,
   "id": "23522470-18e9-4228-8378-81d7d95ce755",
   "metadata": {
    "tags": []
   },
   "outputs": [
    {
     "data": {
      "text/plain": [
       "0.13436424411240122"
      ]
     },
     "execution_count": 16,
     "metadata": {},
     "output_type": "execute_result"
    }
   ],
   "source": [
    "# seed\n",
    "random.seed(1)\n",
    "random.random()"
   ]
  },
  {
   "cell_type": "code",
   "execution_count": 22,
   "id": "580da598-4a3a-46bd-ab55-6798a2565bae",
   "metadata": {
    "tags": []
   },
   "outputs": [
    {
     "name": "stdout",
     "output_type": "stream",
     "text": [
      "[3, 4, 2, 1, 5]\n"
     ]
    }
   ],
   "source": [
    "# shuffle\n",
    "a = [1, 2, 3, 4, 5]\n",
    "random.shuffle(a)\n",
    "print(a)"
   ]
  },
  {
   "cell_type": "code",
   "execution_count": 31,
   "id": "6239dc74-b508-4b67-bedd-5fd02bb52ee8",
   "metadata": {
    "tags": []
   },
   "outputs": [
    {
     "name": "stdout",
     "output_type": "stream",
     "text": [
      "1\n"
     ]
    }
   ],
   "source": [
    "# choice\n",
    "a = [1, 2, 3, 4, 5]\n",
    "print(random.choice(a))"
   ]
  },
  {
   "cell_type": "code",
   "execution_count": 38,
   "id": "7d561f52-8e7b-43f3-a2a6-1be0440c292b",
   "metadata": {
    "tags": []
   },
   "outputs": [
    {
     "data": {
      "text/plain": [
       "[43, 12, 24, 36, 45, 6]"
      ]
     },
     "execution_count": 38,
     "metadata": {},
     "output_type": "execute_result"
    }
   ],
   "source": [
    "# sample\n",
    "a = range(1, 46)\n",
    "random.sample(a, 6)"
   ]
  },
  {
   "cell_type": "markdown",
   "id": "35d428ad-9b81-4f58-bfea-5f8c6414f2b1",
   "metadata": {},
   "source": [
    "## 3.3 datetime"
   ]
  },
  {
   "cell_type": "code",
   "execution_count": 39,
   "id": "f47ebff7-0dac-47a5-91d0-cdbb46020e74",
   "metadata": {
    "tags": []
   },
   "outputs": [],
   "source": [
    "from datetime import datetime"
   ]
  },
  {
   "cell_type": "code",
   "execution_count": 40,
   "id": "6fc74374-bb89-4cd3-a545-e30e24b49e80",
   "metadata": {
    "tags": []
   },
   "outputs": [
    {
     "name": "stdout",
     "output_type": "stream",
     "text": [
      "2023-07-31 16:21:21.858420\n"
     ]
    }
   ],
   "source": [
    "now = datetime.now()\n",
    "print(now)"
   ]
  },
  {
   "cell_type": "code",
   "execution_count": 41,
   "id": "6a8dd645-adab-4141-84a2-c681f37a6554",
   "metadata": {
    "tags": []
   },
   "outputs": [
    {
     "name": "stdout",
     "output_type": "stream",
     "text": [
      "2023-07-31 16:21:30.111231\n"
     ]
    }
   ],
   "source": [
    "today = datetime.today()\n",
    "print(today)"
   ]
  },
  {
   "cell_type": "code",
   "execution_count": 42,
   "id": "d54a30f1-26d9-4687-8d11-ea3665942d77",
   "metadata": {
    "tags": []
   },
   "outputs": [],
   "source": [
    "utc = datetime.utcnow()"
   ]
  },
  {
   "cell_type": "code",
   "execution_count": 43,
   "id": "de274ce2-3ab0-4403-8bea-86219097ca2d",
   "metadata": {
    "tags": []
   },
   "outputs": [
    {
     "data": {
      "text/plain": [
       "datetime.datetime(2023, 7, 31, 7, 26, 1, 922438)"
      ]
     },
     "execution_count": 43,
     "metadata": {},
     "output_type": "execute_result"
    }
   ],
   "source": [
    "utc"
   ]
  },
  {
   "cell_type": "markdown",
   "id": "733f21a5-ddac-4fe2-88a7-761439fedaf4",
   "metadata": {},
   "source": [
    "```\n",
    "strftime = datetime=>string\n",
    "strptime = string=>datetime\n",
    "```"
   ]
  },
  {
   "cell_type": "code",
   "execution_count": 44,
   "id": "6e8d86d8-5653-4ba2-a022-32c6faf7d26e",
   "metadata": {
    "tags": []
   },
   "outputs": [
    {
     "data": {
      "text/plain": [
       "'2023/07/31'"
      ]
     },
     "execution_count": 44,
     "metadata": {},
     "output_type": "execute_result"
    }
   ],
   "source": [
    "now.strftime('%Y/%m/%d')"
   ]
  },
  {
   "cell_type": "code",
   "execution_count": 45,
   "id": "67c37d12-b895-4ed3-b5dd-d58cc8b3d25e",
   "metadata": {
    "tags": []
   },
   "outputs": [
    {
     "data": {
      "text/plain": [
       "0"
      ]
     },
     "execution_count": 45,
     "metadata": {},
     "output_type": "execute_result"
    }
   ],
   "source": [
    "#weekday => 0~6\n",
    "now.weekday()"
   ]
  },
  {
   "cell_type": "code",
   "execution_count": 54,
   "id": "82083a81-1f0d-43e4-a5e6-de72cb4feea3",
   "metadata": {
    "tags": []
   },
   "outputs": [],
   "source": [
    "day = datetime(2023, 1, 1)"
   ]
  },
  {
   "cell_type": "code",
   "execution_count": 48,
   "id": "20bc4df8-a18f-4595-bf6a-77c772076706",
   "metadata": {
    "tags": []
   },
   "outputs": [
    {
     "data": {
      "text/plain": [
       "'2023/01/01'"
      ]
     },
     "execution_count": 48,
     "metadata": {},
     "output_type": "execute_result"
    }
   ],
   "source": [
    "day.strftime('%Y/%m/%d')"
   ]
  },
  {
   "cell_type": "code",
   "execution_count": 49,
   "id": "245553b9-b083-435b-aecd-d8c8ae926861",
   "metadata": {
    "tags": []
   },
   "outputs": [],
   "source": [
    "# timedelta"
   ]
  },
  {
   "cell_type": "code",
   "execution_count": 50,
   "id": "0f19dceb-0a59-40b9-b5ac-6d53769ee95b",
   "metadata": {
    "tags": []
   },
   "outputs": [],
   "source": [
    "from datetime import timedelta"
   ]
  },
  {
   "cell_type": "code",
   "execution_count": 52,
   "id": "d97fd618-1184-46ab-bffd-5d6057526cc5",
   "metadata": {
    "tags": []
   },
   "outputs": [],
   "source": [
    "future = timedelta(days = 3)"
   ]
  },
  {
   "cell_type": "code",
   "execution_count": 56,
   "id": "1e0de42c-2a67-4249-bf5e-081d2e7a8f5e",
   "metadata": {
    "tags": []
   },
   "outputs": [
    {
     "name": "stdout",
     "output_type": "stream",
     "text": [
      "3 days, 0:00:00\n"
     ]
    }
   ],
   "source": [
    "print(future)"
   ]
  },
  {
   "cell_type": "code",
   "execution_count": 57,
   "id": "748ecd3c-214a-4962-a1e7-4321ffd07a41",
   "metadata": {
    "tags": []
   },
   "outputs": [],
   "source": [
    "day += future"
   ]
  },
  {
   "cell_type": "code",
   "execution_count": 58,
   "id": "1822275d-ff9d-4b08-a979-ef2208948201",
   "metadata": {
    "tags": []
   },
   "outputs": [
    {
     "data": {
      "text/plain": [
       "datetime.datetime(2023, 1, 4, 0, 0)"
      ]
     },
     "execution_count": 58,
     "metadata": {},
     "output_type": "execute_result"
    }
   ],
   "source": [
    "day"
   ]
  },
  {
   "cell_type": "code",
   "execution_count": 59,
   "id": "aab31cdc-238d-4238-b200-e84461955beb",
   "metadata": {
    "tags": []
   },
   "outputs": [],
   "source": [
    "christmas = datetime(2023, 12, 25)"
   ]
  },
  {
   "cell_type": "code",
   "execution_count": 60,
   "id": "04a8c8e1-4312-4f8f-9e3e-205d063973be",
   "metadata": {
    "tags": []
   },
   "outputs": [
    {
     "data": {
      "text/plain": [
       "datetime.timedelta(days=146, seconds=27518, microseconds=141580)"
      ]
     },
     "execution_count": 60,
     "metadata": {},
     "output_type": "execute_result"
    }
   ],
   "source": [
    "christmas - now"
   ]
  },
  {
   "cell_type": "code",
   "execution_count": null,
   "id": "e4e05b27-23cc-4507-8c87-4c23d9923f4a",
   "metadata": {},
   "outputs": [],
   "source": []
  }
 ],
 "metadata": {
  "kernelspec": {
   "display_name": "Python 3 (ipykernel)",
   "language": "python",
   "name": "python3"
  },
  "language_info": {
   "codemirror_mode": {
    "name": "ipython",
    "version": 3
   },
   "file_extension": ".py",
   "mimetype": "text/x-python",
   "name": "python",
   "nbconvert_exporter": "python",
   "pygments_lexer": "ipython3",
   "version": "3.9.7"
  }
 },
 "nbformat": 4,
 "nbformat_minor": 5
}
