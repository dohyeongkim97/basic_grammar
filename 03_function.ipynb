{
 "cells": [
  {
   "cell_type": "markdown",
   "id": "170b15fd-90a4-488a-b5ba-ba5860895aeb",
   "metadata": {},
   "source": [
    "# Function"
   ]
  },
  {
   "cell_type": "markdown",
   "id": "c5bb5c79-f2be-405a-84e9-c924610f99a9",
   "metadata": {},
   "source": [
    "선언과 호출\n",
    "\n",
    "```python\n",
    "def func_name(param1, param2, ...):\n",
    "    code1\n",
    "    code2\n",
    "    ...\n",
    "    return value\n",
    "```"
   ]
  },
  {
   "cell_type": "markdown",
   "id": "b27212e0-fe9a-4979-9e97-75d0a16be08f",
   "metadata": {},
   "source": [
    "- return을 만난다면 해당 값을 반환하고 함수를 종료\n",
    "- return이 없다면 None을 자동으로 반환"
   ]
  },
  {
   "cell_type": "code",
   "execution_count": null,
   "id": "c0934cbd-325b-4583-adbb-4261873fd3c2",
   "metadata": {
    "tags": []
   },
   "outputs": [],
   "source": [
    "height = 10\n",
    "width = 20\n",
    "\n",
    "# perimeter and area of a rectangle\n",
    "\n",
    "area = height * width\n",
    "perimeter = 2*(height + width)\n",
    "\n",
    "print('직사각형의 둘레는 {0}, 면적은 {1}'.format(perimeter, area))"
   ]
  },
  {
   "cell_type": "code",
   "execution_count": null,
   "id": "8d722f01-fa19-48ec-8f55-39877786999c",
   "metadata": {
    "tags": []
   },
   "outputs": [],
   "source": [
    "height2 = 50\n",
    "width = 80\n",
    "\n",
    "area = height * width\n",
    "perimeter = 2*(height + width)\n",
    "\n",
    "print('직사각형의 둘레는 {0}, 면적은 {1}'.format(perimeter, area))"
   ]
  },
  {
   "cell_type": "code",
   "execution_count": null,
   "id": "6e98629b-f180-4fdc-ad9c-615f4fa00a4a",
   "metadata": {
    "tags": []
   },
   "outputs": [],
   "source": [
    "def rectangle(height, width):\n",
    "    perimeter = 2*(height + width)\n",
    "    area = height * width\n",
    "    \n",
    "    print('직사각형의 둘레는 {0}, 면적은 {1} 입니다'.format(perimeter, area))\n",
    "    return perimeter, area"
   ]
  },
  {
   "cell_type": "code",
   "execution_count": null,
   "id": "5aacdfe8-273b-4a33-bc93-79a0b9105605",
   "metadata": {
    "tags": []
   },
   "outputs": [],
   "source": [
    "list[rectangle(20, 30)]"
   ]
  },
  {
   "cell_type": "code",
   "execution_count": null,
   "id": "d28310e5-825f-421d-80c7-80be4811e003",
   "metadata": {
    "tags": []
   },
   "outputs": [],
   "source": [
    "max(1, 5)"
   ]
  },
  {
   "cell_type": "code",
   "execution_count": null,
   "id": "d4678809-b331-4793-ba71-73b6cb47d567",
   "metadata": {
    "tags": []
   },
   "outputs": [],
   "source": [
    "def my_max(param1, param2):\n",
    "    if int(param1) > int(param2) : return param1\n",
    "    elif int(param1) < int(param2) : return param2\n",
    "    else : return 0\n",
    "my_max(1, 5)"
   ]
  },
  {
   "cell_type": "code",
   "execution_count": null,
   "id": "00603f5c-5467-4d7a-99a9-0a3dc30e7e61",
   "metadata": {
    "tags": []
   },
   "outputs": [],
   "source": [
    "my_max(5, 5)"
   ]
  },
  {
   "cell_type": "code",
   "execution_count": null,
   "id": "b2175a3e-2360-4019-998b-afcb75196055",
   "metadata": {
    "tags": []
   },
   "outputs": [],
   "source": [
    "result = my_max(1, 2)\n",
    "print(\"{}가 더 큽니다\".format(result))"
   ]
  },
  {
   "cell_type": "markdown",
   "id": "fbc12e57-927f-422e-80f3-78297891192e",
   "metadata": {
    "tags": []
   },
   "source": [
    "## 키워드 인자 리스트"
   ]
  },
  {
   "cell_type": "markdown",
   "id": "a9a74093-e0d9-443e-a332-b9e1d5f6f624",
   "metadata": {},
   "source": [
    "## 가변 인자 리스트\n",
    "```python\n",
    "def func(*params):\n",
    "    pass\n",
    "```"
   ]
  },
  {
   "cell_type": "code",
   "execution_count": null,
   "id": "4b1d8623-4e8f-4f19-9afd-5d9894030349",
   "metadata": {
    "tags": []
   },
   "outputs": [],
   "source": [
    "def my_print(*words):\n",
    "    print(words)\n",
    "    print(type(words))\n",
    "    \n",
    "my_print('hi', 'hello', '안녕', '하세요')"
   ]
  },
  {
   "cell_type": "code",
   "execution_count": null,
   "id": "dedfac52-b16b-4f7a-ad41-446d313cf8ba",
   "metadata": {
    "tags": []
   },
   "outputs": [],
   "source": [
    "def my_max(*nums):\n",
    "    print(nums)\n",
    "    result = nums[0]\n",
    "    \n",
    "    for num in nums:\n",
    "        if result < num:\n",
    "            print(result)\n",
    "            result = num\n",
    "            \n",
    "    return result"
   ]
  },
  {
   "cell_type": "code",
   "execution_count": null,
   "id": "fd78e3fb-38ad-4345-8e80-e34b3e9f429e",
   "metadata": {
    "tags": []
   },
   "outputs": [],
   "source": [
    "my_max(1, 5,2 ,6, 4, 7, 19 ,20, 65)"
   ]
  },
  {
   "cell_type": "markdown",
   "id": "85b41a8a-c551-4f64-9530-6ef8a69f6a61",
   "metadata": {},
   "source": [
    "## 정의되지 아니한 키워드 인자 처리하기\n",
    "```python\n",
    "def func(**kwargs):\n",
    "    pass\n",
    "```"
   ]
  },
  {
   "cell_type": "code",
   "execution_count": null,
   "id": "6030e692-bb02-4ec6-a064-d73e1181dbdc",
   "metadata": {
    "tags": []
   },
   "outputs": [],
   "source": [
    "info={\n",
    "    'name' : 'hong',\n",
    "    'age' : 20,\n",
    "    \n",
    "}"
   ]
  },
  {
   "cell_type": "code",
   "execution_count": null,
   "id": "4e2c4704-5f6d-401d-bd82-572b4ff441f9",
   "metadata": {
    "tags": []
   },
   "outputs": [],
   "source": [
    "info = dict(name = 'hong', age = 20)"
   ]
  },
  {
   "cell_type": "code",
   "execution_count": null,
   "id": "4817c9f3-0ede-429a-8615-f5cbdb45898e",
   "metadata": {
    "tags": []
   },
   "outputs": [],
   "source": [
    "def fake_dict(**kwargs):\n",
    "    for key, value in kwargs.items():\n",
    "        print('{0} is {1}'.format(key, value))\n",
    "\n",
    "fake_dict(korean = '안녕', english='hello')"
   ]
  },
  {
   "cell_type": "markdown",
   "id": "7f2f0fb4-c4b0-4ca4-8725-2a8aac9ab801",
   "metadata": {
    "tags": []
   },
   "source": [
    "## 딕셔너리를 인자로 넣기(unpacking)"
   ]
  },
  {
   "cell_type": "code",
   "execution_count": null,
   "id": "667a7202-f9f0-4de8-9e89-321c4d44769e",
   "metadata": {
    "tags": []
   },
   "outputs": [],
   "source": [
    "def sign_up(username, password, password_confirmation):\n",
    "    if password == password_confirmation:\n",
    "        print(f'{username} 님 회원가입이 완료되었습니다')\n",
    "    else:\n",
    "        print('비밀번호가 일치하지 않습니다')\n",
    "        \n",
    "sign_up('kdh', 'qwer', 'qwer')\n"
   ]
  },
  {
   "cell_type": "code",
   "execution_count": null,
   "id": "64262b41-4246-4452-9ece-260c49a97ce7",
   "metadata": {
    "tags": []
   },
   "outputs": [],
   "source": [
    "my_account = {\n",
    "    'username' : 'kdh',\n",
    "    'password' : 'qwer',\n",
    "    'password_confirmation' : 'qwer',\n",
    "}\n",
    "\n",
    "sign_up(**my_account)"
   ]
  },
  {
   "cell_type": "markdown",
   "id": "00dfc8bb-ca8c-484a-b285-8854a19d62b6",
   "metadata": {
    "tags": []
   },
   "source": [
    "## lambda expression\n",
    "\n",
    "이름 없이 바로 실행되는 함수\n",
    "\n",
    "lambda parameter: expression"
   ]
  },
  {
   "cell_type": "code",
   "execution_count": null,
   "id": "9d742b61-1f7e-4e08-ab90-d08841c71329",
   "metadata": {
    "tags": []
   },
   "outputs": [],
   "source": [
    "(lambda a, b: a+b)(1, 2)"
   ]
  },
  {
   "cell_type": "markdown",
   "id": "11781b89-7e2d-4848-b18a-77f88c724cbb",
   "metadata": {
    "tags": []
   },
   "source": [
    "## type hint"
   ]
  },
  {
   "cell_type": "code",
   "execution_count": null,
   "id": "5064bd0a-f48b-46ca-90a1-2c6b94fa8067",
   "metadata": {
    "tags": []
   },
   "outputs": [],
   "source": [
    "def my_sum(num1: int, num2: int) -> int:\n",
    "    '''\n",
    "    sum of two nunms.\n",
    "    arg : num1, num2, return : num1+num2\n",
    "    '''\n",
    "    return num1+num2\n",
    "\n",
    "my_sum(1, 2)"
   ]
  },
  {
   "cell_type": "markdown",
   "id": "d2f5a94d-2211-4874-81f5-788de18490ef",
   "metadata": {},
   "source": [
    "## 이름공간(scope)\n",
    "파이썬에서 사용하는 이름들은 namespace에 저장됨\n",
    "이름 중복이 일어날 때 파이썬이 이름을 찾는 방법\n",
    "\n",
    "LEGB Rule\n",
    "- Local Scope: 정의된 함수 내부\n",
    "- Enclosed Scope : 상위 함수\n",
    "- Global Scope : 함수 밖의 변수나 import된 모듈\n",
    "- Built-in Scope : 파이썬이 기본적으로 가진 함수나 변수"
   ]
  },
  {
   "cell_type": "code",
   "execution_count": null,
   "id": "409ab05b-4ada-4d03-a380-70cab7a8b1fe",
   "metadata": {
    "tags": []
   },
   "outputs": [],
   "source": [
    "a = 1\n",
    "def localscope(a):\n",
    "    print(a)\n",
    "    \n",
    "localscope(5)"
   ]
  },
  {
   "cell_type": "markdown",
   "id": "7a2f75c3-da4a-48e4-8055-c25277a08530",
   "metadata": {
    "tags": []
   },
   "source": [
    "## 재귀(reculsive)\n",
    "\n",
    "함수 내부에서 자기 자신을 호출하는 함수\n",
    "\n"
   ]
  },
  {
   "cell_type": "code",
   "execution_count": null,
   "id": "52b3899b-a2d4-4d4d-85f0-7fae31228d30",
   "metadata": {
    "tags": []
   },
   "outputs": [],
   "source": [
    "# factorial\n",
    "\n",
    "def facto(n):\n",
    "    if n==1:\n",
    "        return 1\n",
    "    return n * facto(n-1)    "
   ]
  },
  {
   "cell_type": "code",
   "execution_count": null,
   "id": "110ca290-63fb-4ab2-886f-d40621bd87ab",
   "metadata": {
    "tags": []
   },
   "outputs": [],
   "source": [
    "facto(5)"
   ]
  },
  {
   "cell_type": "code",
   "execution_count": null,
   "id": "940cf9ca-271f-4120-8276-34bf82e4decd",
   "metadata": {
    "tags": []
   },
   "outputs": [],
   "source": [
    "def fact(n):\n",
    "    result = 1\n",
    "    while n>1:\n",
    "        reseult = result*n\n",
    "        n -= 1\n",
    "        \n",
    "    return result"
   ]
  },
  {
   "cell_type": "code",
   "execution_count": null,
   "id": "81d98b2f-33f3-4c88-9b75-70552fd3d52d",
   "metadata": {
    "tags": []
   },
   "outputs": [],
   "source": [
    "#Fivonacci Sequence\n",
    "\n",
    "def fib_rec(n):\n",
    "    if n == 1:\n",
    "        return 0\n",
    "    if n == 2:\n",
    "        return 1\n",
    "    \n",
    "        \n",
    "    return  fib_rec(n-1) + fib_rec(n-2)\n",
    "    \n",
    "    "
   ]
  },
  {
   "cell_type": "code",
   "execution_count": 61,
   "id": "99729c08-5b70-45bd-924c-22381cde2604",
   "metadata": {
    "tags": []
   },
   "outputs": [],
   "source": [
    "def fs_loop(n):\n",
    "    \n",
    "    if n == 1:\n",
    "        return 0\n",
    "    if n == 2:\n",
    "        return 1\n",
    "\n",
    "    first = 0\n",
    "    \n",
    "    second = 1\n",
    "    \n",
    "    i = 1\n",
    "    while i <= n - 1:\n",
    "        first += second\n",
    "        second += first\n",
    "        i += 2\n",
    "        \n",
    "    if n % 2:\n",
    "        return second\n",
    "    else:\n",
    "        return first\n"
   ]
  },
  {
   "cell_type": "code",
   "execution_count": 67,
   "id": "39ce177b-ae50-4542-8e39-3f55f7064372",
   "metadata": {
    "tags": []
   },
   "outputs": [
    {
     "data": {
      "text/plain": [
       "21"
      ]
     },
     "execution_count": 67,
     "metadata": {},
     "output_type": "execute_result"
    }
   ],
   "source": [
    "fs_loop(8)"
   ]
  },
  {
   "cell_type": "code",
   "execution_count": 68,
   "id": "61f7d8fe-df1f-4fa0-9159-080766e39d6e",
   "metadata": {
    "tags": []
   },
   "outputs": [
    {
     "name": "stdout",
     "output_type": "stream",
     "text": [
      "0\n",
      "0\n",
      "1\n",
      "2\n",
      "3\n",
      "5\n",
      "8\n",
      "13\n",
      "21\n",
      "34\n",
      "55\n",
      "89\n",
      "144\n",
      "233\n",
      "377\n"
     ]
    }
   ],
   "source": [
    "for i in range(15):\n",
    "    print(fs_loop(i))"
   ]
  }
 ],
 "metadata": {
  "kernelspec": {
   "display_name": "Python 3 (ipykernel)",
   "language": "python",
   "name": "python3"
  },
  "language_info": {
   "codemirror_mode": {
    "name": "ipython",
    "version": 3
   },
   "file_extension": ".py",
   "mimetype": "text/x-python",
   "name": "python",
   "nbconvert_exporter": "python",
   "pygments_lexer": "ipython3",
   "version": "3.9.7"
  }
 },
 "nbformat": 4,
 "nbformat_minor": 5
}
