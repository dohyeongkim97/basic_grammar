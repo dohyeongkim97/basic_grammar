{
 "cells": [
  {
   "cell_type": "markdown",
   "id": "170b15fd-90a4-488a-b5ba-ba5860895aeb",
   "metadata": {},
   "source": [
    "# Function"
   ]
  },
  {
   "cell_type": "markdown",
   "id": "c5bb5c79-f2be-405a-84e9-c924610f99a9",
   "metadata": {},
   "source": [
    "선언과 호출\n",
    "\n",
    "```python\n",
    "def func_name(param1, param2, ...):\n",
    "    code1\n",
    "    code2\n",
    "    ...\n",
    "    return value\n",
    "```"
   ]
  },
  {
   "cell_type": "markdown",
   "id": "b27212e0-fe9a-4979-9e97-75d0a16be08f",
   "metadata": {},
   "source": [
    "- return을 만난다면 해당 값을 반환하고 함수를 종료\n",
    "- return이 없다면 None을 자동으로 반환"
   ]
  },
  {
   "cell_type": "code",
   "execution_count": 1,
   "id": "c0934cbd-325b-4583-adbb-4261873fd3c2",
   "metadata": {
    "tags": []
   },
   "outputs": [
    {
     "name": "stdout",
     "output_type": "stream",
     "text": [
      "직사각형의 둘레는 60, 면적은 200\n"
     ]
    }
   ],
   "source": [
    "height = 10\n",
    "width = 20\n",
    "\n",
    "# perimeter and area of a rectangle\n",
    "\n",
    "area = height * width\n",
    "perimeter = 2*(height + width)\n",
    "\n",
    "print('직사각형의 둘레는 {0}, 면적은 {1}'.format(perimeter, area))"
   ]
  },
  {
   "cell_type": "code",
   "execution_count": 2,
   "id": "8d722f01-fa19-48ec-8f55-39877786999c",
   "metadata": {
    "tags": []
   },
   "outputs": [
    {
     "name": "stdout",
     "output_type": "stream",
     "text": [
      "직사각형의 둘레는 180, 면적은 800\n"
     ]
    }
   ],
   "source": [
    "height2 = 50\n",
    "width = 80\n",
    "\n",
    "area = height * width\n",
    "perimeter = 2*(height + width)\n",
    "\n",
    "print('직사각형의 둘레는 {0}, 면적은 {1}'.format(perimeter, area))"
   ]
  },
  {
   "cell_type": "code",
   "execution_count": 24,
   "id": "6e98629b-f180-4fdc-ad9c-615f4fa00a4a",
   "metadata": {
    "tags": []
   },
   "outputs": [],
   "source": [
    "def rectangle(height, width):\n",
    "    perimeter = 2*(height + width)\n",
    "    area = height * width\n",
    "    \n",
    "    print('직사각형의 둘레는 {0}, 면적은 {1} 입니다'.format(perimeter, area))\n",
    "    return perimeter, area"
   ]
  },
  {
   "cell_type": "code",
   "execution_count": 25,
   "id": "5aacdfe8-273b-4a33-bc93-79a0b9105605",
   "metadata": {
    "tags": []
   },
   "outputs": [
    {
     "name": "stdout",
     "output_type": "stream",
     "text": [
      "직사각형의 둘레는 100, 면적은 600 입니다\n"
     ]
    },
    {
     "data": {
      "text/plain": [
       "list[100, 600]"
      ]
     },
     "execution_count": 25,
     "metadata": {},
     "output_type": "execute_result"
    }
   ],
   "source": [
    "list[rectangle(20, 30)]"
   ]
  },
  {
   "cell_type": "code",
   "execution_count": 27,
   "id": "d28310e5-825f-421d-80c7-80be4811e003",
   "metadata": {
    "tags": []
   },
   "outputs": [
    {
     "data": {
      "text/plain": [
       "5"
      ]
     },
     "execution_count": 27,
     "metadata": {},
     "output_type": "execute_result"
    }
   ],
   "source": [
    "max(1, 5)"
   ]
  },
  {
   "cell_type": "code",
   "execution_count": 35,
   "id": "d4678809-b331-4793-ba71-73b6cb47d567",
   "metadata": {
    "tags": []
   },
   "outputs": [
    {
     "data": {
      "text/plain": [
       "5"
      ]
     },
     "execution_count": 35,
     "metadata": {},
     "output_type": "execute_result"
    }
   ],
   "source": [
    "def my_max(param1, param2):\n",
    "    if int(param1) > int(param2) : return param1\n",
    "    elif int(param1) < int(param2) : return param2\n",
    "    else : return 0\n",
    "my_max(1, 5)"
   ]
  },
  {
   "cell_type": "code",
   "execution_count": 36,
   "id": "00603f5c-5467-4d7a-99a9-0a3dc30e7e61",
   "metadata": {
    "tags": []
   },
   "outputs": [
    {
     "name": "stdout",
     "output_type": "stream",
     "text": [
      "같습니다\n"
     ]
    }
   ],
   "source": [
    "my_max(5, 5)"
   ]
  },
  {
   "cell_type": "code",
   "execution_count": 37,
   "id": "b2175a3e-2360-4019-998b-afcb75196055",
   "metadata": {
    "tags": []
   },
   "outputs": [
    {
     "name": "stdout",
     "output_type": "stream",
     "text": [
      "2가 더 큽니다\n"
     ]
    }
   ],
   "source": [
    "result = my_max(1, 2)\n",
    "print(\"{}가 더 큽니다\".format(result))"
   ]
  },
  {
   "cell_type": "code",
   "execution_count": null,
   "id": "3adaf7c6-1884-4cf9-bcdb-e912a21a6862",
   "metadata": {},
   "outputs": [],
   "source": []
  }
 ],
 "metadata": {
  "kernelspec": {
   "display_name": "Python 3 (ipykernel)",
   "language": "python",
   "name": "python3"
  },
  "language_info": {
   "codemirror_mode": {
    "name": "ipython",
    "version": 3
   },
   "file_extension": ".py",
   "mimetype": "text/x-python",
   "name": "python",
   "nbconvert_exporter": "python",
   "pygments_lexer": "ipython3",
   "version": "3.9.7"
  }
 },
 "nbformat": 4,
 "nbformat_minor": 5
}
