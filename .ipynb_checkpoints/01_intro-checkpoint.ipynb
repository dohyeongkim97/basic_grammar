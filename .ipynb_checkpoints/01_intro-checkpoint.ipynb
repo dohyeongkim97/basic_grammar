{
 "cells": [
  {
   "cell_type": "markdown",
   "id": "236db85a-d428-48f1-ada3-ec915c2e1dd5",
   "metadata": {},
   "source": [
    "# 01.intro\n",
    "\n",
    "## 단축키\n",
    "\n",
    "- ctrl+enter : 지금 셀 실행\n",
    "- sft+enter : 현재 셀 실행하며 아래로 이동\n",
    "- alt+enter : 현재 셀 실행하며 아래에 새로운 셀 추가\n",
    "\n",
    "# 주의사항\n",
    "1. Apple != apple\n",
    "2. git add . != git add.\n",
    "\n"
   ]
  },
  {
   "cell_type": "code",
   "execution_count": 1,
   "id": "8915a37e-a756-4d15-9cab-c924ab7c3b43",
   "metadata": {},
   "outputs": [],
   "source": [
    "# 주석(ctrl+/)"
   ]
  },
  {
   "cell_type": "markdown",
   "id": "da27c717-3f2d-4f9b-b84f-a73a4284d08d",
   "metadata": {},
   "source": [
    "# 1. 변수\n",
    "변수 이름 = 값\n",
    "\n",
    "- 변수명은 어떤 것이든 무관.\n",
    "- 다만 영어/숫자/_를 이용하여 선언할 것.\n",
    "- 키워드는 사용 불가."
   ]
  },
  {
   "cell_type": "code",
   "execution_count": 2,
   "id": "69cd8d4d-6b97-455b-90af-926556b52743",
   "metadata": {},
   "outputs": [],
   "source": [
    "a = 10"
   ]
  },
  {
   "cell_type": "code",
   "execution_count": 3,
   "id": "b6a329c8-92cd-4471-b13e-c619a22f5a3d",
   "metadata": {
    "tags": []
   },
   "outputs": [
    {
     "data": {
      "text/plain": [
       "10"
      ]
     },
     "execution_count": 3,
     "metadata": {},
     "output_type": "execute_result"
    }
   ],
   "source": [
    "a"
   ]
  },
  {
   "cell_type": "code",
   "execution_count": 4,
   "id": "53913b17-940a-4ce7-b696-b58181261f1c",
   "metadata": {
    "tags": []
   },
   "outputs": [
    {
     "data": {
      "text/plain": [
       "['False',\n",
       " 'None',\n",
       " 'True',\n",
       " '__peg_parser__',\n",
       " 'and',\n",
       " 'as',\n",
       " 'assert',\n",
       " 'async',\n",
       " 'await',\n",
       " 'break',\n",
       " 'class',\n",
       " 'continue',\n",
       " 'def',\n",
       " 'del',\n",
       " 'elif',\n",
       " 'else',\n",
       " 'except',\n",
       " 'finally',\n",
       " 'for',\n",
       " 'from',\n",
       " 'global',\n",
       " 'if',\n",
       " 'import',\n",
       " 'in',\n",
       " 'is',\n",
       " 'lambda',\n",
       " 'nonlocal',\n",
       " 'not',\n",
       " 'or',\n",
       " 'pass',\n",
       " 'raise',\n",
       " 'return',\n",
       " 'try',\n",
       " 'while',\n",
       " 'with',\n",
       " 'yield']"
      ]
     },
     "execution_count": 4,
     "metadata": {},
     "output_type": "execute_result"
    }
   ],
   "source": [
    "import keyword\n",
    "keyword.kwlist"
   ]
  },
  {
   "cell_type": "code",
   "execution_count": 5,
   "id": "85f010b3-b1d4-4d7e-ac92-dc867367393d",
   "metadata": {},
   "outputs": [],
   "source": [
    "a = 10000000"
   ]
  },
  {
   "cell_type": "code",
   "execution_count": 6,
   "id": "ef4cea68-3735-4303-86aa-4bee5d0710a8",
   "metadata": {},
   "outputs": [
    {
     "data": {
      "text/plain": [
       "int"
      ]
     },
     "execution_count": 6,
     "metadata": {},
     "output_type": "execute_result"
    }
   ],
   "source": [
    "type(a)"
   ]
  },
  {
   "cell_type": "code",
   "execution_count": 7,
   "id": "6de6568f-f2fc-45f5-b576-a9fed1ecb02c",
   "metadata": {},
   "outputs": [],
   "source": [
    "b = 1.1"
   ]
  },
  {
   "cell_type": "code",
   "execution_count": 8,
   "id": "d027051d-1ddb-48e8-9708-91d67bde8f3f",
   "metadata": {},
   "outputs": [
    {
     "data": {
      "text/plain": [
       "float"
      ]
     },
     "execution_count": 8,
     "metadata": {},
     "output_type": "execute_result"
    }
   ],
   "source": [
    "type(b)"
   ]
  },
  {
   "cell_type": "code",
   "execution_count": 9,
   "id": "2c45bed1-6824-4632-9c5d-b94fd418ce8a",
   "metadata": {},
   "outputs": [],
   "source": [
    "c = 1-4j"
   ]
  },
  {
   "cell_type": "code",
   "execution_count": 10,
   "id": "2811ce78-49d8-4b6d-8e8e-47a612df20d8",
   "metadata": {
    "tags": []
   },
   "outputs": [
    {
     "data": {
      "text/plain": [
       "complex"
      ]
     },
     "execution_count": 10,
     "metadata": {},
     "output_type": "execute_result"
    }
   ],
   "source": [
    "type(c)"
   ]
  },
  {
   "cell_type": "code",
   "execution_count": 11,
   "id": "b540ce92-8f0c-405c-9b0f-80248fc56453",
   "metadata": {
    "tags": []
   },
   "outputs": [
    {
     "data": {
      "text/plain": [
       "-4.0"
      ]
     },
     "execution_count": 11,
     "metadata": {},
     "output_type": "execute_result"
    }
   ],
   "source": [
    "c.imag"
   ]
  },
  {
   "cell_type": "code",
   "execution_count": 12,
   "id": "4f36ea2b-c59d-4782-b40a-4170da8789dc",
   "metadata": {
    "tags": []
   },
   "outputs": [
    {
     "data": {
      "text/plain": [
       "1.0"
      ]
     },
     "execution_count": 12,
     "metadata": {},
     "output_type": "execute_result"
    }
   ],
   "source": [
    "c.real"
   ]
  },
  {
   "cell_type": "markdown",
   "id": "46ced270-2d07-4587-b3ac-bac72093fe2d",
   "metadata": {},
   "source": [
    "# 1.2 Boolean\n",
    "\n",
    "T/F 로 이루어진 데이터타입"
   ]
  },
  {
   "cell_type": "code",
   "execution_count": 13,
   "id": "92da5c7f-1775-4489-9866-030537dfe5b0",
   "metadata": {
    "tags": []
   },
   "outputs": [],
   "source": [
    "a = True"
   ]
  },
  {
   "cell_type": "code",
   "execution_count": 14,
   "id": "62d1ef10-256d-43e3-b912-4dfe165252ac",
   "metadata": {
    "tags": []
   },
   "outputs": [
    {
     "data": {
      "text/plain": [
       "bool"
      ]
     },
     "execution_count": 14,
     "metadata": {},
     "output_type": "execute_result"
    }
   ],
   "source": [
    "type(a)"
   ]
  },
  {
   "cell_type": "code",
   "execution_count": 15,
   "id": "606a1d88-07fe-4139-9a80-f11be119549d",
   "metadata": {
    "tags": []
   },
   "outputs": [
    {
     "data": {
      "text/plain": [
       "bool"
      ]
     },
     "execution_count": 15,
     "metadata": {},
     "output_type": "execute_result"
    }
   ],
   "source": [
    "b = False\n",
    "type(b)"
   ]
  },
  {
   "cell_type": "markdown",
   "id": "b0921d88-c732-45bb-a5c6-ee4c0dedb3ed",
   "metadata": {},
   "source": [
    "# 1.3 None\n"
   ]
  },
  {
   "cell_type": "code",
   "execution_count": 16,
   "id": "f4abb59d-3696-439e-b27d-375818a9fcda",
   "metadata": {
    "tags": []
   },
   "outputs": [
    {
     "data": {
      "text/plain": [
       "NoneType"
      ]
     },
     "execution_count": 16,
     "metadata": {},
     "output_type": "execute_result"
    }
   ],
   "source": [
    "a = None\n",
    "type(a)"
   ]
  },
  {
   "cell_type": "markdown",
   "id": "9db46c53-d14a-463f-9a0b-eb8caed12518",
   "metadata": {
    "tags": []
   },
   "source": [
    "# 1.4 String\n",
    "\n",
    "- 문자열\n",
    "- ' 나 \""
   ]
  },
  {
   "cell_type": "code",
   "execution_count": 17,
   "id": "78aaec8c-c7b9-4a33-beb6-06a0cf28a8dc",
   "metadata": {
    "tags": []
   },
   "outputs": [
    {
     "data": {
      "text/plain": [
       "str"
      ]
     },
     "execution_count": 17,
     "metadata": {},
     "output_type": "execute_result"
    }
   ],
   "source": [
    "a = 'hello'\n",
    "type(a)"
   ]
  },
  {
   "cell_type": "code",
   "execution_count": 18,
   "id": "c412fc36-4d21-496e-9b18-8d294d115fe7",
   "metadata": {
    "tags": []
   },
   "outputs": [
    {
     "name": "stdin",
     "output_type": "stream",
     "text": [
      " 26\n"
     ]
    },
    {
     "name": "stdout",
     "output_type": "stream",
     "text": [
      "26\n",
      "<class 'str'>\n"
     ]
    }
   ],
   "source": [
    "age = input()\n",
    "print(age)\n",
    "print(type(age))"
   ]
  },
  {
   "cell_type": "code",
   "execution_count": 19,
   "id": "ba6ff21b-9337-46a4-8074-7fdeb9be4add",
   "metadata": {
    "tags": []
   },
   "outputs": [
    {
     "name": "stdout",
     "output_type": "stream",
     "text": [
      "hello? this is 'Kim'\n"
     ]
    }
   ],
   "source": [
    "print('hello? this is \\'Kim\\'')"
   ]
  },
  {
   "cell_type": "code",
   "execution_count": 20,
   "id": "750d17ad-37e4-4f3d-aa89-5169d59abf5b",
   "metadata": {
    "tags": []
   },
   "outputs": [],
   "source": [
    "a = '''\n",
    "this is string sentence\n",
    "can type several lines by using enter key\n",
    "'''"
   ]
  },
  {
   "cell_type": "code",
   "execution_count": 21,
   "id": "f9cbaa2a-25b5-42bd-af94-dcb026139a71",
   "metadata": {
    "tags": []
   },
   "outputs": [
    {
     "name": "stdout",
     "output_type": "stream",
     "text": [
      "\n",
      "this is string sentence\n",
      "can type several lines by using enter key\n",
      "\n"
     ]
    }
   ],
   "source": [
    "print(a)"
   ]
  },
  {
   "cell_type": "code",
   "execution_count": 22,
   "id": "87e7d15a-74f1-4b9c-8995-c2f17bd12be8",
   "metadata": {
    "tags": []
   },
   "outputs": [
    {
     "name": "stdout",
     "output_type": "stream",
     "text": [
      "type enter \n",
      "next line\n"
     ]
    }
   ],
   "source": [
    "print('type enter \\nnext line')"
   ]
  },
  {
   "cell_type": "code",
   "execution_count": 23,
   "id": "b23bc953-288e-4a0c-a2aa-87ef5d79b47a",
   "metadata": {
    "tags": []
   },
   "outputs": [
    {
     "name": "stdout",
     "output_type": "stream",
     "text": [
      "one two three\n"
     ]
    }
   ],
   "source": [
    "print('one', 'two', 'three')"
   ]
  },
  {
   "cell_type": "code",
   "execution_count": 24,
   "id": "c7f77c49-7149-43f4-ae43-8678df995764",
   "metadata": {
    "tags": []
   },
   "outputs": [
    {
     "name": "stdout",
     "output_type": "stream",
     "text": [
      "one!two!three\n"
     ]
    }
   ],
   "source": [
    "print('one', 'two', 'three', sep='!')"
   ]
  },
  {
   "cell_type": "markdown",
   "id": "ad719f1e-1a00-48a3-9093-b96da80f4ea1",
   "metadata": {},
   "source": [
    "# string interpolation\n",
    "\n",
    "1. %-formatting\n",
    "2. str.format()\n",
    "3. f-string"
   ]
  },
  {
   "cell_type": "markdown",
   "id": "a647f7cb-828a-40a6-9798-b8945f1c8e10",
   "metadata": {},
   "source": [
    "#1 \n",
    "print('kim is %s years old' % age)\n",
    "\n",
    "#2 \n",
    "print('kim is {} years old'.format(age)\n",
    "\n",
    "#3\n",
    "print(f'kim is {age} years old')"
   ]
  },
  {
   "cell_type": "code",
   "execution_count": 46,
   "id": "624ff08b-0476-4d51-911a-23c15ebc39bf",
   "metadata": {
    "tags": []
   },
   "outputs": [
    {
     "name": "stdout",
     "output_type": "stream",
     "text": [
      "one two three\n"
     ]
    }
   ],
   "source": [
    "print('one', 'two', 'three')"
   ]
  },
  {
   "cell_type": "code",
   "execution_count": 47,
   "id": "b86df815-7970-4aae-8de8-c6485c79bd33",
   "metadata": {
    "tags": []
   },
   "outputs": [
    {
     "name": "stdout",
     "output_type": "stream",
     "text": [
      "one!two!three\n"
     ]
    }
   ],
   "source": [
    "print('one', 'two', 'three', sep='!')"
   ]
  },
  {
   "cell_type": "markdown",
   "id": "3f371d02-9eba-4499-b32d-3ee7f64a3f5f",
   "metadata": {},
   "source": [
    "# 2. 연산자\n",
    "\n",
    "## 2.1 산술연산자"
   ]
  },
  {
   "cell_type": "markdown",
   "id": "9211f770-6f6e-4f84-b507-2e422a727c16",
   "metadata": {},
   "source": [
    "# a를 b로 나눈 것\n",
    "print(a//b)\n",
    "\n",
    "# a를 b로 나누고 나머지 출력\n",
    "print(a%b)\n",
    "\n",
    "# a를 b로 나눈 몫과, 나머지 출력\n",
    "print(divmod(a, b))"
   ]
  },
  {
   "cell_type": "markdown",
   "id": "f0534d92-ede1-4738-be2a-59332378f371",
   "metadata": {},
   "source": [
    "## 2.2 비교연산자"
   ]
  },
  {
   "cell_type": "code",
   "execution_count": 50,
   "id": "ff6e9250-4b71-45ad-96e3-cbae9a255105",
   "metadata": {},
   "outputs": [
    {
     "name": "stdout",
     "output_type": "stream",
     "text": [
      "False\n"
     ]
    }
   ],
   "source": [
    "a = 5\n",
    "b = 10\n",
    "\n",
    "print(a>b)"
   ]
  },
  {
   "cell_type": "markdown",
   "id": "50161e26-d857-48ec-9dc9-b307034af64d",
   "metadata": {},
   "source": [
    "## 2.3 논리연산자\n",
    "\n",
    "- and\n",
    "- or\n",
    "- not"
   ]
  },
  {
   "cell_type": "code",
   "execution_count": 54,
   "id": "36c2dcb6-2aed-4a28-9653-ad359a85645c",
   "metadata": {},
   "outputs": [
    {
     "name": "stdout",
     "output_type": "stream",
     "text": [
      "True\n",
      "False\n",
      "True\n",
      "False\n"
     ]
    }
   ],
   "source": [
    "# and : 양쪽 모두 True일 때, True를 반환함\n",
    "\n",
    "print(True and True)\n",
    "print(False and True)\n",
    "\n",
    "# or : 한쪽만 True여도 True를 반환함\n",
    "\n",
    "print(True or False)\n",
    "\n",
    "# not : 조건의 반대로 출력\n",
    "print(not (True and True))"
   ]
  },
  {
   "cell_type": "code",
   "execution_count": 59,
   "id": "99a0cab5-2a8f-4faa-bf3a-b312ca9cf740",
   "metadata": {
    "tags": []
   },
   "outputs": [
    {
     "name": "stdout",
     "output_type": "stream",
     "text": [
      "5\n",
      "0\n",
      "0\n",
      "0\n"
     ]
    }
   ],
   "source": [
    "# 단축평가\n",
    "print(3 and 5)\n",
    "print(3 and 0)\n",
    "print(0 and 5)\n",
    "print(0 and 0)"
   ]
  },
  {
   "cell_type": "markdown",
   "id": "aef96ea8-fc76-4243-946a-5b5cfdd0f5d6",
   "metadata": {},
   "source": [
    "## 2.4 복합연산자"
   ]
  },
  {
   "cell_type": "code",
   "execution_count": 72,
   "id": "0c0162c6-0b8d-4753-958e-1b79652ffbb5",
   "metadata": {},
   "outputs": [],
   "source": [
    "a = 1\n",
    "\n",
    "a = a+1\n",
    "a += 1"
   ]
  },
  {
   "cell_type": "markdown",
   "id": "07bb4bfb-5ddb-4cff-859b-7e3469d4686e",
   "metadata": {},
   "source": [
    "## 2.5 기타연산자"
   ]
  },
  {
   "cell_type": "code",
   "execution_count": 74,
   "id": "7f37336c-b2f3-45c9-a7de-19b16546e3bc",
   "metadata": {},
   "outputs": [],
   "source": [
    "a = 'hi'\n",
    "b = 'hello'"
   ]
  },
  {
   "cell_type": "code",
   "execution_count": 75,
   "id": "dabd8b3c-3f3e-479b-bb19-6e16b33861cb",
   "metadata": {},
   "outputs": [
    {
     "data": {
      "text/plain": [
       "'hihello'"
      ]
     },
     "execution_count": 75,
     "metadata": {},
     "output_type": "execute_result"
    }
   ],
   "source": [
    "# concatenation\n",
    "a + b"
   ]
  },
  {
   "cell_type": "code",
   "execution_count": 76,
   "id": "d037bd72-aa60-49ac-939d-944d085e47cb",
   "metadata": {
    "tags": []
   },
   "outputs": [
    {
     "data": {
      "text/plain": [
       "[1, 2, 3, 4, 5, 6]"
      ]
     },
     "execution_count": 76,
     "metadata": {},
     "output_type": "execute_result"
    }
   ],
   "source": [
    "a = [1, 2, 3]\n",
    "b = [4, 5, 6]\n",
    "\n",
    "a + b"
   ]
  },
  {
   "cell_type": "code",
   "execution_count": 77,
   "id": "6edcfdc4-565e-46d7-9ec9-4f795e32331e",
   "metadata": {
    "tags": []
   },
   "outputs": [
    {
     "data": {
      "text/plain": [
       "True"
      ]
     },
     "execution_count": 77,
     "metadata": {},
     "output_type": "execute_result"
    }
   ],
   "source": [
    "# containment\n",
    "'a' in 'apple'"
   ]
  },
  {
   "cell_type": "code",
   "execution_count": 78,
   "id": "d69a13bd-abaf-4ef6-80b0-00a8545b76c0",
   "metadata": {
    "tags": []
   },
   "outputs": [
    {
     "name": "stdout",
     "output_type": "stream",
     "text": [
      "True\n"
     ]
    }
   ],
   "source": [
    "# identity\n",
    "a = 1\n",
    "b = 1\n",
    "print(a is b)"
   ]
  },
  {
   "cell_type": "code",
   "execution_count": 80,
   "id": "bf5e6cc9-6d9e-4eb2-9677-51d6baed5abc",
   "metadata": {
    "tags": []
   },
   "outputs": [
    {
     "name": "stdout",
     "output_type": "stream",
     "text": [
      "False\n",
      "True\n"
     ]
    }
   ],
   "source": [
    "a = 123123\n",
    "b = 123123\n",
    "print(a is b)\n",
    "print(a == b)"
   ]
  },
  {
   "cell_type": "code",
   "execution_count": 81,
   "id": "775a06ec-d942-483f-9dec-7cef41981393",
   "metadata": {
    "tags": []
   },
   "outputs": [
    {
     "name": "stdout",
     "output_type": "stream",
     "text": [
      "1152166475408\n",
      "1152166477616\n"
     ]
    }
   ],
   "source": [
    "print(id(a))\n",
    "print(id(b))"
   ]
  },
  {
   "cell_type": "markdown",
   "id": "4a82f076-de2c-4349-bdb9-c1207492a7a0",
   "metadata": {},
   "source": [
    "## 우선순위\n",
    "\n",
    "1. ()를 통해 그룹화된 것\n",
    "2. **\n",
    "3. 산술연산자(*, /)\n",
    "4. 산술연산자(+, -)\n",
    "5. 비교연산자, in, is\n",
    "6. not\n",
    "7. and\n",
    "8. or"
   ]
  },
  {
   "cell_type": "code",
   "execution_count": null,
   "id": "c46dc389-a6ec-40e7-a50a-5f574f598949",
   "metadata": {},
   "outputs": [],
   "source": [
    "-3**4"
   ]
  },
  {
   "cell_type": "markdown",
   "id": "6faa07be-5683-4072-ba8d-f67507bee2df",
   "metadata": {},
   "source": [
    "## 3. 형변환"
   ]
  },
  {
   "cell_type": "markdown",
   "id": "8e3f0c45-cc72-4eb9-a862-21f5e5777b16",
   "metadata": {},
   "source": [
    "### 3.1 암시적 형변환(자동 형변환)"
   ]
  },
  {
   "cell_type": "code",
   "execution_count": 84,
   "id": "eef52b4c-eb3e-44ae-bd20-635ee6e64d6d",
   "metadata": {
    "tags": []
   },
   "outputs": [
    {
     "data": {
      "text/plain": [
       "2"
      ]
     },
     "execution_count": 84,
     "metadata": {},
     "output_type": "execute_result"
    }
   ],
   "source": [
    "a = True\n",
    "b = 1\n",
    "\n",
    "a + b\n",
    "# a가 숫자 1로 자동 형변환됨"
   ]
  },
  {
   "cell_type": "code",
   "execution_count": 85,
   "id": "b32e3931-9a11-4b1e-82f7-5ada6a07dbc1",
   "metadata": {
    "tags": []
   },
   "outputs": [
    {
     "name": "stdout",
     "output_type": "stream",
     "text": [
      "2\n",
      "1\n"
     ]
    }
   ],
   "source": [
    "a = True\n",
    "b = False\n",
    "c = 1\n",
    "\n",
    "print(a+c)\n",
    "print(b+c)"
   ]
  },
  {
   "cell_type": "code",
   "execution_count": 86,
   "id": "0fc96299-68d1-4ee6-8bd3-c05bc9d668e1",
   "metadata": {
    "tags": []
   },
   "outputs": [],
   "source": [
    "int_num = 3\n",
    "float_num = 3.3\n",
    "complex_num = 1 + 3j"
   ]
  },
  {
   "cell_type": "code",
   "execution_count": 87,
   "id": "e95e581d-48f1-443b-a7a6-3497183ccb1b",
   "metadata": {
    "tags": []
   },
   "outputs": [
    {
     "data": {
      "text/plain": [
       "(7.3+3j)"
      ]
     },
     "execution_count": 87,
     "metadata": {},
     "output_type": "execute_result"
    }
   ],
   "source": [
    "int_num + float_num + complex_num"
   ]
  },
  {
   "cell_type": "markdown",
   "id": "e5cfc07b-64e1-4ee4-a6ad-a8a69e760b06",
   "metadata": {
    "tags": []
   },
   "source": [
    "## 3.2 명시적 형변환\n",
    "\n",
    "- int() : string, float를 int로 변환\n",
    "- float() : string, int를 float로 변환\n",
    "- str() : int, float 등을 string으로 변환"
   ]
  },
  {
   "cell_type": "code",
   "execution_count": 90,
   "id": "e7bd6140-457a-4710-9030-32590f508ec2",
   "metadata": {
    "jupyter": {
     "source_hidden": true
    },
    "tags": []
   },
   "outputs": [],
   "source": [
    "a = 1\n",
    "b = '번'"
   ]
  },
  {
   "cell_type": "code",
   "execution_count": 91,
   "id": "5cf38f55-9a28-47e2-aa93-ca7c9a6f163c",
   "metadata": {
    "tags": []
   },
   "outputs": [
    {
     "name": "stdout",
     "output_type": "stream",
     "text": [
      "1번\n"
     ]
    }
   ],
   "source": [
    "print(str(a) + b)"
   ]
  },
  {
   "cell_type": "code",
   "execution_count": 93,
   "id": "0ba00497-3449-48c9-b21b-42e78d83bc95",
   "metadata": {
    "tags": []
   },
   "outputs": [
    {
     "data": {
      "text/plain": [
       "int"
      ]
     },
     "execution_count": 93,
     "metadata": {},
     "output_type": "execute_result"
    }
   ],
   "source": [
    "a = '3'\n",
    "type(int(a))"
   ]
  },
  {
   "cell_type": "code",
   "execution_count": 97,
   "id": "89ce761d-2e4d-426a-9c69-c8b137ab2a3c",
   "metadata": {
    "tags": []
   },
   "outputs": [
    {
     "data": {
      "text/plain": [
       "float"
      ]
     },
     "execution_count": 97,
     "metadata": {},
     "output_type": "execute_result"
    }
   ],
   "source": [
    "a = '3.3'\n",
    "type(float(a))"
   ]
  },
  {
   "cell_type": "markdown",
   "id": "7269af5f-58b6-4f9e-8baf-17f645b96ab6",
   "metadata": {
    "tags": []
   },
   "source": [
    "## 4. 시퀀스 자료형\n",
    "\n",
    "데이터가 일정 순서대로 나열된 자료구조"
   ]
  },
  {
   "cell_type": "markdown",
   "id": "69c17b05-74e9-4b34-b27b-acc06d9e348d",
   "metadata": {},
   "source": [
    "### 4.1 List\n",
    "\n",
    "- 선언 : 변수명 = [value1, value2, ... ]\n",
    "- 접근 : 변수명[index]"
   ]
  },
  {
   "cell_type": "code",
   "execution_count": 100,
   "id": "0109511c-99f7-477e-96a7-3443a4bb1701",
   "metadata": {
    "tags": []
   },
   "outputs": [
    {
     "name": "stdout",
     "output_type": "stream",
     "text": [
      "[]\n",
      "<class 'list'>\n"
     ]
    }
   ],
   "source": [
    "l = []\n",
    "print(l)\n",
    "print(type(l))"
   ]
  },
  {
   "cell_type": "code",
   "execution_count": 102,
   "id": "bbafbff9-fc89-4630-9f10-b242bfc1a13e",
   "metadata": {
    "tags": []
   },
   "outputs": [
    {
     "name": "stdout",
     "output_type": "stream",
     "text": [
      "['Seoul', 'Daegu', 'Deajeon']\n",
      "Seoul\n"
     ]
    }
   ],
   "source": [
    "location = ['Seoul', 'Daegu', 'Deajeon']\n",
    "print(location)\n",
    "print(location[0])"
   ]
  },
  {
   "cell_type": "markdown",
   "id": "68fcca58-bb01-4be9-a642-b3da5d948197",
   "metadata": {},
   "source": [
    "### 4.2 Tuple\n",
    "- 선언 : 변수명(value1, value2, value3, ... )\n",
    "- 접근 : 변수명[index]\n",
    "- 리스트와는 달리, 변수 내부 값 변환&할당은 불가. 한번 선언하면 불가변(immutable)"
   ]
  },
  {
   "cell_type": "code",
   "execution_count": 104,
   "id": "6a2e9841-7877-4629-91b0-9ab19f3d3b54",
   "metadata": {
    "tags": []
   },
   "outputs": [
    {
     "name": "stdout",
     "output_type": "stream",
     "text": [
      "(1, 2, 3)\n",
      "<class 'tuple'>\n",
      "3\n"
     ]
    }
   ],
   "source": [
    "t = (1, 2, 3)\n",
    "print(t)\n",
    "print(type(t))\n",
    "print(t[2])"
   ]
  },
  {
   "cell_type": "markdown",
   "id": "71f763c3-1e7f-4eb4-b35c-f587ce9ba342",
   "metadata": {
    "tags": []
   },
   "source": [
    "### 4.3 range\n",
    "\n",
    "- range(n) : 0부터 n-1까지 범위\n",
    "- range(n, m) : n부터 m-1까지 범위\n",
    "- range(n, m, s) n부터 m-1까지 +s만큼 증가하는 범위"
   ]
  },
  {
   "cell_type": "markdown",
   "id": "9b9dc742-3aa3-44c0-90d7-08f9754a649f",
   "metadata": {},
   "source": [
    "### 4.4 string"
   ]
  },
  {
   "cell_type": "markdown",
   "id": "18720eb4-91cf-46d8-be75-41e9e82408ed",
   "metadata": {
    "tags": []
   },
   "source": [
    "### 4.5 시퀀스에서 활용 가능한 연산/함수"
   ]
  },
  {
   "cell_type": "code",
   "execution_count": 117,
   "id": "0c2249be-e978-4087-aeb6-2b55701287ee",
   "metadata": {
    "tags": []
   },
   "outputs": [],
   "source": [
    "my_list = [1, 2, 3, 4, 5]\n",
    "my_tuple = (1, 2, 3, 4, 5)\n",
    "my_range = range(1, 100)\n",
    "my_string = '12345'"
   ]
  },
  {
   "cell_type": "code",
   "execution_count": 115,
   "id": "1d4ef0f6-da19-404d-a00d-e7f4d89f8d5a",
   "metadata": {
    "tags": []
   },
   "outputs": [
    {
     "name": "stdout",
     "output_type": "stream",
     "text": [
      "[2, 3]\n",
      "(2, 3)\n",
      "range(2, 4)\n",
      "23\n"
     ]
    }
   ],
   "source": [
    "print(my_list[1:3])\n",
    "print(my_tuple[1:3])\n",
    "print(my_range[1:3])\n",
    "print(my_string[1:3])"
   ]
  },
  {
   "cell_type": "code",
   "execution_count": 118,
   "id": "1cd5419d-6e9c-4bc5-852c-f8b4957c0f03",
   "metadata": {
    "tags": []
   },
   "outputs": [
    {
     "data": {
      "text/plain": [
       "[3, 5]"
      ]
     },
     "execution_count": 118,
     "metadata": {},
     "output_type": "execute_result"
    }
   ],
   "source": [
    "list(my_range[2:6:2])"
   ]
  },
  {
   "cell_type": "code",
   "execution_count": 120,
   "id": "6d36f4eb-1c66-4a49-91f7-169fc3a4941f",
   "metadata": {
    "tags": []
   },
   "outputs": [
    {
     "name": "stdout",
     "output_type": "stream",
     "text": [
      "False\n",
      "False\n",
      "False\n",
      "False\n"
     ]
    }
   ],
   "source": [
    "print(1 not in my_list)\n",
    "print(1 not in my_tuple)\n",
    "print(1 not in my_range)\n",
    "print('1' not in my_string)"
   ]
  },
  {
   "cell_type": "code",
   "execution_count": 122,
   "id": "68c1e4f4-fddd-4102-bd77-1ad5992916c9",
   "metadata": {
    "tags": []
   },
   "outputs": [
    {
     "name": "stdout",
     "output_type": "stream",
     "text": [
      "[1, 2, 3, 4, 5, 1, 2, 3]\n"
     ]
    }
   ],
   "source": [
    "# concatenation\n",
    "\n",
    "print(my_list + [1, 2, 3])"
   ]
  },
  {
   "cell_type": "code",
   "execution_count": 124,
   "id": "38890a56-7778-453e-bf2f-fe48f460677a",
   "metadata": {
    "tags": []
   },
   "outputs": [
    {
     "name": "stdout",
     "output_type": "stream",
     "text": [
      "[0, 0, 0, 0, 0, 0, 0, 0, 0, 0]\n",
      "[[0, 0, 0, 0, 0, 0, 0, 0, 0, 0], [0, 0, 0, 0, 0, 0, 0, 0, 0, 0], [0, 0, 0, 0, 0, 0, 0, 0, 0, 0], [0, 0, 0, 0, 0, 0, 0, 0, 0, 0], [0, 0, 0, 0, 0, 0, 0, 0, 0, 0], [0, 0, 0, 0, 0, 0, 0, 0, 0, 0], [0, 0, 0, 0, 0, 0, 0, 0, 0, 0], [0, 0, 0, 0, 0, 0, 0, 0, 0, 0], [0, 0, 0, 0, 0, 0, 0, 0, 0, 0], [0, 0, 0, 0, 0, 0, 0, 0, 0, 0]]\n"
     ]
    }
   ],
   "source": [
    "# *\n",
    "print([0] * 10)\n",
    "\n",
    "print([[0]*10]*10)"
   ]
  },
  {
   "cell_type": "code",
   "execution_count": 126,
   "id": "e43882bb-d26c-4fef-a684-3c51b1db2790",
   "metadata": {
    "tags": []
   },
   "outputs": [
    {
     "name": "stdout",
     "output_type": "stream",
     "text": [
      "5\n"
     ]
    }
   ],
   "source": [
    "print(len(my_list))"
   ]
  },
  {
   "cell_type": "code",
   "execution_count": 127,
   "id": "30e8c371-fc22-4078-965a-c78cb6daa853",
   "metadata": {
    "tags": []
   },
   "outputs": [
    {
     "name": "stdout",
     "output_type": "stream",
     "text": [
      "1\n"
     ]
    }
   ],
   "source": [
    "print(min(my_list))"
   ]
  },
  {
   "cell_type": "code",
   "execution_count": 128,
   "id": "1a0a38f6-ca6a-44ae-b830-05af7ea20090",
   "metadata": {
    "tags": []
   },
   "outputs": [
    {
     "name": "stdout",
     "output_type": "stream",
     "text": [
      "5\n"
     ]
    }
   ],
   "source": [
    "print(max(my_list))"
   ]
  },
  {
   "cell_type": "code",
   "execution_count": 129,
   "id": "5731c6f2-873e-4b76-8e85-854f4d733bd8",
   "metadata": {
    "tags": []
   },
   "outputs": [
    {
     "data": {
      "text/plain": [
       "1"
      ]
     },
     "execution_count": 129,
     "metadata": {},
     "output_type": "execute_result"
    }
   ],
   "source": [
    "my_list.count(1)"
   ]
  },
  {
   "cell_type": "markdown",
   "id": "1a9ec849-27df-4b34-a265-1094142a2b11",
   "metadata": {},
   "source": [
    "## 5. 시퀀스데이터가 아닌 자료구조"
   ]
  },
  {
   "cell_type": "markdown",
   "id": "0a95a986-df33-4673-8671-0511e89551d5",
   "metadata": {},
   "source": [
    "### 5.1 set\n",
    "\n",
    "중복된 값이 없음. 수학에서 사용하는 집합.\n",
    "\n",
    "- 선언 : 변수명 = {value1, value2, value3, ...}"
   ]
  },
  {
   "cell_type": "code",
   "execution_count": 131,
   "id": "66155783-b3c3-4a58-a6a7-0cfc0cd61acf",
   "metadata": {
    "tags": []
   },
   "outputs": [],
   "source": [
    "myset_a = {1, 2, 3, 4, 5}\n",
    "myset_b = {3, 4, 5, 6, 7}"
   ]
  },
  {
   "cell_type": "code",
   "execution_count": 133,
   "id": "f3fb8bea-c2bd-46ff-9be6-e140b3e5baee",
   "metadata": {
    "tags": []
   },
   "outputs": [
    {
     "name": "stdout",
     "output_type": "stream",
     "text": [
      "{1, 2}\n",
      "{1, 2, 3, 4, 5, 6, 7}\n",
      "{3, 4, 5}\n"
     ]
    }
   ],
   "source": [
    "print(myset_a - myset_b)\n",
    "print(myset_a | myset_b)\n",
    "print(myset_a & myset_b)"
   ]
  },
  {
   "cell_type": "markdown",
   "id": "0f5d2577-64df-421d-8b6b-c276bea76256",
   "metadata": {
    "tags": []
   },
   "source": [
    "### 5.2 dictionary\n",
    "\n",
    "key와 value가 쌍으로 이루어져 있음.\n",
    "key에는 immutable한 모든 것을 사용 가능(string, integer, etc)\n",
    "value에는 모든 데이터 가능(list, dictionary, etc 포함)\n",
    "\n",
    "- 선언 : 변수명 = {key1:value1, key2:value2, ... }\n",
    "- 접근 : 변수명[key]"
   ]
  },
  {
   "cell_type": "code",
   "execution_count": 135,
   "id": "22e76f1c-39b0-4094-b820-3e05024f62fb",
   "metadata": {
    "tags": []
   },
   "outputs": [
    {
     "data": {
      "text/plain": [
       "'02'"
      ]
     },
     "execution_count": 135,
     "metadata": {},
     "output_type": "execute_result"
    }
   ],
   "source": [
    "my_dict = {'Seoul' : '02', 'Gyeonggi':'031'}\n",
    "my_dict['Seoul']"
   ]
  },
  {
   "cell_type": "code",
   "execution_count": 137,
   "id": "8e71e5f0-4619-497a-8992-eb639983b072",
   "metadata": {
    "tags": []
   },
   "outputs": [],
   "source": [
    "dict_a = {\n",
    "    'name' : 'dohyeong',\n",
    "    'location' : 'seoul1',\n",
    "    'location' : 'seoul2'\n",
    "}"
   ]
  },
  {
   "cell_type": "code",
   "execution_count": 138,
   "id": "18754549-7f6d-4054-8c19-8db7ae2ad147",
   "metadata": {
    "tags": []
   },
   "outputs": [
    {
     "name": "stdout",
     "output_type": "stream",
     "text": [
      "{'name': 'dohyeong', 'location': 'seoul2'}\n"
     ]
    }
   ],
   "source": [
    "print(dict_a)"
   ]
  },
  {
   "cell_type": "code",
   "execution_count": 141,
   "id": "5b016fbd-c814-4cd1-aa8a-1eaff814af26",
   "metadata": {
    "tags": []
   },
   "outputs": [
    {
     "data": {
      "text/plain": [
       "dict_keys(['name', 'location'])"
      ]
     },
     "execution_count": 141,
     "metadata": {},
     "output_type": "execute_result"
    }
   ],
   "source": [
    "dict_a.keys()"
   ]
  },
  {
   "cell_type": "code",
   "execution_count": 140,
   "id": "960146b0-e91a-4631-a8d7-be5652b5061c",
   "metadata": {
    "tags": []
   },
   "outputs": [
    {
     "data": {
      "text/plain": [
       "dict_values(['dohyeong', 'seoul2'])"
      ]
     },
     "execution_count": 140,
     "metadata": {},
     "output_type": "execute_result"
    }
   ],
   "source": [
    "dict_a.values()"
   ]
  },
  {
   "cell_type": "markdown",
   "id": "a9aa4b69-7373-4ac0-a768-7fab346f670d",
   "metadata": {},
   "source": [
    "# Data Type\n",
    "\n",
    "1. Number\n",
    "2. Boolean\n",
    "3. String\n",
    "\n",
    "# 자료구조\n",
    "- Sequence 자료형\n",
    "\n",
    "1. List : [Mutable]\n",
    "2. Tuble : (Immutable)\n",
    "3. Range : range(immutable)\n",
    "4. String : 'Immutable'\n",
    "\n",
    "- Non - Sequence : 자료형\n",
    "\n",
    "1. Set : {mutable}\n",
    "2. Dictionary : {mutable : mutable}"
   ]
  }
 ],
 "metadata": {
  "kernelspec": {
   "display_name": "Python 3 (ipykernel)",
   "language": "python",
   "name": "python3"
  },
  "language_info": {
   "codemirror_mode": {
    "name": "ipython",
    "version": 3
   },
   "file_extension": ".py",
   "mimetype": "text/x-python",
   "name": "python",
   "nbconvert_exporter": "python",
   "pygments_lexer": "ipython3",
   "version": "3.9.7"
  }
 },
 "nbformat": 4,
 "nbformat_minor": 5
}
