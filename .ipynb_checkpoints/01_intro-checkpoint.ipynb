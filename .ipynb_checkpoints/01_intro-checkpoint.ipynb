{
 "cells": [
  {
   "cell_type": "markdown",
   "id": "2fc08598-3232-4ead-91d6-eb6a6d5fd8b8",
   "metadata": {},
   "source": [
    "# 01.intro\n",
    "\n",
    "## 단축키\n",
    "\n",
    "- ctrl+enter : 지금 셀 실행\n",
    "- sft+enter : 현재 셀 실행하며 아래로 이동\n",
    "- alt+enter : 현재 셀 실행하며 아래에 새로운 셀 추가\n",
    "\n",
    "# 주의사항\n",
    "1. Apple != apple\n",
    "2. git add . != git add.\n",
    "\n"
   ]
  },
  {
   "cell_type": "code",
   "execution_count": 1,
   "id": "8915a37e-a756-4d15-9cab-c924ab7c3b43",
   "metadata": {},
   "outputs": [],
   "source": [
    "# 주석(ctrl+/)"
   ]
  },
  {
   "cell_type": "markdown",
   "id": "da27c717-3f2d-4f9b-b84f-a73a4284d08d",
   "metadata": {},
   "source": [
    "# 1. 변수\n",
    "변수 이름 = 값\n",
    "\n",
    "- 변수명은 어떤 것이든 무관.\n",
    "- 다만 영어/숫자/_를 이용하여 선언할 것.\n",
    "- 키워드는 사용 불가."
   ]
  },
  {
   "cell_type": "code",
   "execution_count": 2,
   "id": "69cd8d4d-6b97-455b-90af-926556b52743",
   "metadata": {},
   "outputs": [],
   "source": [
    "a = 10"
   ]
  },
  {
   "cell_type": "code",
   "execution_count": 3,
   "id": "b6a329c8-92cd-4471-b13e-c619a22f5a3d",
   "metadata": {
    "tags": []
   },
   "outputs": [
    {
     "data": {
      "text/plain": [
       "10"
      ]
     },
     "execution_count": 3,
     "metadata": {},
     "output_type": "execute_result"
    }
   ],
   "source": [
    "a"
   ]
  },
  {
   "cell_type": "code",
   "execution_count": 4,
   "id": "53913b17-940a-4ce7-b696-b58181261f1c",
   "metadata": {
    "tags": []
   },
   "outputs": [
    {
     "data": {
      "text/plain": [
       "['False',\n",
       " 'None',\n",
       " 'True',\n",
       " '__peg_parser__',\n",
       " 'and',\n",
       " 'as',\n",
       " 'assert',\n",
       " 'async',\n",
       " 'await',\n",
       " 'break',\n",
       " 'class',\n",
       " 'continue',\n",
       " 'def',\n",
       " 'del',\n",
       " 'elif',\n",
       " 'else',\n",
       " 'except',\n",
       " 'finally',\n",
       " 'for',\n",
       " 'from',\n",
       " 'global',\n",
       " 'if',\n",
       " 'import',\n",
       " 'in',\n",
       " 'is',\n",
       " 'lambda',\n",
       " 'nonlocal',\n",
       " 'not',\n",
       " 'or',\n",
       " 'pass',\n",
       " 'raise',\n",
       " 'return',\n",
       " 'try',\n",
       " 'while',\n",
       " 'with',\n",
       " 'yield']"
      ]
     },
     "execution_count": 4,
     "metadata": {},
     "output_type": "execute_result"
    }
   ],
   "source": [
    "import keyword\n",
    "keyword.kwlist"
   ]
  },
  {
   "cell_type": "code",
   "execution_count": 5,
   "id": "85f010b3-b1d4-4d7e-ac92-dc867367393d",
   "metadata": {},
   "outputs": [],
   "source": [
    "a = 10000000"
   ]
  },
  {
   "cell_type": "code",
   "execution_count": 6,
   "id": "ef4cea68-3735-4303-86aa-4bee5d0710a8",
   "metadata": {},
   "outputs": [
    {
     "data": {
      "text/plain": [
       "int"
      ]
     },
     "execution_count": 6,
     "metadata": {},
     "output_type": "execute_result"
    }
   ],
   "source": [
    "type(a)"
   ]
  },
  {
   "cell_type": "code",
   "execution_count": 7,
   "id": "6de6568f-f2fc-45f5-b576-a9fed1ecb02c",
   "metadata": {},
   "outputs": [],
   "source": [
    "b = 1.1"
   ]
  },
  {
   "cell_type": "code",
   "execution_count": 8,
   "id": "d027051d-1ddb-48e8-9708-91d67bde8f3f",
   "metadata": {},
   "outputs": [
    {
     "data": {
      "text/plain": [
       "float"
      ]
     },
     "execution_count": 8,
     "metadata": {},
     "output_type": "execute_result"
    }
   ],
   "source": [
    "type(b)"
   ]
  },
  {
   "cell_type": "code",
   "execution_count": 9,
   "id": "2c45bed1-6824-4632-9c5d-b94fd418ce8a",
   "metadata": {},
   "outputs": [],
   "source": [
    "c = 1-4j"
   ]
  },
  {
   "cell_type": "code",
   "execution_count": 10,
   "id": "2811ce78-49d8-4b6d-8e8e-47a612df20d8",
   "metadata": {
    "tags": []
   },
   "outputs": [
    {
     "data": {
      "text/plain": [
       "complex"
      ]
     },
     "execution_count": 10,
     "metadata": {},
     "output_type": "execute_result"
    }
   ],
   "source": [
    "type(c)"
   ]
  },
  {
   "cell_type": "code",
   "execution_count": 11,
   "id": "b540ce92-8f0c-405c-9b0f-80248fc56453",
   "metadata": {
    "tags": []
   },
   "outputs": [
    {
     "data": {
      "text/plain": [
       "-4.0"
      ]
     },
     "execution_count": 11,
     "metadata": {},
     "output_type": "execute_result"
    }
   ],
   "source": [
    "c.imag"
   ]
  },
  {
   "cell_type": "code",
   "execution_count": 12,
   "id": "4f36ea2b-c59d-4782-b40a-4170da8789dc",
   "metadata": {
    "tags": []
   },
   "outputs": [
    {
     "data": {
      "text/plain": [
       "1.0"
      ]
     },
     "execution_count": 12,
     "metadata": {},
     "output_type": "execute_result"
    }
   ],
   "source": [
    "c.real"
   ]
  },
  {
   "cell_type": "markdown",
   "id": "46ced270-2d07-4587-b3ac-bac72093fe2d",
   "metadata": {},
   "source": [
    "# 1.2 Boolean\n",
    "\n",
    "T/F 로 이루어진 데이터타입"
   ]
  },
  {
   "cell_type": "code",
   "execution_count": 13,
   "id": "92da5c7f-1775-4489-9866-030537dfe5b0",
   "metadata": {
    "tags": []
   },
   "outputs": [],
   "source": [
    "a = True"
   ]
  },
  {
   "cell_type": "code",
   "execution_count": 14,
   "id": "62d1ef10-256d-43e3-b912-4dfe165252ac",
   "metadata": {
    "tags": []
   },
   "outputs": [
    {
     "data": {
      "text/plain": [
       "bool"
      ]
     },
     "execution_count": 14,
     "metadata": {},
     "output_type": "execute_result"
    }
   ],
   "source": [
    "type(a)"
   ]
  },
  {
   "cell_type": "code",
   "execution_count": 15,
   "id": "606a1d88-07fe-4139-9a80-f11be119549d",
   "metadata": {
    "tags": []
   },
   "outputs": [
    {
     "data": {
      "text/plain": [
       "bool"
      ]
     },
     "execution_count": 15,
     "metadata": {},
     "output_type": "execute_result"
    }
   ],
   "source": [
    "b = False\n",
    "type(b)"
   ]
  },
  {
   "cell_type": "markdown",
   "id": "b0921d88-c732-45bb-a5c6-ee4c0dedb3ed",
   "metadata": {},
   "source": [
    "# 1.3 None\n"
   ]
  },
  {
   "cell_type": "code",
   "execution_count": 16,
   "id": "f4abb59d-3696-439e-b27d-375818a9fcda",
   "metadata": {
    "tags": []
   },
   "outputs": [
    {
     "data": {
      "text/plain": [
       "NoneType"
      ]
     },
     "execution_count": 16,
     "metadata": {},
     "output_type": "execute_result"
    }
   ],
   "source": [
    "a = None\n",
    "type(a)"
   ]
  },
  {
   "cell_type": "markdown",
   "id": "9db46c53-d14a-463f-9a0b-eb8caed12518",
   "metadata": {
    "tags": []
   },
   "source": [
    "# 1.4 String\n",
    "\n",
    "- 문자열\n",
    "- ' 나 \""
   ]
  },
  {
   "cell_type": "code",
   "execution_count": 17,
   "id": "78aaec8c-c7b9-4a33-beb6-06a0cf28a8dc",
   "metadata": {
    "tags": []
   },
   "outputs": [
    {
     "data": {
      "text/plain": [
       "str"
      ]
     },
     "execution_count": 17,
     "metadata": {},
     "output_type": "execute_result"
    }
   ],
   "source": [
    "a = 'hello'\n",
    "type(a)"
   ]
  },
  {
   "cell_type": "code",
   "execution_count": 20,
   "id": "c412fc36-4d21-496e-9b18-8d294d115fe7",
   "metadata": {
    "tags": []
   },
   "outputs": [
    {
     "name": "stdin",
     "output_type": "stream",
     "text": [
      " 26\n"
     ]
    },
    {
     "name": "stdout",
     "output_type": "stream",
     "text": [
      "26\n",
      "<class 'str'>\n"
     ]
    }
   ],
   "source": [
    "age = input()\n",
    "print(age)\n",
    "print(type(age))"
   ]
  },
  {
   "cell_type": "code",
   "execution_count": 21,
   "id": "ba6ff21b-9337-46a4-8074-7fdeb9be4add",
   "metadata": {
    "tags": []
   },
   "outputs": [
    {
     "name": "stdout",
     "output_type": "stream",
     "text": [
      "hello? this is 'Kim'\n"
     ]
    }
   ],
   "source": [
    "print('hello? this is \\'Kim\\'')"
   ]
  },
  {
   "cell_type": "code",
   "execution_count": 24,
   "id": "750d17ad-37e4-4f3d-aa89-5169d59abf5b",
   "metadata": {
    "tags": []
   },
   "outputs": [],
   "source": [
    "a = '''\n",
    "this is string sentence\n",
    "can type several lines by using enter key\n",
    "'''"
   ]
  },
  {
   "cell_type": "code",
   "execution_count": 25,
   "id": "f9cbaa2a-25b5-42bd-af94-dcb026139a71",
   "metadata": {
    "tags": []
   },
   "outputs": [
    {
     "name": "stdout",
     "output_type": "stream",
     "text": [
      "\n",
      "this is string sentence\n",
      "can type several lines by using enter key\n",
      "\n"
     ]
    }
   ],
   "source": [
    "print(a)"
   ]
  },
  {
   "cell_type": "code",
   "execution_count": 27,
   "id": "87e7d15a-74f1-4b9c-8995-c2f17bd12be8",
   "metadata": {
    "tags": []
   },
   "outputs": [
    {
     "name": "stdout",
     "output_type": "stream",
     "text": [
      "type enter \n",
      "next line\n"
     ]
    }
   ],
   "source": [
    "print('type enter \\nnext line')"
   ]
  },
  {
   "cell_type": "code",
   "execution_count": 28,
   "id": "b23bc953-288e-4a0c-a2aa-87ef5d79b47a",
   "metadata": {
    "tags": []
   },
   "outputs": [
    {
     "name": "stdout",
     "output_type": "stream",
     "text": [
      "one two three\n"
     ]
    }
   ],
   "source": [
    "print('one', 'two', 'three')"
   ]
  },
  {
   "cell_type": "code",
   "execution_count": 29,
   "id": "c7f77c49-7149-43f4-ae43-8678df995764",
   "metadata": {
    "tags": []
   },
   "outputs": [
    {
     "name": "stdout",
     "output_type": "stream",
     "text": [
      "one!two!three\n"
     ]
    }
   ],
   "source": [
    "print('one', 'two', 'three', sep='!')"
   ]
  },
  {
   "cell_type": "markdown",
   "id": "ad719f1e-1a00-48a3-9093-b96da80f4ea1",
   "metadata": {},
   "source": [
    "# string interpolation\n",
    "\n",
    "1. %-formatting\n",
    "2. str.format()\n",
    "3. f-string"
   ]
  },
  {
   "cell_type": "code",
   "execution_count": null,
   "id": "e692bc13-c0be-48e8-9bc0-46ee667d6623",
   "metadata": {},
   "outputs": [],
   "source": [
    "#1 \n",
    "print('kim is %s years old' % age)\n",
    "\n",
    "#2 \n",
    "print('kim is {} years old'.format(age)\n",
    "\n",
    "#3\n",
    "print(f'kim is {age} years old')"
   ]
  },
  {
   "cell_type": "code",
   "execution_count": 30,
   "id": "3996c882-8ff9-47a4-b555-d56d2851ae79",
   "metadata": {
    "tags": []
   },
   "outputs": [],
   "source": [
    "%config Completer.use_jedi = False"
   ]
  },
  {
   "cell_type": "code",
   "execution_count": 31,
   "id": "ab6bc1c0-216b-4130-b0ad-9f212327ed82",
   "metadata": {
    "tags": []
   },
   "outputs": [],
   "source": [
    "from notebook.services.config import ConfigManager"
   ]
  },
  {
   "cell_type": "code",
   "execution_count": 34,
   "id": "ccb523b9-b640-4623-bf08-5f0ea8d9f255",
   "metadata": {
    "tags": []
   },
   "outputs": [
    {
     "data": {
      "text/plain": [
       "{'keys': {'command': {'unbind': ['ctrl-enter', 'shift-enter'],\n",
       "   'bind': {'ctrl-enter': 'jupyter-notebook:run-cell',\n",
       "    'fn-enter ': 'jupyter-notebook:restart-kernel',\n",
       "    'f2': 'jupyter-notebook:confirm-restart-kernel-and-run-all-cells',\n",
       "    'shift-enter': 'jupyter-notebook:run-cell-and-select-next',\n",
       "    'ctrl-down': 'jupyter-notebook:move-cell-down',\n",
       "    'ctrl-up': 'jupyter-notebook:move-cell-up'}}},\n",
       " 'Notebook': {'Header': True, 'Toolbar': False},\n",
       " 'Cell': {'cm_config': {'lineNumbers': False}},\n",
       " 'CodeCell': {'cm_config': {'autoCloseBrackets': True}}}"
      ]
     },
     "execution_count": 34,
     "metadata": {},
     "output_type": "execute_result"
    }
   ],
   "source": [
    "c = ConfigManager()\n",
    "c.update('notebook', {\"CodeCell\": {\"cm_config\": {\"autoCloseBrackets\": True}}})"
   ]
  },
  {
   "cell_type": "code",
   "execution_count": null,
   "id": "8464e13e-c6ab-4a1d-b2e7-ab882bea6609",
   "metadata": {},
   "outputs": [],
   "source": []
  },
  {
   "cell_type": "code",
   "execution_count": null,
   "id": "4177daa7-1946-4531-9993-580e310bb5c4",
   "metadata": {},
   "outputs": [],
   "source": []
  },
  {
   "cell_type": "code",
   "execution_count": null,
   "id": "51e164a4-99b9-4c3f-8d41-c57db681d036",
   "metadata": {},
   "outputs": [],
   "source": []
  },
  {
   "cell_type": "code",
   "execution_count": null,
   "id": "76bd31f3-4b4a-44c7-a084-d0bb87a5f2d1",
   "metadata": {},
   "outputs": [],
   "source": []
  },
  {
   "cell_type": "code",
   "execution_count": null,
   "id": "ff6e9250-4b71-45ad-96e3-cbae9a255105",
   "metadata": {},
   "outputs": [],
   "source": []
  },
  {
   "cell_type": "code",
   "execution_count": null,
   "id": "3269b9fe-5472-405d-af17-feea18f6da74",
   "metadata": {},
   "outputs": [],
   "source": []
  },
  {
   "cell_type": "code",
   "execution_count": null,
   "id": "36c2dcb6-2aed-4a28-9653-ad359a85645c",
   "metadata": {},
   "outputs": [],
   "source": []
  },
  {
   "cell_type": "code",
   "execution_count": null,
   "id": "f8e17f32-6f77-4d6d-87e4-cf2f6b0c7ce9",
   "metadata": {},
   "outputs": [],
   "source": []
  },
  {
   "cell_type": "code",
   "execution_count": null,
   "id": "614ac320-0f57-450f-abd1-3aa0e854d1ff",
   "metadata": {},
   "outputs": [],
   "source": []
  },
  {
   "cell_type": "code",
   "execution_count": null,
   "id": "3cae4a5f-6455-481f-a213-46d6e46dca5c",
   "metadata": {},
   "outputs": [],
   "source": []
  },
  {
   "cell_type": "code",
   "execution_count": null,
   "id": "781bd52e-719f-483b-a04f-2fb92bbdc0c2",
   "metadata": {},
   "outputs": [],
   "source": []
  },
  {
   "cell_type": "code",
   "execution_count": null,
   "id": "0c0162c6-0b8d-4753-958e-1b79652ffbb5",
   "metadata": {},
   "outputs": [],
   "source": []
  },
  {
   "cell_type": "code",
   "execution_count": null,
   "id": "4d6c79ef-5664-4dc6-a8e5-66dce4565434",
   "metadata": {},
   "outputs": [],
   "source": []
  },
  {
   "cell_type": "code",
   "execution_count": null,
   "id": "7f37336c-b2f3-45c9-a7de-19b16546e3bc",
   "metadata": {},
   "outputs": [],
   "source": []
  },
  {
   "cell_type": "code",
   "execution_count": null,
   "id": "dabd8b3c-3f3e-479b-bb19-6e16b33861cb",
   "metadata": {},
   "outputs": [],
   "source": []
  }
 ],
 "metadata": {
  "kernelspec": {
   "display_name": "Python 3 (ipykernel)",
   "language": "python",
   "name": "python3"
  },
  "language_info": {
   "codemirror_mode": {
    "name": "ipython",
    "version": 3
   },
   "file_extension": ".py",
   "mimetype": "text/x-python",
   "name": "python",
   "nbconvert_exporter": "python",
   "pygments_lexer": "ipython3",
   "version": "3.9.7"
  }
 },
 "nbformat": 4,
 "nbformat_minor": 5
}
