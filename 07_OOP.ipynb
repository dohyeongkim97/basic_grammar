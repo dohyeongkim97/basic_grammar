{
 "cells": [
  {
   "cell_type": "markdown",
   "id": "2d98d186-4661-4b41-82bc-a187f796c2db",
   "metadata": {},
   "source": [
    "# Object Oriented Programming"
   ]
  },
  {
   "cell_type": "markdown",
   "id": "1bffdf1f-911d-42e6-b247-33f5e353ab77",
   "metadata": {},
   "source": [
    "- Class : 동종 집단에 속하는, 속성과 행위를 정의한 것.\n",
    "- Instance : 클래스를 실제로 메모리상에 할당한 것.\n",
    "- Attribute : 클래스 / 인스턴스가 가진 **데이터** 값\n",
    "- Method : 클래스 / 인스턴스가 가진 **함수** / 기능"
   ]
  },
  {
   "cell_type": "code",
   "execution_count": 1,
   "id": "02191c97-0cf4-4c9b-a66b-d5076e3aec89",
   "metadata": {
    "tags": []
   },
   "outputs": [
    {
     "name": "stdout",
     "output_type": "stream",
     "text": [
      "(1+2j)\n"
     ]
    }
   ],
   "source": [
    "number = 1+2j\n",
    "print(number)"
   ]
  },
  {
   "cell_type": "code",
   "execution_count": 2,
   "id": "9454ae71-77de-4d1b-8628-5bf6c8607e50",
   "metadata": {
    "tags": []
   },
   "outputs": [
    {
     "name": "stdout",
     "output_type": "stream",
     "text": [
      "1.0\n",
      "2.0\n"
     ]
    }
   ],
   "source": [
    "print(number.real)\n",
    "print(number.imag)"
   ]
  },
  {
   "cell_type": "code",
   "execution_count": null,
   "id": "22437efe-1039-4d77-bbfe-60745cf7a0cc",
   "metadata": {},
   "outputs": [],
   "source": [
    "# 괄호가 있다면 함수(행위), 없다면 단일 데이터(속성)"
   ]
  },
  {
   "cell_type": "code",
   "execution_count": 3,
   "id": "215e0bea-349b-40d8-af5e-aec95f48c16d",
   "metadata": {
    "tags": []
   },
   "outputs": [
    {
     "data": {
      "text/plain": [
       "['__abs__',\n",
       " '__add__',\n",
       " '__bool__',\n",
       " '__class__',\n",
       " '__delattr__',\n",
       " '__dir__',\n",
       " '__divmod__',\n",
       " '__doc__',\n",
       " '__eq__',\n",
       " '__float__',\n",
       " '__floordiv__',\n",
       " '__format__',\n",
       " '__ge__',\n",
       " '__getattribute__',\n",
       " '__getnewargs__',\n",
       " '__gt__',\n",
       " '__hash__',\n",
       " '__init__',\n",
       " '__init_subclass__',\n",
       " '__int__',\n",
       " '__le__',\n",
       " '__lt__',\n",
       " '__mod__',\n",
       " '__mul__',\n",
       " '__ne__',\n",
       " '__neg__',\n",
       " '__new__',\n",
       " '__pos__',\n",
       " '__pow__',\n",
       " '__radd__',\n",
       " '__rdivmod__',\n",
       " '__reduce__',\n",
       " '__reduce_ex__',\n",
       " '__repr__',\n",
       " '__rfloordiv__',\n",
       " '__rmod__',\n",
       " '__rmul__',\n",
       " '__rpow__',\n",
       " '__rsub__',\n",
       " '__rtruediv__',\n",
       " '__setattr__',\n",
       " '__sizeof__',\n",
       " '__str__',\n",
       " '__sub__',\n",
       " '__subclasshook__',\n",
       " '__truediv__',\n",
       " 'conjugate',\n",
       " 'imag',\n",
       " 'real']"
      ]
     },
     "execution_count": 3,
     "metadata": {},
     "output_type": "execute_result"
    }
   ],
   "source": [
    "dir(number)"
   ]
  },
  {
   "cell_type": "code",
   "execution_count": 4,
   "id": "9559c25c-3124-444a-a9f7-fe17e554b653",
   "metadata": {
    "tags": []
   },
   "outputs": [
    {
     "name": "stdout",
     "output_type": "stream",
     "text": [
      "<class 'list'>\n"
     ]
    }
   ],
   "source": [
    "my_list = [1, 2, 3, 4, 5]\n",
    "print(type(my_list))\n",
    "my_list.sort()"
   ]
  },
  {
   "cell_type": "code",
   "execution_count": 5,
   "id": "9ef0d462-cad8-440f-831f-850c1acbf67a",
   "metadata": {
    "tags": []
   },
   "outputs": [],
   "source": [
    "power = False\n",
    "number = '010-1234-1234'\n",
    "book = {\n",
    "    '홍길동' : '010-1111-1111',\n",
    "    '이순신' : '010-2222-2222',\n",
    "}"
   ]
  },
  {
   "cell_type": "markdown",
   "id": "40461f32-61c5-4449-8128-3af6dd19b2cc",
   "metadata": {},
   "source": [
    "## Class\n",
    "\n",
    "```python\n",
    "class ClassName:\n",
    "    attribute = Value\n",
    "    \n",
    "    def method_name(self):\n",
    "        code\n",
    "```"
   ]
  },
  {
   "cell_type": "code",
   "execution_count": 6,
   "id": "f0048893-012b-4075-a5b4-98b3d170abac",
   "metadata": {
    "tags": []
   },
   "outputs": [],
   "source": [
    "class MyClass:\n",
    "    name = 'kim'\n",
    "    \n",
    "    def hello(self):\n",
    "        return 'hello'"
   ]
  },
  {
   "cell_type": "code",
   "execution_count": 7,
   "id": "2a8cc6f6-58b0-46f7-b16a-34b6291dcc79",
   "metadata": {
    "tags": []
   },
   "outputs": [],
   "source": [
    "a = MyClass()"
   ]
  },
  {
   "cell_type": "code",
   "execution_count": 35,
   "id": "8163c7d3-a184-41e1-b285-d377722f9acb",
   "metadata": {
    "tags": []
   },
   "outputs": [],
   "source": [
    "class Phone:\n",
    "    power = False\n",
    "    number = '010-0000-0000'\n",
    "    book = {}\n",
    "    model = ''\n",
    "    \n",
    "    def on(self):\n",
    "        if self.power == False:\n",
    "            self.power = True\n",
    "            \n",
    "    def off(self):\n",
    "        if self.power == True:\n",
    "            self.power = False\n",
    "            \n",
    "    def call(self, target):\n",
    "        if self.power == True:\n",
    "            print('my number is {}'.format(self.number))\n",
    "            print('{} on calling'.format(target))\n",
    "            \n",
    "        else:\n",
    "            print('turn on the mobile')\n",
    "    "
   ]
  },
  {
   "cell_type": "code",
   "execution_count": 36,
   "id": "8ffa52a6-c32f-434e-aedb-0d033ca18526",
   "metadata": {
    "tags": []
   },
   "outputs": [],
   "source": [
    "my_phone = Phone()\n",
    "ur_phone = Phone()"
   ]
  },
  {
   "cell_type": "code",
   "execution_count": 37,
   "id": "8869171f-5261-4f29-9563-14873ecd802a",
   "metadata": {
    "tags": []
   },
   "outputs": [],
   "source": [
    "my_phone.number = '010-1234-1234'"
   ]
  },
  {
   "cell_type": "code",
   "execution_count": 38,
   "id": "7dd793e8-7d8f-4dbc-8449-96fb5e7873ce",
   "metadata": {
    "tags": []
   },
   "outputs": [
    {
     "name": "stdout",
     "output_type": "stream",
     "text": [
      "010-1234-1234\n"
     ]
    }
   ],
   "source": [
    "print(my_phone.number)"
   ]
  },
  {
   "cell_type": "code",
   "execution_count": 39,
   "id": "b5cdb53c-9eb7-455d-a01f-9b987b26223d",
   "metadata": {
    "tags": []
   },
   "outputs": [
    {
     "data": {
      "text/plain": [
       "False"
      ]
     },
     "execution_count": 39,
     "metadata": {},
     "output_type": "execute_result"
    }
   ],
   "source": [
    "my_phone.power"
   ]
  },
  {
   "cell_type": "code",
   "execution_count": 40,
   "id": "9244bde6-f99d-4ba6-9053-d1041fb32c8f",
   "metadata": {
    "tags": []
   },
   "outputs": [
    {
     "data": {
      "text/plain": [
       "True"
      ]
     },
     "execution_count": 40,
     "metadata": {},
     "output_type": "execute_result"
    }
   ],
   "source": [
    "my_phone.on()\n",
    "my_phone.power"
   ]
  },
  {
   "cell_type": "code",
   "execution_count": 41,
   "id": "d9a5a2d6-658d-4525-af8e-630285bf14f1",
   "metadata": {
    "tags": []
   },
   "outputs": [
    {
     "name": "stdout",
     "output_type": "stream",
     "text": [
      "my number is 010-1234-1234\n",
      "112 on calling\n"
     ]
    }
   ],
   "source": [
    "my_phone.call('112')"
   ]
  },
  {
   "cell_type": "code",
   "execution_count": 51,
   "id": "abd63648-9efa-4f1f-8852-d452e5ca3b86",
   "metadata": {
    "tags": []
   },
   "outputs": [],
   "source": [
    "class MyList:\n",
    "    data = []\n",
    "    \n",
    "    def append(self, item):\n",
    "        self.data = self.data + [item]\n",
    "        \n",
    "    # 데이터의 마지막 요소를 삭제, 삭제된 요소를 리턴\n",
    "    def pop(self, item=False):\n",
    "        num = self.data[-1]\n",
    "        self.data = self.data[:-1]\n",
    "        return num"
   ]
  },
  {
   "cell_type": "code",
   "execution_count": 52,
   "id": "05302a57-dd23-4e8b-b4f7-19f607f1acd5",
   "metadata": {
    "tags": []
   },
   "outputs": [],
   "source": [
    "list_a = MyList()\n",
    "list_a.data\n",
    "\n",
    "list_a.append(5)\n",
    "list_a.append(1)\n",
    "list_a.append(10)"
   ]
  },
  {
   "cell_type": "code",
   "execution_count": 53,
   "id": "b221448d-0560-49b8-b133-d327050c71b1",
   "metadata": {
    "tags": []
   },
   "outputs": [
    {
     "data": {
      "text/plain": [
       "[5, 1, 10]"
      ]
     },
     "execution_count": 53,
     "metadata": {},
     "output_type": "execute_result"
    }
   ],
   "source": [
    "list_a.data"
   ]
  },
  {
   "cell_type": "code",
   "execution_count": 54,
   "id": "45e1e432-9e1c-4840-88eb-348ccee76a5e",
   "metadata": {
    "tags": []
   },
   "outputs": [],
   "source": [
    "list_b = MyList()\n",
    "list_b.append(2)\n",
    "list_b.append(4)\n",
    "list_b.append(6)"
   ]
  },
  {
   "cell_type": "code",
   "execution_count": 55,
   "id": "576082c2-94ab-4664-81d4-fa1235c64f09",
   "metadata": {
    "tags": []
   },
   "outputs": [
    {
     "data": {
      "text/plain": [
       "[2, 4, 6]"
      ]
     },
     "execution_count": 55,
     "metadata": {},
     "output_type": "execute_result"
    }
   ],
   "source": [
    "list_b.data"
   ]
  },
  {
   "cell_type": "code",
   "execution_count": 56,
   "id": "649cb552-d23e-43a7-9666-0f027f843ee7",
   "metadata": {
    "tags": []
   },
   "outputs": [
    {
     "data": {
      "text/plain": [
       "10"
      ]
     },
     "execution_count": 56,
     "metadata": {},
     "output_type": "execute_result"
    }
   ],
   "source": [
    "list_a.pop()"
   ]
  },
  {
   "cell_type": "code",
   "execution_count": 58,
   "id": "d4493a05-ae66-4191-9cb8-af742e173eff",
   "metadata": {
    "tags": []
   },
   "outputs": [
    {
     "data": {
      "text/plain": [
       "[5, 1]"
      ]
     },
     "execution_count": 58,
     "metadata": {},
     "output_type": "execute_result"
    }
   ],
   "source": [
    "list_a.data"
   ]
  },
  {
   "cell_type": "code",
   "execution_count": 59,
   "id": "8614c1fd-bb79-46be-aac5-bf9752d5c4d8",
   "metadata": {
    "tags": []
   },
   "outputs": [
    {
     "data": {
      "text/plain": [
       "'kim'"
      ]
     },
     "execution_count": 59,
     "metadata": {},
     "output_type": "execute_result"
    }
   ],
   "source": [
    "#summary\n",
    "\n",
    "class Person:\n",
    "    name = 'kim'\n",
    "    \n",
    "    def hello(self):\n",
    "        return self.name\n",
    "    \n",
    "p = Person()  # 인스턴스화 / 인스턴스 객체를 생성\n",
    "p.name    # 속성 호출\n",
    "p.hello() # 메소드 실행"
   ]
  },
  {
   "cell_type": "code",
   "execution_count": 60,
   "id": "402982fd-cd76-43db-a89c-f4fac1d2614f",
   "metadata": {
    "tags": []
   },
   "outputs": [],
   "source": [
    "class Fan():\n",
    "    power = 0\n",
    "    rotation = False\n",
    "    \n",
    "    def power_set(self, num):\n",
    "        self.power = num\n",
    "        \n",
    "    def rot(self):\n",
    "        if self.rotation == False:\n",
    "            self.rotation = True\n",
    "\n",
    "        else:\n",
    "            self.rotation = False\n",
    "\n",
    "f = Fan()\n"
   ]
  },
  {
   "cell_type": "code",
   "execution_count": 61,
   "id": "19f31734-6aab-49ac-9abd-c0a3b5b0a16a",
   "metadata": {
    "tags": []
   },
   "outputs": [
    {
     "data": {
      "text/plain": [
       "0"
      ]
     },
     "execution_count": 61,
     "metadata": {},
     "output_type": "execute_result"
    }
   ],
   "source": [
    "f.power"
   ]
  },
  {
   "cell_type": "code",
   "execution_count": 63,
   "id": "8647edae-b46e-414c-87ce-993e0a3e27d8",
   "metadata": {
    "tags": []
   },
   "outputs": [],
   "source": [
    "f.power_set(2)"
   ]
  },
  {
   "cell_type": "code",
   "execution_count": 64,
   "id": "42f03826-dad3-433c-9b18-fb8dad605673",
   "metadata": {
    "tags": []
   },
   "outputs": [
    {
     "data": {
      "text/plain": [
       "2"
      ]
     },
     "execution_count": 64,
     "metadata": {},
     "output_type": "execute_result"
    }
   ],
   "source": [
    "f.power"
   ]
  },
  {
   "cell_type": "code",
   "execution_count": 65,
   "id": "0f850324-c0ac-4903-99c2-f33a0058938e",
   "metadata": {
    "tags": []
   },
   "outputs": [
    {
     "data": {
      "text/plain": [
       "False"
      ]
     },
     "execution_count": 65,
     "metadata": {},
     "output_type": "execute_result"
    }
   ],
   "source": [
    "f.rotation"
   ]
  },
  {
   "cell_type": "code",
   "execution_count": 66,
   "id": "b9f13705-bc2d-4342-9f8a-e064a9076e94",
   "metadata": {
    "tags": []
   },
   "outputs": [],
   "source": [
    "f.rot()"
   ]
  },
  {
   "cell_type": "code",
   "execution_count": 67,
   "id": "5ac5d781-1b02-4d53-813e-f3d7f511b475",
   "metadata": {
    "tags": []
   },
   "outputs": [
    {
     "data": {
      "text/plain": [
       "True"
      ]
     },
     "execution_count": 67,
     "metadata": {},
     "output_type": "execute_result"
    }
   ],
   "source": [
    "f.rotation"
   ]
  },
  {
   "cell_type": "code",
   "execution_count": 1,
   "id": "e7bd9fff-411a-4720-b232-7d05be9597fb",
   "metadata": {},
   "outputs": [
    {
     "name": "stdout",
     "output_type": "stream",
     "text": [
      "\n",
      "my name is \n"
     ]
    }
   ],
   "source": [
    "class Person():\n",
    "    name = ''\n",
    "    \n",
    "    def hello(self):\n",
    "        print('my name is {}'.format(self.name))\n",
    "        \n",
    "p = Person()\n",
    "print(p.name)\n",
    "p.hello()"
   ]
  },
  {
   "cell_type": "code",
   "execution_count": 2,
   "id": "1a2dce24-45a3-4c2f-94da-5a44609215b0",
   "metadata": {},
   "outputs": [
    {
     "name": "stdout",
     "output_type": "stream",
     "text": [
      "my name is kim\n"
     ]
    }
   ],
   "source": [
    "p.name = 'kim'\n",
    "p.hello()"
   ]
  },
  {
   "cell_type": "markdown",
   "id": "a86cb892-8012-46d5-a3ea-11989e7be83c",
   "metadata": {},
   "source": [
    "## self: 인스턴스 객체 자기 자신"
   ]
  },
  {
   "cell_type": "markdown",
   "id": "57a02bba-a344-4216-a18e-9110f65f68f7",
   "metadata": {},
   "source": [
    "- 특수한 상황을 제외하고는 무조건 메소드의 첫 번째 인자로 설정."
   ]
  },
  {
   "cell_type": "code",
   "execution_count": 4,
   "id": "a8f9329c-3a70-47a2-a7f5-6f1c77536955",
   "metadata": {
    "tags": []
   },
   "outputs": [
    {
     "name": "stdout",
     "output_type": "stream",
     "text": [
      "my name is \n",
      "my name is \n"
     ]
    }
   ],
   "source": [
    "p1 = Person()\n",
    "Person.hello(p1)\n",
    "p1.hello()"
   ]
  },
  {
   "cell_type": "markdown",
   "id": "24a8d96a-a96e-466a-9ab7-72f1da7d21bb",
   "metadata": {},
   "source": [
    "##  생성자, 소멸자\n",
    "\n",
    "```python\n",
    "class MyClass:\n",
    "    def __init__(self):\n",
    "        pass\n",
    "    \n",
    "    def __del__(self):\n",
    "        pass\n",
    "```"
   ]
  },
  {
   "cell_type": "code",
   "execution_count": 40,
   "id": "6e94a057-004d-49f1-8198-e3216dc07ae0",
   "metadata": {
    "tags": []
   },
   "outputs": [],
   "source": [
    "class Person:\n",
    "    name = 'noname'\n",
    "    \n",
    "    def __init__(self, name='noname'):\n",
    "        self.name = name\n",
    "        print('생성됨')\n",
    "    \n",
    "    def __del__(self):\n",
    "        print('소멸됨')"
   ]
  },
  {
   "cell_type": "code",
   "execution_count": 41,
   "id": "fc7eb419-4a09-4c77-b0c8-a3349618117e",
   "metadata": {
    "tags": []
   },
   "outputs": [
    {
     "name": "stdout",
     "output_type": "stream",
     "text": [
      "생성됨\n",
      "소멸됨\n",
      "소멸됨\n"
     ]
    }
   ],
   "source": [
    "p1 = Person()\n",
    "\n",
    "del p1"
   ]
  },
  {
   "cell_type": "code",
   "execution_count": 42,
   "id": "579954a7-f1be-46ff-b437-ab71bb5b7397",
   "metadata": {
    "tags": []
   },
   "outputs": [
    {
     "name": "stdout",
     "output_type": "stream",
     "text": [
      "생성됨\n",
      "kim\n"
     ]
    }
   ],
   "source": [
    "p1 = Person()\n",
    "p1.name = 'kim'\n",
    "print(p1.name)"
   ]
  },
  {
   "cell_type": "code",
   "execution_count": 22,
   "id": "16422653-b569-424c-ba9d-41a0115d698f",
   "metadata": {
    "tags": []
   },
   "outputs": [
    {
     "name": "stdout",
     "output_type": "stream",
     "text": [
      "생성됨\n",
      "kim\n"
     ]
    }
   ],
   "source": [
    "p2 = Person('kim')\n",
    "print(p2.name)"
   ]
  },
  {
   "cell_type": "code",
   "execution_count": 56,
   "id": "b492d7a5-5032-4891-af5c-287df848bf71",
   "metadata": {
    "tags": []
   },
   "outputs": [],
   "source": [
    "class Circle:\n",
    "    \n",
    "    pi = 3.14\n",
    "    \n",
    "    def __init__(self, r, x=0, y=0):\n",
    "        self.r = r\n",
    "        self.x = x\n",
    "        self.y = y\n",
    "        \n",
    "    def area(self):\n",
    "        return self.pi * self.r ** 2\n",
    "    \n",
    "    def move(self, x, y):\n",
    "        self.x = x\n",
    "        self.y = y \n",
    "        print('원의 중심이 {}, {}로 이동'.format(self.x, self.y))\n",
    "        \n",
    "    def center(self):\n",
    "        # 원의 중심을 (x, y)로 반환\n",
    "        return (self.x, self.y)\n",
    "        "
   ]
  },
  {
   "cell_type": "code",
   "execution_count": 49,
   "id": "95edacdf-8e65-4e81-94c6-b18dff65c1cf",
   "metadata": {
    "tags": []
   },
   "outputs": [
    {
     "name": "stdout",
     "output_type": "stream",
     "text": [
      "0\n",
      "3\n"
     ]
    }
   ],
   "source": [
    "c1 = Circle(3, 0, 0)\n",
    "print(c1.x)\n",
    "print(c1.r)"
   ]
  },
  {
   "cell_type": "code",
   "execution_count": 50,
   "id": "b4a1b66a-7dca-48c8-8f80-8b96815e76d7",
   "metadata": {
    "tags": []
   },
   "outputs": [
    {
     "name": "stdout",
     "output_type": "stream",
     "text": [
      "0\n",
      "10\n"
     ]
    }
   ],
   "source": [
    "c2 = Circle(10)\n",
    "print(c2.x)\n",
    "print(c2.r)"
   ]
  },
  {
   "cell_type": "code",
   "execution_count": 52,
   "id": "5c936c23-6f0c-4037-ab50-02317c51625a",
   "metadata": {
    "tags": []
   },
   "outputs": [
    {
     "data": {
      "text/plain": [
       "314.0"
      ]
     },
     "execution_count": 52,
     "metadata": {},
     "output_type": "execute_result"
    }
   ],
   "source": [
    "c2.area()"
   ]
  },
  {
   "cell_type": "code",
   "execution_count": 55,
   "id": "11ef508b-3ad1-4913-9f3f-960c4b4a2d2c",
   "metadata": {
    "tags": []
   },
   "outputs": [
    {
     "name": "stdout",
     "output_type": "stream",
     "text": [
      "5\n",
      "3\n",
      "28.26\n",
      "원의 중심이 -3, -3로 이동\n"
     ]
    }
   ],
   "source": [
    "c1 = Circle(3, 5, 5)\n",
    "print(c1.x)\n",
    "print(c1.r)\n",
    "print(c1.area())\n",
    "\n",
    "c1.move(-3, -3)"
   ]
  },
  {
   "cell_type": "markdown",
   "id": "1fd85d2b-f769-40a3-9716-195122c92ccf",
   "metadata": {},
   "source": [
    "### 클래스 변수\n",
    "- 클래스 선언 블록 최상단에 위치\n",
    "\n",
    "### 인스턴스 변수\n",
    "- 인스턴스 내부에서 생성한 변수(self.variale = )\n",
    "\n",
    "```python\n",
    "class testclass:\n",
    "    class_variable = '클래스변수'\n",
    "    \n",
    "    def __init__(self, arg):\n",
    "        self.instance_variable = '인스턴스 변수'\n",
    "        \n",
    "    def status(self):\n",
    "        return self.instance_variable\n",
    "```"
   ]
  },
  {
   "cell_type": "code",
   "execution_count": 57,
   "id": "ec6e038b-383b-482f-ad9b-ea0f26872bbb",
   "metadata": {
    "tags": []
   },
   "outputs": [],
   "source": [
    "class Person:\n",
    "    name = 'kildong'\n",
    "    phone = '010-1234-1234'\n",
    "    \n",
    "    def __init__(self, name):\n",
    "        self.name = name"
   ]
  },
  {
   "cell_type": "code",
   "execution_count": 58,
   "id": "064e31cc-8b30-4425-84b0-b513f5f210a5",
   "metadata": {
    "tags": []
   },
   "outputs": [
    {
     "name": "stdout",
     "output_type": "stream",
     "text": [
      "kim\n",
      "kildong\n",
      "010-1234-1234\n",
      "소멸됨\n"
     ]
    },
    {
     "ename": "AttributeError",
     "evalue": "'Person' object has no attribute 'location'",
     "output_type": "error",
     "traceback": [
      "\u001b[1;31m---------------------------------------------------------------------------\u001b[0m",
      "\u001b[1;31mAttributeError\u001b[0m                            Traceback (most recent call last)",
      "Cell \u001b[1;32mIn[58], line 5\u001b[0m\n\u001b[0;32m      3\u001b[0m \u001b[38;5;28mprint\u001b[39m(Person\u001b[38;5;241m.\u001b[39mname)\n\u001b[0;32m      4\u001b[0m \u001b[38;5;28mprint\u001b[39m(p\u001b[38;5;241m.\u001b[39mphone)\n\u001b[1;32m----> 5\u001b[0m \u001b[38;5;28mprint\u001b[39m(\u001b[43mp\u001b[49m\u001b[38;5;241;43m.\u001b[39;49m\u001b[43mlocation\u001b[49m)\n",
      "\u001b[1;31mAttributeError\u001b[0m: 'Person' object has no attribute 'location'"
     ]
    }
   ],
   "source": [
    "p = Person('kim')\n",
    "print(p.name)\n",
    "print(Person.name)\n",
    "print(p.phone)\n",
    "print(p.location)"
   ]
  },
  {
   "cell_type": "markdown",
   "id": "f0372cfe-43e3-49cb-987b-03a02ae0eb65",
   "metadata": {},
   "source": [
    "## 클래스메소드, 인스턴스메소드, 스태틱메소드\n",
    "\n",
    "```python\n",
    "class MyClass:\n",
    "    def instance_method(self):\n",
    "        pass\n",
    "    \n",
    "    @classmethod\n",
    "    def class_method(cls):\n",
    "        pass\n",
    "    \n",
    "    @staticmethod\n",
    "    def static_method():\n",
    "        pass\n",
    "```"
   ]
  },
  {
   "cell_type": "code",
   "execution_count": 59,
   "id": "a0d111a9-8fc7-4e56-9756-42047410b57b",
   "metadata": {
    "tags": []
   },
   "outputs": [],
   "source": [
    "class MyClass:\n",
    "    \n",
    "    def instance_method(self):\n",
    "        return self\n",
    "    \n",
    "    @classmethod\n",
    "    def class_method(cls):\n",
    "        return cls\n",
    "    \n",
    "    @staticmethod\n",
    "    def static_method():\n",
    "        return 'hello'"
   ]
  },
  {
   "cell_type": "code",
   "execution_count": 63,
   "id": "c5abeb0c-49be-454a-8c2c-a3fad7b9c03a",
   "metadata": {
    "tags": []
   },
   "outputs": [
    {
     "name": "stdout",
     "output_type": "stream",
     "text": [
      "<__main__.MyClass object at 0x000001652C932400>\n",
      "<class '__main__.MyClass'>\n",
      "<class '__main__.MyClass'>\n",
      "hello\n"
     ]
    }
   ],
   "source": [
    "c1 = MyClass()\n",
    "\n",
    "print(c1.instance_method())\n",
    "print(MyClass.class_method())\n",
    "print(c1.class_method())\n",
    "print(c1.static_method())"
   ]
  },
  {
   "cell_type": "code",
   "execution_count": 83,
   "id": "0ad2cef1-c4f8-4bee-8480-3c8d90a8893c",
   "metadata": {
    "tags": []
   },
   "outputs": [],
   "source": [
    "class Puppy:\n",
    "    num_of_puppy = 0\n",
    "    \n",
    "    def __init__(self, name):\n",
    "        self.name = name\n",
    "        Puppy.num_of_puppy += 1\n",
    "        \n",
    "        \n",
    "    @classmethod\n",
    "    def get_status(cls):\n",
    "        return f'현재 강아지는 {cls.num_of_puppy}마리입니다.'\n",
    "    \n",
    "    @staticmethod\n",
    "    def bark(string='멍멍'):\n",
    "        return string"
   ]
  },
  {
   "cell_type": "code",
   "execution_count": 84,
   "id": "daf937de-467f-402c-b9a5-6e20068b3c3c",
   "metadata": {
    "tags": []
   },
   "outputs": [],
   "source": [
    "p1 = Puppy('또또')\n",
    "p2 = Puppy('몽이')\n",
    "p3 = Puppy('흰둥이')"
   ]
  },
  {
   "cell_type": "code",
   "execution_count": 85,
   "id": "d26f99c8-5802-461d-8525-4cf168ceafcd",
   "metadata": {
    "tags": []
   },
   "outputs": [
    {
     "data": {
      "text/plain": [
       "3"
      ]
     },
     "execution_count": 85,
     "metadata": {},
     "output_type": "execute_result"
    }
   ],
   "source": [
    "p1.num_of_puppy"
   ]
  },
  {
   "cell_type": "code",
   "execution_count": 86,
   "id": "9284d941-f8e9-4af9-982b-fbd8fd223b1b",
   "metadata": {
    "tags": []
   },
   "outputs": [
    {
     "data": {
      "text/plain": [
       "3"
      ]
     },
     "execution_count": 86,
     "metadata": {},
     "output_type": "execute_result"
    }
   ],
   "source": [
    "p3.num_of_puppy"
   ]
  },
  {
   "cell_type": "code",
   "execution_count": 87,
   "id": "f904faa9-65fd-434c-9a44-9b2656c1107e",
   "metadata": {
    "tags": []
   },
   "outputs": [
    {
     "name": "stdout",
     "output_type": "stream",
     "text": [
      "현재 강아지는 3마리입니다.\n"
     ]
    }
   ],
   "source": [
    "print(Puppy.get_status())"
   ]
  },
  {
   "cell_type": "code",
   "execution_count": 88,
   "id": "b6c14e52-dc33-4711-b10c-1c5ac6b640ab",
   "metadata": {
    "tags": []
   },
   "outputs": [
    {
     "name": "stdout",
     "output_type": "stream",
     "text": [
      "멍멍\n",
      "그르릉\n"
     ]
    }
   ],
   "source": [
    "print(p1.bark())\n",
    "print(p2.bark('그르릉'))"
   ]
  },
  {
   "cell_type": "markdown",
   "id": "c85d6d48-0cb4-4061-84e9-7ac81351d59c",
   "metadata": {},
   "source": [
    "## summary\n",
    "\n",
    "class\n",
    "\n",
    "    - attribute (variable, data)\n",
    "        - instance_variable\n",
    "        - class_variable\n",
    "        \n",
    "    - method\n",
    "        - instance method\n",
    "        - class_method\n",
    "        - static_method"
   ]
  },
  {
   "cell_type": "markdown",
   "id": "2880e800-51bf-486d-8dfc-333da8ce4cd6",
   "metadata": {},
   "source": [
    "# Inherit"
   ]
  },
  {
   "cell_type": "code",
   "execution_count": 89,
   "id": "a8d6aa1f-bffd-4bca-a4a2-3eeea5f7d30c",
   "metadata": {
    "tags": []
   },
   "outputs": [],
   "source": [
    "class Person:\n",
    "    \n",
    "    def __init__(self, name):\n",
    "        self.name = name\n",
    "        \n",
    "    def greeting(self):\n",
    "        print('안녕하세요 {}입니다'.format(self.name))"
   ]
  },
  {
   "cell_type": "code",
   "execution_count": 94,
   "id": "523e3a22-fc2c-4de7-8785-4097e38ce70f",
   "metadata": {
    "tags": []
   },
   "outputs": [],
   "source": [
    "class Student(Person):\n",
    "    pass\n",
    "    "
   ]
  },
  {
   "cell_type": "code",
   "execution_count": 95,
   "id": "fa00f392-16cf-4843-ac6f-67df4b3f45e3",
   "metadata": {
    "tags": []
   },
   "outputs": [],
   "source": [
    "s1 = Student('park')"
   ]
  },
  {
   "cell_type": "code",
   "execution_count": 96,
   "id": "ef498f77-421f-4baa-86cc-99006f283202",
   "metadata": {
    "tags": []
   },
   "outputs": [
    {
     "name": "stdout",
     "output_type": "stream",
     "text": [
      "안녕하세요 park입니다\n"
     ]
    }
   ],
   "source": [
    "s1.greeting()"
   ]
  },
  {
   "cell_type": "code",
   "execution_count": 97,
   "id": "1061b498-8c8a-43ed-ac2f-de9ee391bfe9",
   "metadata": {
    "tags": []
   },
   "outputs": [],
   "source": [
    "class Student(Person):\n",
    "    def __init__(self, name, student_id):\n",
    "        self.name = name\n",
    "        self.student_id = student_id\n",
    "        \n",
    "        "
   ]
  },
  {
   "cell_type": "code",
   "execution_count": 98,
   "id": "0aa0c5a7-59f1-4166-8503-fa4c26b03ea2",
   "metadata": {
    "tags": []
   },
   "outputs": [],
   "source": [
    "s1 = Student('kim', 12345)\n",
    "s2 = Student('park', 98765)"
   ]
  },
  {
   "cell_type": "code",
   "execution_count": 99,
   "id": "3e4db9fe-e6db-4678-8f56-78666d0f71ee",
   "metadata": {
    "tags": []
   },
   "outputs": [
    {
     "data": {
      "text/plain": [
       "12345"
      ]
     },
     "execution_count": 99,
     "metadata": {},
     "output_type": "execute_result"
    }
   ],
   "source": [
    "s1.student_id"
   ]
  },
  {
   "cell_type": "code",
   "execution_count": 100,
   "id": "5269cf55-85d9-41b0-a836-5c531a97e4ee",
   "metadata": {
    "tags": []
   },
   "outputs": [
    {
     "name": "stdout",
     "output_type": "stream",
     "text": [
      "안녕하세요 kim입니다\n"
     ]
    }
   ],
   "source": [
    "s1.greeting()"
   ]
  },
  {
   "cell_type": "code",
   "execution_count": 101,
   "id": "da65d3f7-81fd-41f2-b606-86ba6228abf8",
   "metadata": {
    "tags": []
   },
   "outputs": [],
   "source": [
    "class Soldier(Person):\n",
    "    def greeting(self):\n",
    "        return '충성 {}입니다'.format(self.name)"
   ]
  },
  {
   "cell_type": "code",
   "execution_count": 103,
   "id": "984b11d2-8ab1-4a41-8345-1f681203e580",
   "metadata": {
    "tags": []
   },
   "outputs": [
    {
     "data": {
      "text/plain": [
       "'충성 cho입니다'"
      ]
     },
     "execution_count": 103,
     "metadata": {},
     "output_type": "execute_result"
    }
   ],
   "source": [
    "sd1 = Soldier('cho')\n",
    "sd1.greeting()"
   ]
  },
  {
   "cell_type": "code",
   "execution_count": 104,
   "id": "2dec8685-5b2b-4482-84cf-27848a7d9990",
   "metadata": {
    "tags": []
   },
   "outputs": [],
   "source": [
    "class Person:\n",
    "    def __init__(self, email, phone, location, name):\n",
    "        self.email = email\n",
    "        self.phone = phone\n",
    "        self.location = location\n",
    "        self.name = name\n",
    "        \n",
    "class Student(Person):\n",
    "    def __init__(self, email, phone, location, name, student_id):\n",
    "        self.email = email\n",
    "        self.phone = phone\n",
    "        self.location = location\n",
    "        self.name = name\n",
    "        self.student_id = student_id\n",
    "        \n",
    "        \n",
    "class Soldier(Person):\n",
    "    def __init__(self, email, phone, location, name, soldier_id):\n",
    "        super().__init__(email, phone, location, name)\n",
    "        self.soldier_id = soldier_id\n",
    "        "
   ]
  },
  {
   "cell_type": "code",
   "execution_count": 105,
   "id": "db3e7205-495c-4766-b9be-30212920a4ea",
   "metadata": {
    "tags": []
   },
   "outputs": [],
   "source": [
    "sd1 = Soldier('email@email.com', '010-1234', 'se', 'kim', '12345')"
   ]
  },
  {
   "cell_type": "code",
   "execution_count": 110,
   "id": "a5275905-7b41-4c96-98a0-40b9b8f24114",
   "metadata": {
    "tags": []
   },
   "outputs": [
    {
     "data": {
      "text/plain": [
       "'12345'"
      ]
     },
     "execution_count": 110,
     "metadata": {},
     "output_type": "execute_result"
    }
   ],
   "source": [
    "sd1.soldier_id"
   ]
  },
  {
   "cell_type": "code",
   "execution_count": 119,
   "id": "1dcb74d6-bd93-4c7e-a812-50489ca32dcd",
   "metadata": {
    "tags": []
   },
   "outputs": [],
   "source": [
    "class Person:\n",
    "    def __init__(self, name):\n",
    "        self.name = name\n",
    "        \n",
    "    def breath(self):\n",
    "        print(\"ah_puh\")\n",
    "        \n",
    "class Mom(Person):\n",
    "    gene = 'xx'\n",
    "    \n",
    "    def swim(self):\n",
    "        print('ah-puh ah-puh')\n",
    "        \n",
    "class Dad(Person):\n",
    "    gene = 'xy'\n",
    "    \n",
    "    def run(self):\n",
    "        print('tatatat')\n",
    "        \n",
    "class Baby(Mom, Dad):\n",
    "    pass"
   ]
  },
  {
   "cell_type": "code",
   "execution_count": 120,
   "id": "d1d5870a-82e1-48f0-804f-0aaa0adab9a8",
   "metadata": {
    "tags": []
   },
   "outputs": [],
   "source": [
    "b = Baby('금쪽이')"
   ]
  },
  {
   "cell_type": "code",
   "execution_count": 206,
   "id": "69de60c1-7f23-4c7f-8ee3-c9f34f10dd89",
   "metadata": {
    "tags": []
   },
   "outputs": [],
   "source": [
    "import random "
   ]
  },
  {
   "cell_type": "code",
   "execution_count": 561,
   "id": "1914a2e9-1b4b-4e83-80f3-fa806ffa4fb4",
   "metadata": {
    "tags": []
   },
   "outputs": [],
   "source": [
    "class Pokemon:\n",
    "    def __init__(self, hp, dmg, df, speed, s_at, s_df, name):\n",
    "        self.hp = hp\n",
    "        self.dmg = dmg\n",
    "        self.df = df\n",
    "        self.speed = speed\n",
    "        self.s_at = s_at\n",
    "        self.s_df = s_df\n",
    "        self.lv = 1\n",
    "        self.name = name\n",
    "        \n",
    "    def status(self):\n",
    "        print(f'status: hp:{hp}  dmg:{dmg}  df:{df}  speed:{speed}  specialat:{s_at}  specialdf:{s_df} lv:{lv}')\n",
    "        \n",
    "class Squirtle(Pokemon):\n",
    "    def __init__(self, hp, dmg, df, speed, s_at, s_df, name):\n",
    "        super().__init__(hp, dmg, df, speed, s_at, s_df, name)\n",
    "        self.Type = 'water'\n",
    "        \n",
    "        \n",
    "class Pikachu(Pokemon):\n",
    "    def __init__(self, hp, dmg, df, speed, s_at, s_df, name):\n",
    "        super().__init__(hp, dmg, df, speed, s_at, s_df, name)\n",
    "        self.Type = 'lightning'\n",
    "\n",
    "\n",
    "    def attack(self, rival):\n",
    "        if rival.Type == 'water':\n",
    "            attack = self.dmg * 2\n",
    "        else:\n",
    "            attack = self.dmg\n",
    "        \n",
    "        critical = random.randint(0, 16)\n",
    "        if critical == 16:\n",
    "            rival.hp -= 2 * attack \n",
    "            print( '{0} 은 {1} 에게 {2} 의 치명적인 공격을 했다'.format(self.name, rival.name, 2 * attack) )\n",
    "            print( '{0} 의 남은 hp는 {1} 이다'.format(rival.name, rival.hp))\n",
    "        \n",
    "        else:\n",
    "            rival.hp -= attack\n",
    "            print( '{0} 은 {1} 에게 {2} 의 공격을 했다'.format(self.name, rival.name, attack) )\n",
    "            print( '{0} 의 남은 hp는 {1} 이다'.format(rival.name, rival.hp))\n",
    "            \n",
    "        if rival.hp <= 0:\n",
    "            print('치명적인 피해를 입었다')\n",
    "        \n",
    "    "
   ]
  },
  {
   "cell_type": "code",
   "execution_count": 577,
   "id": "3ffc32f0-93f9-40ed-b040-ec3666a6c910",
   "metadata": {
    "tags": []
   },
   "outputs": [],
   "source": [
    "squi = Squirtle(80, 25, 20, 10, 5, 1, 'squi')"
   ]
  },
  {
   "cell_type": "code",
   "execution_count": 578,
   "id": "d21a05e1-2a49-4a34-9f0a-0c8027761992",
   "metadata": {
    "tags": []
   },
   "outputs": [],
   "source": [
    "pika = Pikachu(100, 20, 15, 20, 10, 5, 'pika')"
   ]
  },
  {
   "cell_type": "code",
   "execution_count": 579,
   "id": "c07d25e1-8cc7-455b-b462-2ec8d9b8c463",
   "metadata": {
    "tags": []
   },
   "outputs": [
    {
     "name": "stdout",
     "output_type": "stream",
     "text": [
      "pika 은 squi 에게 80 의 치명적인 공격을 했다\n",
      "squi 의 남은 hp는 0 이다\n",
      "치명적인 피해를 입었다\n"
     ]
    }
   ],
   "source": [
    "pika.attack(squi)"
   ]
  },
  {
   "cell_type": "code",
   "execution_count": 435,
   "id": "3ac08c4b-d7a6-4e28-87cc-daeb011eb1de",
   "metadata": {
    "tags": []
   },
   "outputs": [
    {
     "data": {
      "text/plain": [
       "40"
      ]
     },
     "execution_count": 435,
     "metadata": {},
     "output_type": "execute_result"
    }
   ],
   "source": [
    "squi.hp"
   ]
  },
  {
   "cell_type": "code",
   "execution_count": null,
   "id": "c7696cd9-07bf-4865-96b5-b551b042dd45",
   "metadata": {},
   "outputs": [],
   "source": []
  }
 ],
 "metadata": {
  "kernelspec": {
   "display_name": "Python 3 (ipykernel)",
   "language": "python",
   "name": "python3"
  },
  "language_info": {
   "codemirror_mode": {
    "name": "ipython",
    "version": 3
   },
   "file_extension": ".py",
   "mimetype": "text/x-python",
   "name": "python",
   "nbconvert_exporter": "python",
   "pygments_lexer": "ipython3",
   "version": "3.9.7"
  }
 },
 "nbformat": 4,
 "nbformat_minor": 5
}
