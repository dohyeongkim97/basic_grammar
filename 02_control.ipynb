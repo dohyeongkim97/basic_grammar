{
 "cells": [
  {
   "cell_type": "markdown",
   "id": "02cc8e1f-c5ee-4479-b2b6-be4110cccbbb",
   "metadata": {},
   "source": [
    "# 제어문\n",
    "\n",
    "if문\n",
    "이하의 조건이 참이라면 문장을 실행, 그렇지 않다면 elif-else 이후의 문장을 실행"
   ]
  },
  {
   "cell_type": "code",
   "execution_count": null,
   "id": "72d9c929-6c44-48e9-8c42-e660394d8b6c",
   "metadata": {},
   "outputs": [],
   "source": [
    "today = str(input())\n",
    "\n",
    "if birthday == '12/25':\n",
    "    print('Christmas')\n",
    "else:\n",
    "    print('not christmas')\n",
    "    "
   ]
  },
  {
   "cell_type": "code",
   "execution_count": null,
   "id": "51b00a84-cba8-411b-a439-b0d782b5590e",
   "metadata": {},
   "outputs": [],
   "source": [
    "score = int(input())\n",
    "\n",
    "if score>=90:\n",
    "    print('A')\n",
    "    if score >= 95:\n",
    "        print('참 잘했어요')\n",
    "elif score >= 80:\n",
    "    print('B')\n",
    "elif score >= 70:\n",
    "    print('C')\n",
    "else:\n",
    "    print('F')"
   ]
  },
  {
   "cell_type": "code",
   "execution_count": null,
   "id": "f54530b2-769f-4de9-bb3d-9da1991460f0",
   "metadata": {},
   "outputs": [],
   "source": [
    "num = -5\n",
    "value = num if num >= 0 else 0\n",
    "print(value)"
   ]
  },
  {
   "cell_type": "markdown",
   "id": "7c6dc0f9-a167-42fc-9c2f-26a0c8d0840e",
   "metadata": {},
   "source": [
    "====="
   ]
  },
  {
   "cell_type": "code",
   "execution_count": 20,
   "id": "b88b9359-ffac-44d7-bdff-4058c518ead7",
   "metadata": {
    "tags": []
   },
   "outputs": [
    {
     "name": "stdout",
     "output_type": "stream",
     "text": [
      "0\n"
     ]
    }
   ],
   "source": [
    "num = -5\n",
    "print(num if (num >= 0) else 0)"
   ]
  },
  {
   "cell_type": "code",
   "execution_count": 21,
   "id": "7e38fb1f-b616-4dba-9cce-be3447240c80",
   "metadata": {
    "tags": []
   },
   "outputs": [
    {
     "name": "stdout",
     "output_type": "stream",
     "text": [
      "0\n"
     ]
    }
   ],
   "source": [
    "num = -5\n",
    "if num >= 0:\n",
    "    value = num\n",
    "else:\n",
    "    value = 0\n",
    "print(value)"
   ]
  },
  {
   "cell_type": "code",
   "execution_count": null,
   "id": "051e1e7a-c321-45fb-a2d4-0c2069e4fdac",
   "metadata": {},
   "outputs": [],
   "source": [
    "num = 2\n",
    "if num % 2 == 1:\n",
    "    result = '홀수'\n",
    "else:\n",
    "    result = '짝수'\n",
    "print(result)"
   ]
  },
  {
   "cell_type": "code",
   "execution_count": 22,
   "id": "b832f83a-9327-4c8a-a06b-95fab9cd2ffa",
   "metadata": {
    "tags": []
   },
   "outputs": [
    {
     "name": "stdout",
     "output_type": "stream",
     "text": [
      "짝수\n"
     ]
    }
   ],
   "source": [
    "num = 2\n",
    "result = '홀수' if num % 2 == 1 else '짝수'\n",
    "\n",
    "print(result)"
   ]
  },
  {
   "cell_type": "markdown",
   "id": "39ecb6e4-d42e-4893-9f91-4cd96e43fa9d",
   "metadata": {},
   "source": [
    "#### "
   ]
  }
 ],
 "metadata": {
  "kernelspec": {
   "display_name": "Python 3 (ipykernel)",
   "language": "python",
   "name": "python3"
  },
  "language_info": {
   "codemirror_mode": {
    "name": "ipython",
    "version": 3
   },
   "file_extension": ".py",
   "mimetype": "text/x-python",
   "name": "python",
   "nbconvert_exporter": "python",
   "pygments_lexer": "ipython3",
   "version": "3.9.7"
  }
 },
 "nbformat": 4,
 "nbformat_minor": 5
}
