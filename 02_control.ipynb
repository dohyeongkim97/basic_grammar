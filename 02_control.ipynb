{
 "cells": [
  {
   "cell_type": "markdown",
   "id": "02cc8e1f-c5ee-4479-b2b6-be4110cccbbb",
   "metadata": {},
   "source": [
    "# 제어문\n"
   ]
  },
  {
   "cell_type": "markdown",
   "id": "4b030bb9-cbf8-4fb0-a54f-6decc4266777",
   "metadata": {},
   "source": [
    "## if문\n",
    "이하의 조건이 참이라면 문장을 실행, 그렇지 않다면 elif-else 이후의 문장을 실행"
   ]
  },
  {
   "cell_type": "code",
   "execution_count": null,
   "id": "72d9c929-6c44-48e9-8c42-e660394d8b6c",
   "metadata": {},
   "outputs": [],
   "source": [
    "today = str(input())\n",
    "\n",
    "if birthday == '12/25':\n",
    "    print('Christmas')\n",
    "else:\n",
    "    print('not christmas')\n",
    "    "
   ]
  },
  {
   "cell_type": "code",
   "execution_count": null,
   "id": "51b00a84-cba8-411b-a439-b0d782b5590e",
   "metadata": {},
   "outputs": [],
   "source": [
    "score = int(input())\n",
    "\n",
    "if score>=90:\n",
    "    print('A')\n",
    "    if score >= 95:\n",
    "        print('참 잘했어요')\n",
    "elif score >= 80:\n",
    "    print('B')\n",
    "elif score >= 70:\n",
    "    print('C')\n",
    "else:\n",
    "    print('F')"
   ]
  },
  {
   "cell_type": "code",
   "execution_count": null,
   "id": "f54530b2-769f-4de9-bb3d-9da1991460f0",
   "metadata": {},
   "outputs": [],
   "source": [
    "num = -5\n",
    "value = num if num >= 0 else 0\n",
    "print(value)"
   ]
  },
  {
   "cell_type": "markdown",
   "id": "7c6dc0f9-a167-42fc-9c2f-26a0c8d0840e",
   "metadata": {},
   "source": [
    "====="
   ]
  },
  {
   "cell_type": "code",
   "execution_count": 20,
   "id": "b88b9359-ffac-44d7-bdff-4058c518ead7",
   "metadata": {
    "tags": []
   },
   "outputs": [
    {
     "name": "stdout",
     "output_type": "stream",
     "text": [
      "0\n"
     ]
    }
   ],
   "source": [
    "num = -5\n",
    "print(num if (num >= 0) else 0)"
   ]
  },
  {
   "cell_type": "code",
   "execution_count": 21,
   "id": "7e38fb1f-b616-4dba-9cce-be3447240c80",
   "metadata": {
    "tags": []
   },
   "outputs": [
    {
     "name": "stdout",
     "output_type": "stream",
     "text": [
      "0\n"
     ]
    }
   ],
   "source": [
    "num = -5\n",
    "if num >= 0:\n",
    "    value = num\n",
    "else:\n",
    "    value = 0\n",
    "print(value)"
   ]
  },
  {
   "cell_type": "code",
   "execution_count": null,
   "id": "051e1e7a-c321-45fb-a2d4-0c2069e4fdac",
   "metadata": {},
   "outputs": [],
   "source": [
    "num = 2\n",
    "if num % 2 == 1:\n",
    "    result = '홀수'\n",
    "else:\n",
    "    result = '짝수'\n",
    "print(result)"
   ]
  },
  {
   "cell_type": "code",
   "execution_count": 22,
   "id": "b832f83a-9327-4c8a-a06b-95fab9cd2ffa",
   "metadata": {
    "tags": []
   },
   "outputs": [
    {
     "name": "stdout",
     "output_type": "stream",
     "text": [
      "짝수\n"
     ]
    }
   ],
   "source": [
    "num = 2\n",
    "result = '홀수' if num % 2 == 1 else '짝수'\n",
    "\n",
    "print(result)"
   ]
  },
  {
   "cell_type": "markdown",
   "id": "58606512-3821-4360-8565-ab722514c849",
   "metadata": {},
   "source": [
    "## while문\n",
    "\n",
    "\n",
    "```python\n",
    "while <조건식>:\n",
    "    실행할 코드\n",
    "```"
   ]
  },
  {
   "cell_type": "code",
   "execution_count": 1,
   "id": "7dfdb886-2715-4e5d-a1b6-fb495786d39f",
   "metadata": {
    "tags": []
   },
   "outputs": [
    {
     "name": "stdout",
     "output_type": "stream",
     "text": [
      "0\n",
      "1\n",
      "2\n",
      "3\n",
      "4\n"
     ]
    }
   ],
   "source": [
    "a = 0\n",
    "while a < 5:\n",
    "    print(a)\n",
    "    a += 1"
   ]
  },
  {
   "cell_type": "code",
   "execution_count": null,
   "id": "d6ed29ab-0aa1-45e8-b526-12f772a82714",
   "metadata": {},
   "outputs": [],
   "source": [
    "# 사용자가 \"안녕\"이라고 할 때까지 계속 입력을 요청받는 코드"
   ]
  },
  {
   "cell_type": "code",
   "execution_count": 9,
   "id": "e84bffaf-2395-4c0f-b584-474d9811b762",
   "metadata": {
    "tags": []
   },
   "outputs": [],
   "source": [
    "import time"
   ]
  },
  {
   "cell_type": "code",
   "execution_count": 10,
   "id": "65515724-4a94-44f1-a0c2-c70e6e4e4f9c",
   "metadata": {
    "tags": []
   },
   "outputs": [
    {
     "name": "stdin",
     "output_type": "stream",
     "text": [
      "안녕이라고 해 줘: 안녕\n"
     ]
    }
   ],
   "source": [
    "greeting = ''\n",
    "\n",
    "while greeting != '안녕':\n",
    "    greeting = input('안녕이라고 해 줘:')"
   ]
  },
  {
   "cell_type": "code",
   "execution_count": 11,
   "id": "34c47e22-accd-4847-b08f-77c5ed0542d3",
   "metadata": {
    "tags": []
   },
   "outputs": [
    {
     "name": "stdout",
     "output_type": "stream",
     "text": [
      "안녕이라고 해 줘\n"
     ]
    },
    {
     "name": "stdin",
     "output_type": "stream",
     "text": [
      " d\n"
     ]
    },
    {
     "name": "stdout",
     "output_type": "stream",
     "text": [
      "안녕이라고 해 줘\n"
     ]
    },
    {
     "name": "stdin",
     "output_type": "stream",
     "text": [
      " a\n"
     ]
    },
    {
     "name": "stdout",
     "output_type": "stream",
     "text": [
      "안녕이라고 해 줘\n"
     ]
    },
    {
     "name": "stdin",
     "output_type": "stream",
     "text": [
      " sd\n"
     ]
    },
    {
     "name": "stdout",
     "output_type": "stream",
     "text": [
      "안녕이라고 해 줘\n"
     ]
    },
    {
     "name": "stdin",
     "output_type": "stream",
     "text": [
      " \n"
     ]
    },
    {
     "name": "stdout",
     "output_type": "stream",
     "text": [
      "안녕이라고 해 줘\n"
     ]
    },
    {
     "name": "stdin",
     "output_type": "stream",
     "text": [
      " f\n"
     ]
    },
    {
     "name": "stdout",
     "output_type": "stream",
     "text": [
      "안녕이라고 해 줘\n"
     ]
    },
    {
     "name": "stdin",
     "output_type": "stream",
     "text": [
      " \n"
     ]
    },
    {
     "name": "stdout",
     "output_type": "stream",
     "text": [
      "안녕이라고 해 줘\n"
     ]
    },
    {
     "name": "stdin",
     "output_type": "stream",
     "text": [
      " 안녕\n"
     ]
    }
   ],
   "source": [
    "hi = ''\n",
    "while hi != '안녕':\n",
    "    print('안녕이라고 해 줘')\n",
    "    hi = input()"
   ]
  },
  {
   "cell_type": "markdown",
   "id": "6580b722-14fa-447a-b01e-40495b984401",
   "metadata": {},
   "source": [
    "## for\n",
    "\n",
    "for variable in sequence:\n",
    "    code\n",
    "    \n"
   ]
  },
  {
   "cell_type": "code",
   "execution_count": 16,
   "id": "8fa36918-0f66-4f25-9684-d17adc856463",
   "metadata": {
    "tags": []
   },
   "outputs": [
    {
     "name": "stdout",
     "output_type": "stream",
     "text": [
      "1\n",
      "2\n",
      "3\n",
      "4\n",
      "5\n"
     ]
    }
   ],
   "source": [
    "numbers = [1, 2, 3, 4, 5]\n",
    "\n",
    "for number in numbers:\n",
    "    print(n)"
   ]
  },
  {
   "cell_type": "code",
   "execution_count": 17,
   "id": "aba0cc12-81bc-45e3-b15d-ab47eec366e3",
   "metadata": {
    "tags": []
   },
   "outputs": [],
   "source": [
    "# for 문을 사용하여 사용자가 입력한 데이터를 한 글자씩 출력"
   ]
  },
  {
   "cell_type": "code",
   "execution_count": 35,
   "id": "d3e58b5c-fcdd-4bb7-a107-88eb4bf7f660",
   "metadata": {
    "tags": []
   },
   "outputs": [
    {
     "name": "stdin",
     "output_type": "stream",
     "text": [
      " python\n"
     ]
    },
    {
     "name": "stdout",
     "output_type": "stream",
     "text": [
      "P\n",
      "Y\n",
      "T\n",
      "H\n",
      "O\n",
      "N\n"
     ]
    }
   ],
   "source": [
    "data = input()\n",
    "\n",
    "for alphabet in data:\n",
    "    print(alphabet.upper())"
   ]
  },
  {
   "cell_type": "code",
   "execution_count": 36,
   "id": "9204f8dc-cfe2-4bf7-a9b6-ab9938817ddf",
   "metadata": {
    "tags": []
   },
   "outputs": [
    {
     "name": "stdout",
     "output_type": "stream",
     "text": [
      "0\n",
      "1\n",
      "2\n",
      "3\n",
      "4\n"
     ]
    }
   ],
   "source": [
    "for i in range(5):\n",
    "    print(i)"
   ]
  },
  {
   "cell_type": "code",
   "execution_count": 38,
   "id": "ff7c25f9-36fa-40ca-8f6b-e3ec62f33563",
   "metadata": {
    "tags": []
   },
   "outputs": [
    {
     "name": "stdout",
     "output_type": "stream",
     "text": [
      "1\n",
      "2\n",
      "3\n",
      "4\n",
      "5\n"
     ]
    }
   ],
   "source": [
    "for i in (1, 2, 3, 4, 5):\n",
    "    print(i)"
   ]
  },
  {
   "cell_type": "code",
   "execution_count": 39,
   "id": "08c9a6e5-5548-417d-9a5f-62fb1e6ed9c6",
   "metadata": {
    "tags": []
   },
   "outputs": [],
   "source": [
    "# 1부터 30까지 숫자 중 홀수만 담긴 리스트 출력"
   ]
  },
  {
   "cell_type": "code",
   "execution_count": 42,
   "id": "5de8bd5f-388e-4fd1-bc1e-47d6d36d9ed7",
   "metadata": {
    "tags": []
   },
   "outputs": [
    {
     "name": "stdout",
     "output_type": "stream",
     "text": [
      "1\n",
      "3\n",
      "5\n",
      "7\n",
      "9\n",
      "11\n",
      "13\n",
      "15\n",
      "17\n",
      "19\n",
      "21\n",
      "23\n",
      "25\n",
      "27\n",
      "29\n",
      "[1, 3, 5, 7, 9, 11, 13, 15, 17, 19, 21, 23, 25, 27, 29]\n"
     ]
    }
   ],
   "source": [
    "lt = []\n",
    "for n in range(0, 31):\n",
    "    if n % 2 == 1:\n",
    "        lt.append(n)\n",
    "        print(n)\n",
    "    else:\n",
    "        continue\n",
    "        \n",
    "print(lt)"
   ]
  },
  {
   "cell_type": "code",
   "execution_count": null,
   "id": "f2bd30a2-e85b-4d7b-abe5-7ae3265580a3",
   "metadata": {},
   "outputs": [],
   "source": [
    "# Enumerate : 순번 정보를 가진 튜플 형태의 sequence data로 변환해주는 함수"
   ]
  },
  {
   "cell_type": "code",
   "execution_count": 43,
   "id": "9ccd6a61-00b6-4079-b2b2-d862e88ea658",
   "metadata": {
    "tags": []
   },
   "outputs": [],
   "source": [
    "menus = ['돈까스', '치킨', '피자', '보쌈']"
   ]
  },
  {
   "cell_type": "code",
   "execution_count": 45,
   "id": "4c799dbd-d5a0-412b-b2db-98dfcebbb439",
   "metadata": {
    "tags": []
   },
   "outputs": [
    {
     "name": "stdout",
     "output_type": "stream",
     "text": [
      "(0, '돈까스')\n",
      "(1, '치킨')\n",
      "(2, '피자')\n",
      "(3, '보쌈')\n"
     ]
    }
   ],
   "source": [
    "for menu in enumerate(menus):\n",
    "    print(menu)"
   ]
  },
  {
   "cell_type": "code",
   "execution_count": 49,
   "id": "bdcd3b65-95ad-43ee-b140-cda28340cadc",
   "metadata": {
    "tags": []
   },
   "outputs": [
    {
     "name": "stdout",
     "output_type": "stream",
     "text": [
      "0\n",
      "돈까스\n",
      "1\n",
      "치킨\n",
      "2\n",
      "피자\n",
      "3\n",
      "보쌈\n"
     ]
    }
   ],
   "source": [
    "for idx, menu in enumerate(menus):\n",
    "    print(idx)\n",
    "    print(menu)"
   ]
  },
  {
   "cell_type": "code",
   "execution_count": 51,
   "id": "77f8052d-5d7c-4847-aa3c-10f70475ad36",
   "metadata": {
    "tags": []
   },
   "outputs": [
    {
     "name": "stdout",
     "output_type": "stream",
     "text": [
      "0\n",
      "돈까스\n",
      "1\n",
      "치킨\n",
      "2\n",
      "피자\n",
      "3\n",
      "보쌈\n"
     ]
    }
   ],
   "source": [
    "for menu in enumerate(menus):\n",
    "    print(menu[0])\n",
    "    print(menu[1])"
   ]
  },
  {
   "cell_type": "markdown",
   "id": "da490016-32c2-4a31-a66d-3e198c3c0dba",
   "metadata": {},
   "source": [
    "## dictionary roof\n",
    "\n",
    "1. for key in dict:\n",
    "2. for key in dict.keys():\n",
    "3. for value in dict.values():\n",
    "4. for key, value in dict.items()"
   ]
  },
  {
   "cell_type": "code",
   "execution_count": 53,
   "id": "d0791c5e-800e-4c3d-91e2-4a58f0cc8de9",
   "metadata": {
    "tags": []
   },
   "outputs": [],
   "source": [
    "info = {\n",
    "    'name' : 'kdh',\n",
    "    'location' : 'seoul',\n",
    "    'mobile' : '010-3354-0745'\n",
    "}"
   ]
  },
  {
   "cell_type": "code",
   "execution_count": 62,
   "id": "59264f51-c753-48e8-96df-1c42359f6591",
   "metadata": {
    "tags": []
   },
   "outputs": [
    {
     "name": "stdout",
     "output_type": "stream",
     "text": [
      "name : kdh\n",
      "location : seoul\n",
      "mobile : 010-3354-0745\n"
     ]
    }
   ],
   "source": [
    "for i in info:\n",
    "    print(\"{0} : {1}\".format(i, info[i]))"
   ]
  },
  {
   "cell_type": "code",
   "execution_count": 66,
   "id": "a097263c-be7b-4743-a7a5-1d0334e5e611",
   "metadata": {
    "tags": []
   },
   "outputs": [],
   "source": [
    "blood_type = {\n",
    "    'A' : 5,\n",
    "    'B' : 4,\n",
    "    'O' : 2,\n",
    "    'AB' : 3\n",
    "}"
   ]
  },
  {
   "cell_type": "code",
   "execution_count": 69,
   "id": "afa154a1-c26b-4080-af79-a17d017fed3d",
   "metadata": {
    "tags": []
   },
   "outputs": [
    {
     "name": "stdout",
     "output_type": "stream",
     "text": [
      "bloodtype is :A\n",
      "bloodtype is :B\n",
      "bloodtype is :O\n",
      "bloodtype is :AB\n"
     ]
    }
   ],
   "source": [
    "for key in blood_type:\n",
    "    print('bloodtype is :{}'.format(key))"
   ]
  },
  {
   "cell_type": "code",
   "execution_count": 70,
   "id": "21186817-52fc-4c3e-86e5-87908134fe28",
   "metadata": {
    "tags": []
   },
   "outputs": [
    {
     "name": "stdout",
     "output_type": "stream",
     "text": [
      "A\n",
      "B\n",
      "O\n",
      "AB\n"
     ]
    }
   ],
   "source": [
    "for key in blood_type.keys():\n",
    "    print(key)"
   ]
  },
  {
   "cell_type": "code",
   "execution_count": 72,
   "id": "fd41f9ce-9988-428d-906e-1ac534280891",
   "metadata": {
    "tags": []
   },
   "outputs": [
    {
     "name": "stdout",
     "output_type": "stream",
     "text": [
      "the number of each blood type: 5\n",
      "the number of each blood type: 4\n",
      "the number of each blood type: 2\n",
      "the number of each blood type: 3\n"
     ]
    }
   ],
   "source": [
    "for value in blood_type.values():\n",
    "    print('the number of each blood type: {}'.format(value))"
   ]
  },
  {
   "cell_type": "code",
   "execution_count": 75,
   "id": "14cddbc8-a757-4e89-9b0d-4824610fbe2a",
   "metadata": {
    "tags": []
   },
   "outputs": [
    {
     "name": "stdout",
     "output_type": "stream",
     "text": [
      "총 인원 : 14명\n"
     ]
    }
   ],
   "source": [
    "result = 0\n",
    "for value in blood_type.values():\n",
    "    result += value\n",
    "print(\"총 인원 : {}명\".format(result))"
   ]
  },
  {
   "cell_type": "code",
   "execution_count": 76,
   "id": "266d108e-5edd-4f8b-a92e-2fd6c31b85c0",
   "metadata": {
    "tags": []
   },
   "outputs": [
    {
     "name": "stdout",
     "output_type": "stream",
     "text": [
      "A 5\n",
      "B 4\n",
      "O 2\n",
      "AB 3\n"
     ]
    }
   ],
   "source": [
    "for key, value in blood_type.items():\n",
    "    print(key, value)"
   ]
  },
  {
   "cell_type": "code",
   "execution_count": 77,
   "id": "c9a4fb18-c160-49b7-8633-9aae23fc5b73",
   "metadata": {
    "tags": []
   },
   "outputs": [
    {
     "name": "stdout",
     "output_type": "stream",
     "text": [
      "A type is 5\n",
      "B type is 4\n",
      "O type is 2\n",
      "AB type is 3\n"
     ]
    }
   ],
   "source": [
    "for key, value in blood_type.items():\n",
    "    print('{} type is {}'.format(key, value))"
   ]
  },
  {
   "cell_type": "markdown",
   "id": "f86776c9-2d52-4934-9533-e3b33ed30341",
   "metadata": {},
   "source": [
    "## break\n",
    "\n",
    "반복문의 종료 키워드"
   ]
  },
  {
   "cell_type": "code",
   "execution_count": 81,
   "id": "0693bd3c-f1c3-4644-b741-a6e94f0cd9e6",
   "metadata": {
    "tags": []
   },
   "outputs": [
    {
     "name": "stdout",
     "output_type": "stream",
     "text": [
      "0\n",
      "1\n",
      "2\n",
      "3\n",
      "4\n",
      "5\n",
      "6\n",
      "7\n",
      "8\n",
      "9\n",
      "10\n",
      "over 10\n"
     ]
    }
   ],
   "source": [
    "for i in range(100):\n",
    "    print(i)\n",
    "    if i >= 10:\n",
    "        print('over 10')\n",
    "        break"
   ]
  },
  {
   "cell_type": "code",
   "execution_count": 83,
   "id": "87601b22-f736-41b2-8af8-f6055c1826f1",
   "metadata": {
    "tags": []
   },
   "outputs": [
    {
     "name": "stdout",
     "output_type": "stream",
     "text": [
      "보리\n",
      "보리\n",
      "보리\n",
      "쌀\n",
      "잡았다\n"
     ]
    }
   ],
   "source": [
    "rice = ['보리', '보리', '보리', '쌀', '보리', '보리']\n",
    "\n",
    "for i in rice:\n",
    "    print(i)\n",
    "    if i == '쌀':\n",
    "        print('잡았다')\n",
    "        break"
   ]
  },
  {
   "cell_type": "markdown",
   "id": "f2c0064c-041e-4d46-8d41-f213e61e5173",
   "metadata": {
    "tags": []
   },
   "source": [
    "## continue\n",
    "\n",
    "continue 이후의 코드를 실행하지 아니하고 다음 루프로 직행"
   ]
  },
  {
   "cell_type": "code",
   "execution_count": 86,
   "id": "24c68ea1-0be7-4542-b66f-083fd4d67907",
   "metadata": {
    "tags": []
   },
   "outputs": [
    {
     "name": "stdout",
     "output_type": "stream",
     "text": [
      "0\n",
      "2\n",
      "4\n",
      "6\n",
      "8\n"
     ]
    }
   ],
   "source": [
    "for i in range(10):\n",
    "    if i % 2 :\n",
    "        continue\n",
    "    else:\n",
    "        print(i)"
   ]
  },
  {
   "cell_type": "code",
   "execution_count": 90,
   "id": "478eefbb-a800-4526-893b-ed99e3d31448",
   "metadata": {
    "tags": []
   },
   "outputs": [
    {
     "name": "stdout",
     "output_type": "stream",
     "text": [
      "35세, 성인입니다\n",
      "20세, 성인입니다\n",
      "40세, 성인입니다\n"
     ]
    }
   ],
   "source": [
    "age = [10, 35, 20, 18, 9, 40]\n",
    "\n",
    "for a in age:\n",
    "    if a < 20:\n",
    "        continue\n",
    "    else:\n",
    "        print(f'{a}세, 성인입니다')"
   ]
  },
  {
   "cell_type": "markdown",
   "id": "b7847de6-7b2e-49f4-b80d-f5dcf7c603b2",
   "metadata": {},
   "source": [
    "## else:\n",
    "else문은 반복문이 끝까지 실행된 후 실행"
   ]
  },
  {
   "cell_type": "code",
   "execution_count": 91,
   "id": "f4213d3c-7e20-4e62-b36c-fd86adaced25",
   "metadata": {
    "tags": []
   },
   "outputs": [
    {
     "name": "stdout",
     "output_type": "stream",
     "text": [
      "0\n",
      "1\n",
      "2\n",
      "3\n",
      "4\n",
      "5\n"
     ]
    }
   ],
   "source": [
    "for i in range(10):\n",
    "    if i > 5:\n",
    "        break\n",
    "    print(i)\n",
    "else:\n",
    "    print('break unseen')"
   ]
  },
  {
   "cell_type": "code",
   "execution_count": 103,
   "id": "e1f26da6-7458-472c-8dda-d3793e3acf2d",
   "metadata": {
    "tags": []
   },
   "outputs": [
    {
     "name": "stdout",
     "output_type": "stream",
     "text": [
      "True\n"
     ]
    }
   ],
   "source": [
    "numbers = [1, 3, 5, 7, 9]\n",
    "print(3 in numbers)"
   ]
  },
  {
   "cell_type": "code",
   "execution_count": 99,
   "id": "8301f58a-4ec0-42c3-b443-d4cc166f6cd8",
   "metadata": {
    "tags": []
   },
   "outputs": [
    {
     "name": "stdout",
     "output_type": "stream",
     "text": [
      "True\n"
     ]
    }
   ],
   "source": [
    "for n in numbers:\n",
    "    if n == 3:\n",
    "        print(True)\n",
    "        break\n",
    "    else:\n",
    "        continue"
   ]
  },
  {
   "cell_type": "code",
   "execution_count": 100,
   "id": "21543c46-06fd-4159-a74f-9a1d6ab57ebd",
   "metadata": {
    "tags": []
   },
   "outputs": [
    {
     "name": "stdout",
     "output_type": "stream",
     "text": [
      "False\n"
     ]
    }
   ],
   "source": [
    "for n in numbers:\n",
    "    if n == 2:\n",
    "        print(True)\n",
    "        break\n",
    "else:\n",
    "    print(False)\n",
    "        "
   ]
  },
  {
   "cell_type": "code",
   "execution_count": 104,
   "id": "a7b102b2-690d-48ab-b6ff-1d9391d23095",
   "metadata": {
    "tags": []
   },
   "outputs": [
    {
     "name": "stdout",
     "output_type": "stream",
     "text": [
      "True\n"
     ]
    }
   ],
   "source": [
    "for n in numbers:\n",
    "    if n !=3 :\n",
    "        pass\n",
    "    else:\n",
    "        print(True)"
   ]
  },
  {
   "cell_type": "code",
   "execution_count": 105,
   "id": "d939a8c2-d8d0-4a69-bbee-9a2640579300",
   "metadata": {
    "tags": []
   },
   "outputs": [
    {
     "name": "stdout",
     "output_type": "stream",
     "text": [
      "False\n"
     ]
    }
   ],
   "source": [
    "target = 4\n",
    "\n",
    "for number in numbers:\n",
    "    if number == target:\n",
    "        print(True)\n",
    "        break\n",
    "else:\n",
    "    print(False)"
   ]
  },
  {
   "cell_type": "markdown",
   "id": "530a981d-dda7-49aa-9f9c-3f7e847ecde2",
   "metadata": {},
   "source": [
    "## pass\n",
    "\n",
    "코드 구조를 잡을 때 사용.\n",
    "\n",
    "```python\n",
    "if True:\n",
    "    <= syntax error occurs\n",
    "```\n",
    "\n",
    "```python\n",
    "if True:\n",
    "    pass\n",
    "``` <= profit!\n",
    "\n"
   ]
  },
  {
   "cell_type": "markdown",
   "id": "803790fb-6046-44e4-a26e-ff9f92676ccc",
   "metadata": {},
   "source": [
    "## match statement\n",
    "\n",
    "파이썬 3.10 이후 버전에서 추가됨.\n",
    "\n",
    "\n",
    "```python\n",
    "match value:\n",
    "    case condition:\n",
    "        code\n",
    "    case condition:\n",
    "        code\n",
    "    case _:\n",
    "        code\n",
    "```\n",
    "\n",
    "특정 조건에서 해당 값과 일치하는 값이 있다면 코드를 실행"
   ]
  },
  {
   "cell_type": "code",
   "execution_count": 106,
   "id": "1a0e9a31-741c-4ce9-af28-85173a6b1c0f",
   "metadata": {
    "tags": []
   },
   "outputs": [
    {
     "ename": "SyntaxError",
     "evalue": "invalid syntax (4189064375.py, line 3)",
     "output_type": "error",
     "traceback": [
      "\u001b[1;36m  Cell \u001b[1;32mIn[106], line 3\u001b[1;36m\u001b[0m\n\u001b[1;33m    match status:\u001b[0m\n\u001b[1;37m          ^\u001b[0m\n\u001b[1;31mSyntaxError\u001b[0m\u001b[1;31m:\u001b[0m invalid syntax\n"
     ]
    }
   ],
   "source": [
    "status = 100\n",
    "\n",
    "match status:\n",
    "    case 400:\n",
    "        print('bad request')\n",
    "    case 404:\n",
    "        print('not found')\n",
    "    case _:\n",
    "        print('something is wrong')"
   ]
  },
  {
   "cell_type": "code",
   "execution_count": 108,
   "id": "1dfd56f7-2efd-420a-b997-54fa5c6abe6c",
   "metadata": {
    "tags": []
   },
   "outputs": [
    {
     "data": {
      "text/plain": [
       "'3.9.7 (default, Sep 16 2021, 16:59:28) [MSC v.1916 64 bit (AMD64)]'"
      ]
     },
     "execution_count": 108,
     "metadata": {},
     "output_type": "execute_result"
    }
   ],
   "source": [
    "import sys\n",
    "sys.version"
   ]
  },
  {
   "cell_type": "code",
   "execution_count": null,
   "id": "bae6b962-d627-49bf-949d-248d200c59c9",
   "metadata": {},
   "outputs": [],
   "source": []
  }
 ],
 "metadata": {
  "kernelspec": {
   "display_name": "Python 3 (ipykernel)",
   "language": "python",
   "name": "python3"
  },
  "language_info": {
   "codemirror_mode": {
    "name": "ipython",
    "version": 3
   },
   "file_extension": ".py",
   "mimetype": "text/x-python",
   "name": "python",
   "nbconvert_exporter": "python",
   "pygments_lexer": "ipython3",
   "version": "3.9.7"
  }
 },
 "nbformat": 4,
 "nbformat_minor": 5
}
